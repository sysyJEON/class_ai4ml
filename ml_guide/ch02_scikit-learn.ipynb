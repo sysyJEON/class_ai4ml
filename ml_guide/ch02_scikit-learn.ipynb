{
  "nbformat": 4,
  "nbformat_minor": 0,
  "metadata": {
    "colab": {
      "provenance": [],
      "authorship_tag": "ABX9TyMAH2YQaOVOMqJMElZJ093l",
      "include_colab_link": true
    },
    "kernelspec": {
      "name": "python3",
      "display_name": "Python 3"
    },
    "language_info": {
      "name": "python"
    }
  },
  "cells": [
    {
      "cell_type": "markdown",
      "metadata": {
        "id": "view-in-github",
        "colab_type": "text"
      },
      "source": [
        "<a href=\"https://colab.research.google.com/github/sysyJEON/class_ai4ml/blob/main/ml_guide/ch02_scikit-learn.ipynb\" target=\"_parent\"><img src=\"https://colab.research.google.com/assets/colab-badge.svg\" alt=\"Open In Colab\"/></a>"
      ]
    },
    {
      "cell_type": "markdown",
      "source": [
        "# 2장 사이킷런으로 시작하는 머신러닝"
      ],
      "metadata": {
        "id": "kGxqprs_aJTs"
      }
    },
    {
      "cell_type": "markdown",
      "source": [
        "## 2.2 붓꽃 품종 예측하기"
      ],
      "metadata": {
        "id": "uBg2EFc2aOjm"
      }
    },
    {
      "cell_type": "markdown",
      "source": [
        "- 붓꽃 데이터 세트로 붓꽃의 품종을 분류(Classification)하는 머신러닝 모델\n",
        "\n",
        "- 붓꽃 데이터 세트: 꽃잎의 길이와 너비, 꽃받침의 길이와 너비 피처(Feature)"
      ],
      "metadata": {
        "id": "hCguchZqcC2C"
      }
    },
    {
      "cell_type": "markdown",
      "source": [
        "분류(Classification): 지도학습(Supervised Learning) 방법의 하나\n",
        "\n",
        "- 지도학습: 학습을 위한 다양한 피처와 분류 결정값인 레이블(Label) 데이터로 모델을 학습한 뒤, 별도의 테스트 데이터 세트에서 미지의 레이블 예측. (학습 데이터 세트로 학습, 테스트 데이터 세트로 모델 예측 성능 평가)"
      ],
      "metadata": {
        "id": "B0Jt9Q1GaWMi"
      }
    },
    {
      "cell_type": "markdown",
      "source": [
        "### 사이킷런 패키지 모듈"
      ],
      "metadata": {
        "id": "X2ULugKsacNG"
      }
    },
    {
      "cell_type": "markdown",
      "source": [
        "- `sklearn.datasets`: 사이킷런에서 자체적으로 제공하는 데이터 세트를 생성하는 모듈의 모임\n",
        "    - `load_iris()`: 붓꽃 데이터 세트 생성\n",
        "- `sklearn.tree`: 트리 기반 ML 알고리즘을 구현한 클래스의 모임\n",
        "    - `DecisionTreeClassifier`: 의사결정 트리(Decision Tree) 알고리즘\n",
        "- `sklearn.model_selection`: 학습 데이터와 검증 데이터, 예측 데이터로 데이터를 분리하거나 최적의 하이퍼 파라미터로 평가하기 위한 다양한 모듈의 모임\n",
        "    - 하이퍼 파라미터: 최적의 학습을 위해 직접 입력하는 파라미터. 머신러닝 알고리즘의 성능 튜닝 가능.\n",
        "    - `train_test_split()`: 데이터 세트를 학습 데이터와 테스트 데이터로 분리"
      ],
      "metadata": {
        "id": "HhAsv_nfcA2G"
      }
    },
    {
      "cell_type": "code",
      "execution_count": null,
      "metadata": {
        "id": "rmPR-AM3ZcrH"
      },
      "outputs": [],
      "source": [
        "from sklearn.datasets import load_iris\n",
        "from sklearn.tree import DecisionTreeClassifier\n",
        "from sklearn.model_selection import train_test_split"
      ]
    },
    {
      "cell_type": "markdown",
      "source": [
        "### 붓꽃 데이터 세트"
      ],
      "metadata": {
        "id": "dygyVdGxbnNf"
      }
    },
    {
      "cell_type": "code",
      "source": [
        "import pandas as pd\n",
        "\n",
        "# 붓꽃 데이터 세트를 로딩합니다.\n",
        "iris = load_iris()\n",
        "\n",
        "# iris.data는 Iris 데이터 세트에서 피처(feature)만으로 된 데이터를 numpy로 가지고 있습니다.\n",
        "iris_data = iris.data\n",
        "\n",
        "# iris.target은 붓꽃 데이터 세트에서 레이블(결정 값) 데이터를 numpy로 가지고 있습니다.\n",
        "iris_label = iris.target\n",
        "print('iris target값:', iris_label)\n",
        "print('iris target명:', iris.target_names)\n"
      ],
      "metadata": {
        "colab": {
          "base_uri": "https://localhost:8080/"
        },
        "id": "n6Nkganpaabz",
        "outputId": "0bb86dbf-8d73-46a5-f545-1f3a807c91d2"
      },
      "execution_count": null,
      "outputs": [
        {
          "output_type": "stream",
          "name": "stdout",
          "text": [
            "iris target값: [0 0 0 0 0 0 0 0 0 0 0 0 0 0 0 0 0 0 0 0 0 0 0 0 0 0 0 0 0 0 0 0 0 0 0 0 0\n",
            " 0 0 0 0 0 0 0 0 0 0 0 0 0 1 1 1 1 1 1 1 1 1 1 1 1 1 1 1 1 1 1 1 1 1 1 1 1\n",
            " 1 1 1 1 1 1 1 1 1 1 1 1 1 1 1 1 1 1 1 1 1 1 1 1 1 1 2 2 2 2 2 2 2 2 2 2 2\n",
            " 2 2 2 2 2 2 2 2 2 2 2 2 2 2 2 2 2 2 2 2 2 2 2 2 2 2 2 2 2 2 2 2 2 2 2 2 2\n",
            " 2 2]\n",
            "iris target명: ['setosa' 'versicolor' 'virginica']\n"
          ]
        }
      ]
    },
    {
      "cell_type": "code",
      "source": [
        "# 붓꽃 데이터 세트를 자세히 보기 위해 DataFrame으로 변환합니다.\n",
        "iris_df = pd.DataFrame(data=iris_data, columns=iris.feature_names)\n",
        "iris_df['label'] = iris.target\n",
        "iris_df.head(3)"
      ],
      "metadata": {
        "colab": {
          "base_uri": "https://localhost:8080/",
          "height": 143
        },
        "id": "AFATQYx6akMy",
        "outputId": "871c4c26-20bf-4921-8533-e06d51d0f767"
      },
      "execution_count": null,
      "outputs": [
        {
          "output_type": "execute_result",
          "data": {
            "text/plain": [
              "   sepal length (cm)  sepal width (cm)  petal length (cm)  petal width (cm)  \\\n",
              "0                5.1               3.5                1.4               0.2   \n",
              "1                4.9               3.0                1.4               0.2   \n",
              "2                4.7               3.2                1.3               0.2   \n",
              "\n",
              "   label  \n",
              "0      0  \n",
              "1      0  \n",
              "2      0  "
            ],
            "text/html": [
              "\n",
              "  <div id=\"df-99deeac3-75f0-4612-accd-6d9d1d291f98\" class=\"colab-df-container\">\n",
              "    <div>\n",
              "<style scoped>\n",
              "    .dataframe tbody tr th:only-of-type {\n",
              "        vertical-align: middle;\n",
              "    }\n",
              "\n",
              "    .dataframe tbody tr th {\n",
              "        vertical-align: top;\n",
              "    }\n",
              "\n",
              "    .dataframe thead th {\n",
              "        text-align: right;\n",
              "    }\n",
              "</style>\n",
              "<table border=\"1\" class=\"dataframe\">\n",
              "  <thead>\n",
              "    <tr style=\"text-align: right;\">\n",
              "      <th></th>\n",
              "      <th>sepal length (cm)</th>\n",
              "      <th>sepal width (cm)</th>\n",
              "      <th>petal length (cm)</th>\n",
              "      <th>petal width (cm)</th>\n",
              "      <th>label</th>\n",
              "    </tr>\n",
              "  </thead>\n",
              "  <tbody>\n",
              "    <tr>\n",
              "      <th>0</th>\n",
              "      <td>5.1</td>\n",
              "      <td>3.5</td>\n",
              "      <td>1.4</td>\n",
              "      <td>0.2</td>\n",
              "      <td>0</td>\n",
              "    </tr>\n",
              "    <tr>\n",
              "      <th>1</th>\n",
              "      <td>4.9</td>\n",
              "      <td>3.0</td>\n",
              "      <td>1.4</td>\n",
              "      <td>0.2</td>\n",
              "      <td>0</td>\n",
              "    </tr>\n",
              "    <tr>\n",
              "      <th>2</th>\n",
              "      <td>4.7</td>\n",
              "      <td>3.2</td>\n",
              "      <td>1.3</td>\n",
              "      <td>0.2</td>\n",
              "      <td>0</td>\n",
              "    </tr>\n",
              "  </tbody>\n",
              "</table>\n",
              "</div>\n",
              "    <div class=\"colab-df-buttons\">\n",
              "\n",
              "  <div class=\"colab-df-container\">\n",
              "    <button class=\"colab-df-convert\" onclick=\"convertToInteractive('df-99deeac3-75f0-4612-accd-6d9d1d291f98')\"\n",
              "            title=\"Convert this dataframe to an interactive table.\"\n",
              "            style=\"display:none;\">\n",
              "\n",
              "  <svg xmlns=\"http://www.w3.org/2000/svg\" height=\"24px\" viewBox=\"0 -960 960 960\">\n",
              "    <path d=\"M120-120v-720h720v720H120Zm60-500h600v-160H180v160Zm220 220h160v-160H400v160Zm0 220h160v-160H400v160ZM180-400h160v-160H180v160Zm440 0h160v-160H620v160ZM180-180h160v-160H180v160Zm440 0h160v-160H620v160Z\"/>\n",
              "  </svg>\n",
              "    </button>\n",
              "\n",
              "  <style>\n",
              "    .colab-df-container {\n",
              "      display:flex;\n",
              "      gap: 12px;\n",
              "    }\n",
              "\n",
              "    .colab-df-convert {\n",
              "      background-color: #E8F0FE;\n",
              "      border: none;\n",
              "      border-radius: 50%;\n",
              "      cursor: pointer;\n",
              "      display: none;\n",
              "      fill: #1967D2;\n",
              "      height: 32px;\n",
              "      padding: 0 0 0 0;\n",
              "      width: 32px;\n",
              "    }\n",
              "\n",
              "    .colab-df-convert:hover {\n",
              "      background-color: #E2EBFA;\n",
              "      box-shadow: 0px 1px 2px rgba(60, 64, 67, 0.3), 0px 1px 3px 1px rgba(60, 64, 67, 0.15);\n",
              "      fill: #174EA6;\n",
              "    }\n",
              "\n",
              "    .colab-df-buttons div {\n",
              "      margin-bottom: 4px;\n",
              "    }\n",
              "\n",
              "    [theme=dark] .colab-df-convert {\n",
              "      background-color: #3B4455;\n",
              "      fill: #D2E3FC;\n",
              "    }\n",
              "\n",
              "    [theme=dark] .colab-df-convert:hover {\n",
              "      background-color: #434B5C;\n",
              "      box-shadow: 0px 1px 3px 1px rgba(0, 0, 0, 0.15);\n",
              "      filter: drop-shadow(0px 1px 2px rgba(0, 0, 0, 0.3));\n",
              "      fill: #FFFFFF;\n",
              "    }\n",
              "  </style>\n",
              "\n",
              "    <script>\n",
              "      const buttonEl =\n",
              "        document.querySelector('#df-99deeac3-75f0-4612-accd-6d9d1d291f98 button.colab-df-convert');\n",
              "      buttonEl.style.display =\n",
              "        google.colab.kernel.accessAllowed ? 'block' : 'none';\n",
              "\n",
              "      async function convertToInteractive(key) {\n",
              "        const element = document.querySelector('#df-99deeac3-75f0-4612-accd-6d9d1d291f98');\n",
              "        const dataTable =\n",
              "          await google.colab.kernel.invokeFunction('convertToInteractive',\n",
              "                                                    [key], {});\n",
              "        if (!dataTable) return;\n",
              "\n",
              "        const docLinkHtml = 'Like what you see? Visit the ' +\n",
              "          '<a target=\"_blank\" href=https://colab.research.google.com/notebooks/data_table.ipynb>data table notebook</a>'\n",
              "          + ' to learn more about interactive tables.';\n",
              "        element.innerHTML = '';\n",
              "        dataTable['output_type'] = 'display_data';\n",
              "        await google.colab.output.renderOutput(dataTable, element);\n",
              "        const docLink = document.createElement('div');\n",
              "        docLink.innerHTML = docLinkHtml;\n",
              "        element.appendChild(docLink);\n",
              "      }\n",
              "    </script>\n",
              "  </div>\n",
              "\n",
              "\n",
              "<div id=\"df-a1b86cfc-cb8a-455f-a398-90288f864db1\">\n",
              "  <button class=\"colab-df-quickchart\" onclick=\"quickchart('df-a1b86cfc-cb8a-455f-a398-90288f864db1')\"\n",
              "            title=\"Suggest charts\"\n",
              "            style=\"display:none;\">\n",
              "\n",
              "<svg xmlns=\"http://www.w3.org/2000/svg\" height=\"24px\"viewBox=\"0 0 24 24\"\n",
              "     width=\"24px\">\n",
              "    <g>\n",
              "        <path d=\"M19 3H5c-1.1 0-2 .9-2 2v14c0 1.1.9 2 2 2h14c1.1 0 2-.9 2-2V5c0-1.1-.9-2-2-2zM9 17H7v-7h2v7zm4 0h-2V7h2v10zm4 0h-2v-4h2v4z\"/>\n",
              "    </g>\n",
              "</svg>\n",
              "  </button>\n",
              "\n",
              "<style>\n",
              "  .colab-df-quickchart {\n",
              "      --bg-color: #E8F0FE;\n",
              "      --fill-color: #1967D2;\n",
              "      --hover-bg-color: #E2EBFA;\n",
              "      --hover-fill-color: #174EA6;\n",
              "      --disabled-fill-color: #AAA;\n",
              "      --disabled-bg-color: #DDD;\n",
              "  }\n",
              "\n",
              "  [theme=dark] .colab-df-quickchart {\n",
              "      --bg-color: #3B4455;\n",
              "      --fill-color: #D2E3FC;\n",
              "      --hover-bg-color: #434B5C;\n",
              "      --hover-fill-color: #FFFFFF;\n",
              "      --disabled-bg-color: #3B4455;\n",
              "      --disabled-fill-color: #666;\n",
              "  }\n",
              "\n",
              "  .colab-df-quickchart {\n",
              "    background-color: var(--bg-color);\n",
              "    border: none;\n",
              "    border-radius: 50%;\n",
              "    cursor: pointer;\n",
              "    display: none;\n",
              "    fill: var(--fill-color);\n",
              "    height: 32px;\n",
              "    padding: 0;\n",
              "    width: 32px;\n",
              "  }\n",
              "\n",
              "  .colab-df-quickchart:hover {\n",
              "    background-color: var(--hover-bg-color);\n",
              "    box-shadow: 0 1px 2px rgba(60, 64, 67, 0.3), 0 1px 3px 1px rgba(60, 64, 67, 0.15);\n",
              "    fill: var(--button-hover-fill-color);\n",
              "  }\n",
              "\n",
              "  .colab-df-quickchart-complete:disabled,\n",
              "  .colab-df-quickchart-complete:disabled:hover {\n",
              "    background-color: var(--disabled-bg-color);\n",
              "    fill: var(--disabled-fill-color);\n",
              "    box-shadow: none;\n",
              "  }\n",
              "\n",
              "  .colab-df-spinner {\n",
              "    border: 2px solid var(--fill-color);\n",
              "    border-color: transparent;\n",
              "    border-bottom-color: var(--fill-color);\n",
              "    animation:\n",
              "      spin 1s steps(1) infinite;\n",
              "  }\n",
              "\n",
              "  @keyframes spin {\n",
              "    0% {\n",
              "      border-color: transparent;\n",
              "      border-bottom-color: var(--fill-color);\n",
              "      border-left-color: var(--fill-color);\n",
              "    }\n",
              "    20% {\n",
              "      border-color: transparent;\n",
              "      border-left-color: var(--fill-color);\n",
              "      border-top-color: var(--fill-color);\n",
              "    }\n",
              "    30% {\n",
              "      border-color: transparent;\n",
              "      border-left-color: var(--fill-color);\n",
              "      border-top-color: var(--fill-color);\n",
              "      border-right-color: var(--fill-color);\n",
              "    }\n",
              "    40% {\n",
              "      border-color: transparent;\n",
              "      border-right-color: var(--fill-color);\n",
              "      border-top-color: var(--fill-color);\n",
              "    }\n",
              "    60% {\n",
              "      border-color: transparent;\n",
              "      border-right-color: var(--fill-color);\n",
              "    }\n",
              "    80% {\n",
              "      border-color: transparent;\n",
              "      border-right-color: var(--fill-color);\n",
              "      border-bottom-color: var(--fill-color);\n",
              "    }\n",
              "    90% {\n",
              "      border-color: transparent;\n",
              "      border-bottom-color: var(--fill-color);\n",
              "    }\n",
              "  }\n",
              "</style>\n",
              "\n",
              "  <script>\n",
              "    async function quickchart(key) {\n",
              "      const quickchartButtonEl =\n",
              "        document.querySelector('#' + key + ' button');\n",
              "      quickchartButtonEl.disabled = true;  // To prevent multiple clicks.\n",
              "      quickchartButtonEl.classList.add('colab-df-spinner');\n",
              "      try {\n",
              "        const charts = await google.colab.kernel.invokeFunction(\n",
              "            'suggestCharts', [key], {});\n",
              "      } catch (error) {\n",
              "        console.error('Error during call to suggestCharts:', error);\n",
              "      }\n",
              "      quickchartButtonEl.classList.remove('colab-df-spinner');\n",
              "      quickchartButtonEl.classList.add('colab-df-quickchart-complete');\n",
              "    }\n",
              "    (() => {\n",
              "      let quickchartButtonEl =\n",
              "        document.querySelector('#df-a1b86cfc-cb8a-455f-a398-90288f864db1 button');\n",
              "      quickchartButtonEl.style.display =\n",
              "        google.colab.kernel.accessAllowed ? 'block' : 'none';\n",
              "    })();\n",
              "  </script>\n",
              "</div>\n",
              "\n",
              "    </div>\n",
              "  </div>\n"
            ],
            "application/vnd.google.colaboratory.intrinsic+json": {
              "type": "dataframe",
              "variable_name": "iris_df",
              "summary": "{\n  \"name\": \"iris_df\",\n  \"rows\": 150,\n  \"fields\": [\n    {\n      \"column\": \"sepal length (cm)\",\n      \"properties\": {\n        \"dtype\": \"number\",\n        \"std\": 0.828066127977863,\n        \"min\": 4.3,\n        \"max\": 7.9,\n        \"num_unique_values\": 35,\n        \"samples\": [\n          6.2,\n          4.5,\n          5.6\n        ],\n        \"semantic_type\": \"\",\n        \"description\": \"\"\n      }\n    },\n    {\n      \"column\": \"sepal width (cm)\",\n      \"properties\": {\n        \"dtype\": \"number\",\n        \"std\": 0.4358662849366982,\n        \"min\": 2.0,\n        \"max\": 4.4,\n        \"num_unique_values\": 23,\n        \"samples\": [\n          2.3,\n          4.0,\n          3.5\n        ],\n        \"semantic_type\": \"\",\n        \"description\": \"\"\n      }\n    },\n    {\n      \"column\": \"petal length (cm)\",\n      \"properties\": {\n        \"dtype\": \"number\",\n        \"std\": 1.7652982332594662,\n        \"min\": 1.0,\n        \"max\": 6.9,\n        \"num_unique_values\": 43,\n        \"samples\": [\n          6.7,\n          3.8,\n          3.7\n        ],\n        \"semantic_type\": \"\",\n        \"description\": \"\"\n      }\n    },\n    {\n      \"column\": \"petal width (cm)\",\n      \"properties\": {\n        \"dtype\": \"number\",\n        \"std\": 0.7622376689603465,\n        \"min\": 0.1,\n        \"max\": 2.5,\n        \"num_unique_values\": 22,\n        \"samples\": [\n          0.2,\n          1.2,\n          1.3\n        ],\n        \"semantic_type\": \"\",\n        \"description\": \"\"\n      }\n    },\n    {\n      \"column\": \"label\",\n      \"properties\": {\n        \"dtype\": \"number\",\n        \"std\": 0,\n        \"min\": 0,\n        \"max\": 2,\n        \"num_unique_values\": 3,\n        \"samples\": [\n          0,\n          1,\n          2\n        ],\n        \"semantic_type\": \"\",\n        \"description\": \"\"\n      }\n    }\n  ]\n}"
            }
          },
          "metadata": {},
          "execution_count": 6
        }
      ]
    },
    {
      "cell_type": "markdown",
      "source": [
        "- 피처: speal length, sepal width, petal length, petal width\n",
        "- 레이블: 0, 1, 2 (0: Setosa, 1: versiclor, 2: virginica)"
      ],
      "metadata": {
        "id": "QqzLwFYUa0Ee"
      }
    },
    {
      "cell_type": "markdown",
      "source": [
        "### 데이터 분리"
      ],
      "metadata": {
        "id": "3i_bLMG9bz5s"
      }
    },
    {
      "cell_type": "markdown",
      "source": [
        "`train_test_split()`: 학습 데이터와 테스트 데이터를 `test_size` 파라미터 입력값의 비율로 분할"
      ],
      "metadata": {
        "id": "wU5HctkKcPHk"
      }
    },
    {
      "cell_type": "code",
      "source": [
        "X_train, X_test, y_train, y_test = train_test_split(iris_data, iris_label,\n",
        "                                                    test_size=0.2, # 테스트 데이터 20%, 학습데이터 80%\n",
        "                                                    random_state=11) # 호출할 때마다 같은 학습/테스트 용 데이터 세트 생성하기 위해 주어지는 난수 발생 값"
      ],
      "metadata": {
        "id": "jyaYuBMTawjE"
      },
      "execution_count": null,
      "outputs": []
    },
    {
      "cell_type": "markdown",
      "source": [
        "- `X_train`: 학습용 피처 데이터 세트\n",
        "- `X_test`: 테스트용 피처 데이터 세트\n",
        "- `y_train`: 학습용 레이블 데이터 세트\n",
        "- `y_test`: 테스트용 레이블 데이터 세트"
      ],
      "metadata": {
        "id": "hY5fTnZ1ncht"
      }
    },
    {
      "cell_type": "markdown",
      "source": [
        "### 의사 결정 트리"
      ],
      "metadata": {
        "id": "_5EdHfoJnGiX"
      }
    },
    {
      "cell_type": "markdown",
      "source": [
        "- 의사 결정 트리: 데이터 기반 머신러닝 분류 알고리즘의 하나\n",
        "- `DecisionTreeClassifier`: 사이킷런의 의사 결정 트리 클래스\n",
        "- `fit()` 메서드: **_학습용_** 피처 데이터 속성과 결정값 데이터 세트 입력해 호출하면 학습 수행"
      ],
      "metadata": {
        "id": "YpYsHA8DnzVC"
      }
    },
    {
      "cell_type": "code",
      "source": [
        "# DecisionTreeClassifier 객체 생성\n",
        "dt_clf = DecisionTreeClassifier(random_state=11)\n",
        "\n",
        "# 학습 수행\n",
        "dt_clf.fit(X_train, y_train)"
      ],
      "metadata": {
        "colab": {
          "base_uri": "https://localhost:8080/",
          "height": 74
        },
        "id": "zEZVLzDwbebJ",
        "outputId": "9a4f61de-16a9-4175-a332-fc5c57469f89"
      },
      "execution_count": null,
      "outputs": [
        {
          "output_type": "execute_result",
          "data": {
            "text/plain": [
              "DecisionTreeClassifier(random_state=11)"
            ],
            "text/html": [
              "<style>#sk-container-id-1 {color: black;}#sk-container-id-1 pre{padding: 0;}#sk-container-id-1 div.sk-toggleable {background-color: white;}#sk-container-id-1 label.sk-toggleable__label {cursor: pointer;display: block;width: 100%;margin-bottom: 0;padding: 0.3em;box-sizing: border-box;text-align: center;}#sk-container-id-1 label.sk-toggleable__label-arrow:before {content: \"▸\";float: left;margin-right: 0.25em;color: #696969;}#sk-container-id-1 label.sk-toggleable__label-arrow:hover:before {color: black;}#sk-container-id-1 div.sk-estimator:hover label.sk-toggleable__label-arrow:before {color: black;}#sk-container-id-1 div.sk-toggleable__content {max-height: 0;max-width: 0;overflow: hidden;text-align: left;background-color: #f0f8ff;}#sk-container-id-1 div.sk-toggleable__content pre {margin: 0.2em;color: black;border-radius: 0.25em;background-color: #f0f8ff;}#sk-container-id-1 input.sk-toggleable__control:checked~div.sk-toggleable__content {max-height: 200px;max-width: 100%;overflow: auto;}#sk-container-id-1 input.sk-toggleable__control:checked~label.sk-toggleable__label-arrow:before {content: \"▾\";}#sk-container-id-1 div.sk-estimator input.sk-toggleable__control:checked~label.sk-toggleable__label {background-color: #d4ebff;}#sk-container-id-1 div.sk-label input.sk-toggleable__control:checked~label.sk-toggleable__label {background-color: #d4ebff;}#sk-container-id-1 input.sk-hidden--visually {border: 0;clip: rect(1px 1px 1px 1px);clip: rect(1px, 1px, 1px, 1px);height: 1px;margin: -1px;overflow: hidden;padding: 0;position: absolute;width: 1px;}#sk-container-id-1 div.sk-estimator {font-family: monospace;background-color: #f0f8ff;border: 1px dotted black;border-radius: 0.25em;box-sizing: border-box;margin-bottom: 0.5em;}#sk-container-id-1 div.sk-estimator:hover {background-color: #d4ebff;}#sk-container-id-1 div.sk-parallel-item::after {content: \"\";width: 100%;border-bottom: 1px solid gray;flex-grow: 1;}#sk-container-id-1 div.sk-label:hover label.sk-toggleable__label {background-color: #d4ebff;}#sk-container-id-1 div.sk-serial::before {content: \"\";position: absolute;border-left: 1px solid gray;box-sizing: border-box;top: 0;bottom: 0;left: 50%;z-index: 0;}#sk-container-id-1 div.sk-serial {display: flex;flex-direction: column;align-items: center;background-color: white;padding-right: 0.2em;padding-left: 0.2em;position: relative;}#sk-container-id-1 div.sk-item {position: relative;z-index: 1;}#sk-container-id-1 div.sk-parallel {display: flex;align-items: stretch;justify-content: center;background-color: white;position: relative;}#sk-container-id-1 div.sk-item::before, #sk-container-id-1 div.sk-parallel-item::before {content: \"\";position: absolute;border-left: 1px solid gray;box-sizing: border-box;top: 0;bottom: 0;left: 50%;z-index: -1;}#sk-container-id-1 div.sk-parallel-item {display: flex;flex-direction: column;z-index: 1;position: relative;background-color: white;}#sk-container-id-1 div.sk-parallel-item:first-child::after {align-self: flex-end;width: 50%;}#sk-container-id-1 div.sk-parallel-item:last-child::after {align-self: flex-start;width: 50%;}#sk-container-id-1 div.sk-parallel-item:only-child::after {width: 0;}#sk-container-id-1 div.sk-dashed-wrapped {border: 1px dashed gray;margin: 0 0.4em 0.5em 0.4em;box-sizing: border-box;padding-bottom: 0.4em;background-color: white;}#sk-container-id-1 div.sk-label label {font-family: monospace;font-weight: bold;display: inline-block;line-height: 1.2em;}#sk-container-id-1 div.sk-label-container {text-align: center;}#sk-container-id-1 div.sk-container {/* jupyter's `normalize.less` sets `[hidden] { display: none; }` but bootstrap.min.css set `[hidden] { display: none !important; }` so we also need the `!important` here to be able to override the default hidden behavior on the sphinx rendered scikit-learn.org. See: https://github.com/scikit-learn/scikit-learn/issues/21755 */display: inline-block !important;position: relative;}#sk-container-id-1 div.sk-text-repr-fallback {display: none;}</style><div id=\"sk-container-id-1\" class=\"sk-top-container\"><div class=\"sk-text-repr-fallback\"><pre>DecisionTreeClassifier(random_state=11)</pre><b>In a Jupyter environment, please rerun this cell to show the HTML representation or trust the notebook. <br />On GitHub, the HTML representation is unable to render, please try loading this page with nbviewer.org.</b></div><div class=\"sk-container\" hidden><div class=\"sk-item\"><div class=\"sk-estimator sk-toggleable\"><input class=\"sk-toggleable__control sk-hidden--visually\" id=\"sk-estimator-id-1\" type=\"checkbox\" checked><label for=\"sk-estimator-id-1\" class=\"sk-toggleable__label sk-toggleable__label-arrow\">DecisionTreeClassifier</label><div class=\"sk-toggleable__content\"><pre>DecisionTreeClassifier(random_state=11)</pre></div></div></div></div></div>"
            ]
          },
          "metadata": {},
          "execution_count": 8
        }
      ]
    },
    {
      "cell_type": "markdown",
      "source": [
        "- `predict()` 메서드: **_테스트용_** 피처 데이터 세트를 입력해 호출하면 학습된 모델 기반에서 테스트 데이터 세트에 대한 예측값 반환"
      ],
      "metadata": {
        "id": "7xgVKjW_orfH"
      }
    },
    {
      "cell_type": "code",
      "source": [
        "# 학습이 완료된 DecisionTreeClassifier 객체에서 테스트 데이터 세트로 예측 수행.\n",
        "pred = dt_clf.predict(X_test)"
      ],
      "metadata": {
        "id": "dm_J4R_dokok"
      },
      "execution_count": null,
      "outputs": []
    },
    {
      "cell_type": "markdown",
      "source": [
        "### 예측 성능 평가"
      ],
      "metadata": {
        "id": "z849tanqpTjA"
      }
    },
    {
      "cell_type": "markdown",
      "source": [
        "- 정확도: 예측 결과가 실제 레이블 값과 얼마나 정확하게 맞는지 평가하는 지표\n",
        "- `accuracy_score()`: 사이킷런 정확도 측정 함수"
      ],
      "metadata": {
        "id": "VfoWMeJUpYSA"
      }
    },
    {
      "cell_type": "code",
      "source": [
        "from sklearn.metrics import accuracy_score\n",
        "print('예측 정확도: {0:.4f}'.format(accuracy_score(y_test,pred))) # (실제 레이블 데이터 세트 y_test, 예측 레이블 데이터 세트 pred)"
      ],
      "metadata": {
        "colab": {
          "base_uri": "https://localhost:8080/"
        },
        "id": "jjWttv8ppM-H",
        "outputId": "59e5b200-3cdb-42c7-d0d4-90ee7492dcb3"
      },
      "execution_count": null,
      "outputs": [
        {
          "output_type": "stream",
          "name": "stdout",
          "text": [
            "예측 정확도: 0.9333\n"
          ]
        }
      ]
    },
    {
      "cell_type": "markdown",
      "source": [
        "## 2.3 사이킷런의 기반 프레임워크 익히기"
      ],
      "metadata": {
        "id": "E3k0ZZWuqjR-"
      }
    },
    {
      "cell_type": "markdown",
      "source": [
        "### `Estimator` 이해 및 `fit()`, `predict()` 메서드"
      ],
      "metadata": {
        "id": "WYSBLOWwqtc1"
      }
    },
    {
      "cell_type": "markdown",
      "source": [
        "- `Estimator`: 지도학습(분류, 회귀 등)의 모든 알고리즘을 구현한 클래스\n",
        "  - `Classifier`: 분류 알고리즘 구현한 클래스\n",
        "  - `Regressor`: 회귀 알고리즘 구현한 클래스\n",
        "- `fit()`: 모델 학습 메서드\n",
        "- `predict()`: 모델 예측 메서드"
      ],
      "metadata": {
        "id": "rYWV5J0Cq_8U"
      }
    },
    {
      "cell_type": "markdown",
      "source": [
        "### 붗꽃 데이터 세트"
      ],
      "metadata": {
        "id": "8tkJr758r5OD"
      }
    },
    {
      "cell_type": "code",
      "source": [
        "from sklearn.datasets import load_iris\n",
        "\n",
        "iris_data = load_iris()\n",
        "print(type(iris_data))"
      ],
      "metadata": {
        "colab": {
          "base_uri": "https://localhost:8080/"
        },
        "id": "jz9-ZfLbqlln",
        "outputId": "d20a7b53-feac-4061-f7b5-c9bddb5d2076"
      },
      "execution_count": null,
      "outputs": [
        {
          "output_type": "stream",
          "name": "stdout",
          "text": [
            "<class 'sklearn.utils._bunch.Bunch'>\n"
          ]
        }
      ]
    },
    {
      "cell_type": "markdown",
      "source": [
        "- Bunch 클래스: 파이썬 딕셔너리 자료형과 유사"
      ],
      "metadata": {
        "id": "_zWV6C5cstro"
      }
    },
    {
      "cell_type": "code",
      "source": [
        "keys = iris_data.keys()\n",
        "print('붓꽃 데이터 세트의 키들:', keys)"
      ],
      "metadata": {
        "colab": {
          "base_uri": "https://localhost:8080/"
        },
        "id": "Q42MWVBEss1g",
        "outputId": "c3bca61c-4918-42ab-dc53-0448961ff00c"
      },
      "execution_count": null,
      "outputs": [
        {
          "output_type": "stream",
          "name": "stdout",
          "text": [
            "붓꽃 데이터 세트의 키들: dict_keys(['data', 'target', 'frame', 'target_names', 'DESCR', 'feature_names', 'filename', 'data_module'])\n"
          ]
        }
      ]
    },
    {
      "cell_type": "markdown",
      "source": [
        "딕셔너리 형태이므로 key 값 확인\n",
        "\n",
        "'data', 'target', 'target_names', 'feature_names'가 주요한 key 값"
      ],
      "metadata": {
        "id": "Zw1PjDRss6km"
      }
    },
    {
      "cell_type": "code",
      "source": [
        "print('\\n feature_names 의 type:',type(iris_data.feature_names))\n",
        "print(' feature_names 의 shape:',len(iris_data.feature_names))\n",
        "print(iris_data.feature_names)"
      ],
      "metadata": {
        "colab": {
          "base_uri": "https://localhost:8080/"
        },
        "id": "4EoBNncxs4GX",
        "outputId": "efd3e2a6-bcb5-4855-9d42-067797d40ebf"
      },
      "execution_count": null,
      "outputs": [
        {
          "output_type": "stream",
          "name": "stdout",
          "text": [
            "\n",
            " feature_names 의 type: <class 'list'>\n",
            " feature_names 의 shape: 4\n",
            "['sepal length (cm)', 'sepal width (cm)', 'petal length (cm)', 'petal width (cm)']\n"
          ]
        }
      ]
    },
    {
      "cell_type": "code",
      "source": [
        "print('\\n target_names 의 type:',type(iris_data.target_names))\n",
        "print(' feature_names 의 shape:',len(iris_data.target_names))\n",
        "print(iris_data.target_names)"
      ],
      "metadata": {
        "colab": {
          "base_uri": "https://localhost:8080/"
        },
        "id": "HLUzlDRttk5r",
        "outputId": "760c4d69-1842-4c22-dcf2-d243d37857d7"
      },
      "execution_count": null,
      "outputs": [
        {
          "output_type": "stream",
          "name": "stdout",
          "text": [
            "\n",
            " target_names 의 type: <class 'numpy.ndarray'>\n",
            " feature_names 의 shape: 3\n",
            "['setosa' 'versicolor' 'virginica']\n"
          ]
        }
      ]
    },
    {
      "cell_type": "code",
      "source": [
        "print('\\n data 의 type:',type(iris_data.data))\n",
        "print(' data 의 shape:',iris_data.data.shape)\n",
        "print(iris_data['data'])"
      ],
      "metadata": {
        "colab": {
          "base_uri": "https://localhost:8080/"
        },
        "id": "nNvQlD2otOzd",
        "outputId": "85ccea97-2378-4998-e2bb-894093f3e6b3"
      },
      "execution_count": null,
      "outputs": [
        {
          "output_type": "stream",
          "name": "stdout",
          "text": [
            "\n",
            " data 의 type: <class 'numpy.ndarray'>\n",
            " data 의 shape: (150, 4)\n",
            "[[5.1 3.5 1.4 0.2]\n",
            " [4.9 3.  1.4 0.2]\n",
            " [4.7 3.2 1.3 0.2]\n",
            " [4.6 3.1 1.5 0.2]\n",
            " [5.  3.6 1.4 0.2]\n",
            " [5.4 3.9 1.7 0.4]\n",
            " [4.6 3.4 1.4 0.3]\n",
            " [5.  3.4 1.5 0.2]\n",
            " [4.4 2.9 1.4 0.2]\n",
            " [4.9 3.1 1.5 0.1]\n",
            " [5.4 3.7 1.5 0.2]\n",
            " [4.8 3.4 1.6 0.2]\n",
            " [4.8 3.  1.4 0.1]\n",
            " [4.3 3.  1.1 0.1]\n",
            " [5.8 4.  1.2 0.2]\n",
            " [5.7 4.4 1.5 0.4]\n",
            " [5.4 3.9 1.3 0.4]\n",
            " [5.1 3.5 1.4 0.3]\n",
            " [5.7 3.8 1.7 0.3]\n",
            " [5.1 3.8 1.5 0.3]\n",
            " [5.4 3.4 1.7 0.2]\n",
            " [5.1 3.7 1.5 0.4]\n",
            " [4.6 3.6 1.  0.2]\n",
            " [5.1 3.3 1.7 0.5]\n",
            " [4.8 3.4 1.9 0.2]\n",
            " [5.  3.  1.6 0.2]\n",
            " [5.  3.4 1.6 0.4]\n",
            " [5.2 3.5 1.5 0.2]\n",
            " [5.2 3.4 1.4 0.2]\n",
            " [4.7 3.2 1.6 0.2]\n",
            " [4.8 3.1 1.6 0.2]\n",
            " [5.4 3.4 1.5 0.4]\n",
            " [5.2 4.1 1.5 0.1]\n",
            " [5.5 4.2 1.4 0.2]\n",
            " [4.9 3.1 1.5 0.2]\n",
            " [5.  3.2 1.2 0.2]\n",
            " [5.5 3.5 1.3 0.2]\n",
            " [4.9 3.6 1.4 0.1]\n",
            " [4.4 3.  1.3 0.2]\n",
            " [5.1 3.4 1.5 0.2]\n",
            " [5.  3.5 1.3 0.3]\n",
            " [4.5 2.3 1.3 0.3]\n",
            " [4.4 3.2 1.3 0.2]\n",
            " [5.  3.5 1.6 0.6]\n",
            " [5.1 3.8 1.9 0.4]\n",
            " [4.8 3.  1.4 0.3]\n",
            " [5.1 3.8 1.6 0.2]\n",
            " [4.6 3.2 1.4 0.2]\n",
            " [5.3 3.7 1.5 0.2]\n",
            " [5.  3.3 1.4 0.2]\n",
            " [7.  3.2 4.7 1.4]\n",
            " [6.4 3.2 4.5 1.5]\n",
            " [6.9 3.1 4.9 1.5]\n",
            " [5.5 2.3 4.  1.3]\n",
            " [6.5 2.8 4.6 1.5]\n",
            " [5.7 2.8 4.5 1.3]\n",
            " [6.3 3.3 4.7 1.6]\n",
            " [4.9 2.4 3.3 1. ]\n",
            " [6.6 2.9 4.6 1.3]\n",
            " [5.2 2.7 3.9 1.4]\n",
            " [5.  2.  3.5 1. ]\n",
            " [5.9 3.  4.2 1.5]\n",
            " [6.  2.2 4.  1. ]\n",
            " [6.1 2.9 4.7 1.4]\n",
            " [5.6 2.9 3.6 1.3]\n",
            " [6.7 3.1 4.4 1.4]\n",
            " [5.6 3.  4.5 1.5]\n",
            " [5.8 2.7 4.1 1. ]\n",
            " [6.2 2.2 4.5 1.5]\n",
            " [5.6 2.5 3.9 1.1]\n",
            " [5.9 3.2 4.8 1.8]\n",
            " [6.1 2.8 4.  1.3]\n",
            " [6.3 2.5 4.9 1.5]\n",
            " [6.1 2.8 4.7 1.2]\n",
            " [6.4 2.9 4.3 1.3]\n",
            " [6.6 3.  4.4 1.4]\n",
            " [6.8 2.8 4.8 1.4]\n",
            " [6.7 3.  5.  1.7]\n",
            " [6.  2.9 4.5 1.5]\n",
            " [5.7 2.6 3.5 1. ]\n",
            " [5.5 2.4 3.8 1.1]\n",
            " [5.5 2.4 3.7 1. ]\n",
            " [5.8 2.7 3.9 1.2]\n",
            " [6.  2.7 5.1 1.6]\n",
            " [5.4 3.  4.5 1.5]\n",
            " [6.  3.4 4.5 1.6]\n",
            " [6.7 3.1 4.7 1.5]\n",
            " [6.3 2.3 4.4 1.3]\n",
            " [5.6 3.  4.1 1.3]\n",
            " [5.5 2.5 4.  1.3]\n",
            " [5.5 2.6 4.4 1.2]\n",
            " [6.1 3.  4.6 1.4]\n",
            " [5.8 2.6 4.  1.2]\n",
            " [5.  2.3 3.3 1. ]\n",
            " [5.6 2.7 4.2 1.3]\n",
            " [5.7 3.  4.2 1.2]\n",
            " [5.7 2.9 4.2 1.3]\n",
            " [6.2 2.9 4.3 1.3]\n",
            " [5.1 2.5 3.  1.1]\n",
            " [5.7 2.8 4.1 1.3]\n",
            " [6.3 3.3 6.  2.5]\n",
            " [5.8 2.7 5.1 1.9]\n",
            " [7.1 3.  5.9 2.1]\n",
            " [6.3 2.9 5.6 1.8]\n",
            " [6.5 3.  5.8 2.2]\n",
            " [7.6 3.  6.6 2.1]\n",
            " [4.9 2.5 4.5 1.7]\n",
            " [7.3 2.9 6.3 1.8]\n",
            " [6.7 2.5 5.8 1.8]\n",
            " [7.2 3.6 6.1 2.5]\n",
            " [6.5 3.2 5.1 2. ]\n",
            " [6.4 2.7 5.3 1.9]\n",
            " [6.8 3.  5.5 2.1]\n",
            " [5.7 2.5 5.  2. ]\n",
            " [5.8 2.8 5.1 2.4]\n",
            " [6.4 3.2 5.3 2.3]\n",
            " [6.5 3.  5.5 1.8]\n",
            " [7.7 3.8 6.7 2.2]\n",
            " [7.7 2.6 6.9 2.3]\n",
            " [6.  2.2 5.  1.5]\n",
            " [6.9 3.2 5.7 2.3]\n",
            " [5.6 2.8 4.9 2. ]\n",
            " [7.7 2.8 6.7 2. ]\n",
            " [6.3 2.7 4.9 1.8]\n",
            " [6.7 3.3 5.7 2.1]\n",
            " [7.2 3.2 6.  1.8]\n",
            " [6.2 2.8 4.8 1.8]\n",
            " [6.1 3.  4.9 1.8]\n",
            " [6.4 2.8 5.6 2.1]\n",
            " [7.2 3.  5.8 1.6]\n",
            " [7.4 2.8 6.1 1.9]\n",
            " [7.9 3.8 6.4 2. ]\n",
            " [6.4 2.8 5.6 2.2]\n",
            " [6.3 2.8 5.1 1.5]\n",
            " [6.1 2.6 5.6 1.4]\n",
            " [7.7 3.  6.1 2.3]\n",
            " [6.3 3.4 5.6 2.4]\n",
            " [6.4 3.1 5.5 1.8]\n",
            " [6.  3.  4.8 1.8]\n",
            " [6.9 3.1 5.4 2.1]\n",
            " [6.7 3.1 5.6 2.4]\n",
            " [6.9 3.1 5.1 2.3]\n",
            " [5.8 2.7 5.1 1.9]\n",
            " [6.8 3.2 5.9 2.3]\n",
            " [6.7 3.3 5.7 2.5]\n",
            " [6.7 3.  5.2 2.3]\n",
            " [6.3 2.5 5.  1.9]\n",
            " [6.5 3.  5.2 2. ]\n",
            " [6.2 3.4 5.4 2.3]\n",
            " [5.9 3.  5.1 1.8]]\n"
          ]
        }
      ]
    },
    {
      "cell_type": "code",
      "source": [
        "print('\\n target 의 type:',type(iris_data.target))\n",
        "print(' target 의 shape:',iris_data.target.shape)\n",
        "print(iris_data.target)"
      ],
      "metadata": {
        "colab": {
          "base_uri": "https://localhost:8080/"
        },
        "id": "z9cGUzMytqkw",
        "outputId": "3aa1b28f-ba32-4084-a65f-da6afd128768"
      },
      "execution_count": null,
      "outputs": [
        {
          "output_type": "stream",
          "name": "stdout",
          "text": [
            "\n",
            " target 의 type: <class 'numpy.ndarray'>\n",
            " target 의 shape: (150,)\n",
            "[0 0 0 0 0 0 0 0 0 0 0 0 0 0 0 0 0 0 0 0 0 0 0 0 0 0 0 0 0 0 0 0 0 0 0 0 0\n",
            " 0 0 0 0 0 0 0 0 0 0 0 0 0 1 1 1 1 1 1 1 1 1 1 1 1 1 1 1 1 1 1 1 1 1 1 1 1\n",
            " 1 1 1 1 1 1 1 1 1 1 1 1 1 1 1 1 1 1 1 1 1 1 1 1 1 1 2 2 2 2 2 2 2 2 2 2 2\n",
            " 2 2 2 2 2 2 2 2 2 2 2 2 2 2 2 2 2 2 2 2 2 2 2 2 2 2 2 2 2 2 2 2 2 2 2 2 2\n",
            " 2 2]\n"
          ]
        }
      ]
    },
    {
      "cell_type": "markdown",
      "source": [
        "## 2.4 Model Selection 모듈 소개"
      ],
      "metadata": {
        "id": "8cRvFoLAtxhP"
      }
    },
    {
      "cell_type": "markdown",
      "source": [
        "model_selection 모듈: 학습 데이터와 테스트 데이터 세트를 분리하거나 교차 검증 분할 및 평가, Estimator의 하이퍼 파라미터를 튜닝하기 위한 다양한 함수와 클래스 제공"
      ],
      "metadata": {
        "id": "yQB0fPgat77Y"
      }
    },
    {
      "cell_type": "markdown",
      "source": [
        "### train_test_split()"
      ],
      "metadata": {
        "id": "hojYLWC9uWyy"
      }
    },
    {
      "cell_type": "markdown",
      "source": [
        "학습/테스트 데이터 세트 분리 - 학습과 예측을 동일한 데이터 세트로 수행"
      ],
      "metadata": {
        "id": "3MOFfj5duigk"
      }
    },
    {
      "cell_type": "code",
      "source": [
        "from sklearn.datasets import load_iris\n",
        "from sklearn.tree import DecisionTreeClassifier\n",
        "from sklearn.metrics import accuracy_score\n",
        "\n",
        "iris = load_iris()\n",
        "dt_clf = DecisionTreeClassifier()\n",
        "train_data = iris.data\n",
        "train_label = iris.target\n",
        "dt_clf.fit(train_data, train_label)\n",
        "\n",
        "# 학습 데이터 셋으로 예측 수행\n",
        "pred = dt_clf.predict(train_data)\n",
        "print('예측 정확도:',accuracy_score(train_label,pred))"
      ],
      "metadata": {
        "colab": {
          "base_uri": "https://localhost:8080/"
        },
        "id": "-YC_ob5ctwJD",
        "outputId": "79e0df43-a568-426b-97a9-cef9d0dd5934"
      },
      "execution_count": null,
      "outputs": [
        {
          "output_type": "stream",
          "name": "stdout",
          "text": [
            "예측 정확도: 1.0\n"
          ]
        }
      ]
    },
    {
      "cell_type": "markdown",
      "source": [
        "학습 및 테스트 데이터 세트 분리\n",
        "- 테스트 30%, 학습 70%"
      ],
      "metadata": {
        "id": "w7zxJKzZuzsu"
      }
    },
    {
      "cell_type": "code",
      "source": [
        "from sklearn.tree import DecisionTreeClassifier\n",
        "from sklearn.metrics import accuracy_score\n",
        "from sklearn.datasets import load_iris\n",
        "from sklearn.model_selection import train_test_split\n",
        "\n",
        "dt_clf = DecisionTreeClassifier( )\n",
        "iris_data = load_iris()\n",
        "\n",
        "X_train, X_test, y_train, y_test = train_test_split(iris_data.data, iris_data.target,\n",
        "                                                    test_size=0.3, random_state=121)"
      ],
      "metadata": {
        "id": "oLcGv2-ougd-"
      },
      "execution_count": null,
      "outputs": []
    },
    {
      "cell_type": "markdown",
      "source": [
        "`train_test_split()` 파라미터\n",
        "- `test_size`: 테스트 크기. 디폴트는 0.25\n",
        "- `train_size`: 학습용 크기. 잘 사용되지 않음.\n",
        "- `shuffle`: 데이털르 분리하기 전 데이터를 미리 섞을지 결정. 디폴트는 True. 데이터를 분산시켜서 좀 더 효율적인 학습 및 테스트 데이터 세트 만든다.\n",
        "- `random_state`: 호출할 때마다 동일한 데이터 세트 생성하기 위해 주어지는 난수 값\n",
        "- 반환값은 튜플 형태"
      ],
      "metadata": {
        "id": "x7eDAlSJvMj6"
      }
    },
    {
      "cell_type": "code",
      "source": [
        "dt_clf.fit(X_train, y_train)\n",
        "pred = dt_clf.predict(X_test)\n",
        "print('예측 정확도: {0:.4f}'.format(accuracy_score(y_test,pred)))"
      ],
      "metadata": {
        "colab": {
          "base_uri": "https://localhost:8080/"
        },
        "id": "5hz6V2VFvL9D",
        "outputId": "6f8b034e-54c8-4273-a2a0-b0dc3bca03b8"
      },
      "execution_count": null,
      "outputs": [
        {
          "output_type": "stream",
          "name": "stdout",
          "text": [
            "예측 정확도: 0.9556\n"
          ]
        }
      ]
    },
    {
      "cell_type": "markdown",
      "source": [
        "- 150개의 데이터로 데이터 양이 크지 않아 전체의 30% 정도인 테스트 데이터는 45개 정도\n",
        "- 이를 통해 알고리즘의 예측 성능 판단하기에는 적절하지 않다.\n",
        "- 학습을 위한 데이터 양 일정 수준 이상 보장 중요\n",
        "- 학습된 모델에 대해 다양한 데이터를 기반으로 예측 성능을 평가해보는 것도 매우 중요\n"
      ],
      "metadata": {
        "id": "-RNPDVYpwRZL"
      }
    },
    {
      "cell_type": "markdown",
      "source": [
        "### 교차 검증"
      ],
      "metadata": {
        "id": "pddKhLsiwf87"
      }
    },
    {
      "cell_type": "markdown",
      "source": [
        "고정된 학습 데이터와 테스트 데이터로 평가하면 테스트 데이터에만 최적의 성능 발휘할 수 있도록 편항되게 모델을 유도하는 경향이 생긴다.\n",
        "\n",
        "**과적합(Overfitting)**: 모델이 학습데이터에만 과도하게 최적화되어, 실제 예측은 다른 데이터로 수행할 경우 예측 성능이 과도하게 떨어지는 것\n",
        "\n",
        "이러한 문제점 개선하기 위해 교차 검증 이용해 더 다양한 학습과 평가를 수행한다."
      ],
      "metadata": {
        "id": "waQM7ww9wvRW"
      }
    },
    {
      "cell_type": "markdown",
      "source": [
        "**교차 검증**: 데이터 편중을 막기 위해 별도의 여러 세트로 구성된 학습 데이터 세트와 검증 데이터 세트에서 학습과 평가를 수행하는 것. 각 세트에서 수행한 평가 결과에 따라 하이퍼 파라미터 튜닝 등의 모델 최적화를 더 쉽게 가능"
      ],
      "metadata": {
        "id": "1Nu7oq9Nxaux"
      }
    },
    {
      "cell_type": "markdown",
      "source": [
        "#### K 폴드 교차 검증"
      ],
      "metadata": {
        "id": "wPdv8ABYyMdZ"
      }
    },
    {
      "cell_type": "markdown",
      "source": [
        "K개의 데이터 폴드 세트를 만들어서 K번만큼 각 폴트 세트에 학습과 검증 평가를 반복적으로 수행"
      ],
      "metadata": {
        "id": "IBPe8C761dqQ"
      }
    },
    {
      "cell_type": "markdown",
      "source": [
        "![image.png](data:image/png;base64,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)"
      ],
      "metadata": {
        "id": "eVJEqOw-yw2G"
      }
    },
    {
      "cell_type": "markdown",
      "source": [
        "KFold 객체 생성"
      ],
      "metadata": {
        "id": "O5jrAquszWtJ"
      }
    },
    {
      "cell_type": "code",
      "source": [
        "from sklearn.tree import DecisionTreeClassifier\n",
        "from sklearn.metrics import accuracy_score\n",
        "from sklearn.model_selection import KFold\n",
        "import numpy as np\n",
        "\n",
        "iris = load_iris()\n",
        "features = iris.data\n",
        "label = iris.target\n",
        "dt_clf = DecisionTreeClassifier(random_state=156)\n",
        "\n",
        "# 5개의 폴드 세트로 분리하는 KFold 객체와 폴드 세트별 정확도를 담을 리스트 객체 생성.\n",
        "kfold = KFold(n_splits=5)\n",
        "cv_accuracy = []\n",
        "print('붓꽃 데이터 세트 크기:',features.shape[0])"
      ],
      "metadata": {
        "colab": {
          "base_uri": "https://localhost:8080/"
        },
        "id": "E-ipbPyXwIBz",
        "outputId": "3c4a4a6a-9e0d-4786-d531-54e0d520317f"
      },
      "execution_count": null,
      "outputs": [
        {
          "output_type": "stream",
          "name": "stdout",
          "text": [
            "붓꽃 데이터 세트 크기: 150\n"
          ]
        }
      ]
    },
    {
      "cell_type": "markdown",
      "source": [
        "5개의 폴드 데이터 세트로 분리: `split()`\n",
        "- 전체 붓꽃 데이터: 150개\n",
        "- 학습용 데이터 세트: 4/5인 120개\n",
        "- 검증 테스트 데이터 세트 세트: 1/5인 30개\n",
        "- 학습용/검증용 데이터로 분할할 수 있는 인덱스 반환\n"
      ],
      "metadata": {
        "id": "S4llmcuTziZI"
      }
    },
    {
      "cell_type": "code",
      "source": [
        "n_iter = 0\n",
        "\n",
        "# KFold객체의 split( ) 호출하면 폴드 별 학습용, 검증용 테스트의 로우 인덱스를 array로 반환\n",
        "for train_index, test_index  in kfold.split(features):\n",
        "    # kfold.split( )으로 반환된 인덱스를 이용하여 학습용, 검증용 테스트 데이터 추출\n",
        "    X_train, X_test = features[train_index], features[test_index]\n",
        "    y_train, y_test = label[train_index], label[test_index]\n",
        "    #학습 및 예측\n",
        "    dt_clf.fit(X_train , y_train)\n",
        "    pred = dt_clf.predict(X_test)\n",
        "    n_iter += 1\n",
        "    # 반복 시 마다 정확도 측정\n",
        "    accuracy = np.round(accuracy_score(y_test,pred), 4)\n",
        "    train_size = X_train.shape[0]\n",
        "    test_size = X_test.shape[0]\n",
        "    print('\\n#{0} 교차 검증 정확도 :{1}, 학습 데이터 크기: {2}, 검증 데이터 크기: {3}'\n",
        "          .format(n_iter, accuracy, train_size, test_size))\n",
        "    print('#{0} 검증 세트 인덱스:{1}'.format(n_iter,test_index))\n",
        "    cv_accuracy.append(accuracy)\n",
        "\n",
        "# 개별 iteration별 정확도를 합하여 평균 정확도 계산\n",
        "print('\\n## 평균 검증 정확도:', np.mean(cv_accuracy))"
      ],
      "metadata": {
        "colab": {
          "base_uri": "https://localhost:8080/"
        },
        "id": "mFJ6VhfIwoix",
        "outputId": "b6449aec-fd92-4e0b-e74c-fb2fef4d940a"
      },
      "execution_count": null,
      "outputs": [
        {
          "output_type": "stream",
          "name": "stdout",
          "text": [
            "\n",
            "#1 교차 검증 정확도 :1.0, 학습 데이터 크기: 120, 검증 데이터 크기: 30\n",
            "#1 검증 세트 인덱스:[ 0  1  2  3  4  5  6  7  8  9 10 11 12 13 14 15 16 17 18 19 20 21 22 23\n",
            " 24 25 26 27 28 29]\n",
            "\n",
            "#2 교차 검증 정확도 :0.9667, 학습 데이터 크기: 120, 검증 데이터 크기: 30\n",
            "#2 검증 세트 인덱스:[30 31 32 33 34 35 36 37 38 39 40 41 42 43 44 45 46 47 48 49 50 51 52 53\n",
            " 54 55 56 57 58 59]\n",
            "\n",
            "#3 교차 검증 정확도 :0.8667, 학습 데이터 크기: 120, 검증 데이터 크기: 30\n",
            "#3 검증 세트 인덱스:[60 61 62 63 64 65 66 67 68 69 70 71 72 73 74 75 76 77 78 79 80 81 82 83\n",
            " 84 85 86 87 88 89]\n",
            "\n",
            "#4 교차 검증 정확도 :0.9333, 학습 데이터 크기: 120, 검증 데이터 크기: 30\n",
            "#4 검증 세트 인덱스:[ 90  91  92  93  94  95  96  97  98  99 100 101 102 103 104 105 106 107\n",
            " 108 109 110 111 112 113 114 115 116 117 118 119]\n",
            "\n",
            "#5 교차 검증 정확도 :0.7333, 학습 데이터 크기: 120, 검증 데이터 크기: 30\n",
            "#5 검증 세트 인덱스:[120 121 122 123 124 125 126 127 128 129 130 131 132 133 134 135 136 137\n",
            " 138 139 140 141 142 143 144 145 146 147 148 149]\n",
            "\n",
            "## 평균 검증 정확도: 0.9\n"
          ]
        }
      ]
    },
    {
      "cell_type": "markdown",
      "source": [
        "#### Stratified K 폴드"
      ],
      "metadata": {
        "id": "hnszkHYO1Q-B"
      }
    },
    {
      "cell_type": "markdown",
      "source": [
        "- 불균형한(imbalanced) 분포도를 가진 레이블(결정 클래스) 데이터 집합을 위한 K 폴드 방식\n",
        "- 불균형한 분포도를 가진 레이블 데이터 집합: 특정 레이블 값이 특이하게 많거나 매우 적어서 값의 분포가 한쪽으로 치우치는 것\n",
        "- 원본 데이터의 레이블 분포를 먼저 고려한 뒤 이 분포와 동일하게 학습과 검증 데이터 세트를 분배"
      ],
      "metadata": {
        "id": "jrmIKyHf2CLz"
      }
    },
    {
      "cell_type": "markdown",
      "source": [
        "먼저 K 폴드가 가진 문제 확인 후 StrtifiedKFold 클래스 이용해서 개선"
      ],
      "metadata": {
        "id": "qOqX8GeH20sd"
      }
    },
    {
      "cell_type": "markdown",
      "source": [
        "붓꽃 데이터 세트를 간단하게 DataFrame으로 생성하고 레이블 값의 분포도 확인"
      ],
      "metadata": {
        "id": "UifeFIyQ26bR"
      }
    },
    {
      "cell_type": "code",
      "source": [
        "import pandas as pd\n",
        "\n",
        "iris = load_iris()\n",
        "\n",
        "iris_df = pd.DataFrame(data=iris.data, columns=iris.feature_names)\n",
        "iris_df['label']=iris.target\n",
        "iris_df['label'].value_counts()"
      ],
      "metadata": {
        "colab": {
          "base_uri": "https://localhost:8080/",
          "height": 209
        },
        "id": "hfHhnvu-0xHr",
        "outputId": "0c0b0486-7d4b-48c0-aa19-3113a505875a"
      },
      "execution_count": null,
      "outputs": [
        {
          "output_type": "execute_result",
          "data": {
            "text/plain": [
              "label\n",
              "0    50\n",
              "1    50\n",
              "2    50\n",
              "Name: count, dtype: int64"
            ],
            "text/html": [
              "<div>\n",
              "<style scoped>\n",
              "    .dataframe tbody tr th:only-of-type {\n",
              "        vertical-align: middle;\n",
              "    }\n",
              "\n",
              "    .dataframe tbody tr th {\n",
              "        vertical-align: top;\n",
              "    }\n",
              "\n",
              "    .dataframe thead th {\n",
              "        text-align: right;\n",
              "    }\n",
              "</style>\n",
              "<table border=\"1\" class=\"dataframe\">\n",
              "  <thead>\n",
              "    <tr style=\"text-align: right;\">\n",
              "      <th></th>\n",
              "      <th>count</th>\n",
              "    </tr>\n",
              "    <tr>\n",
              "      <th>label</th>\n",
              "      <th></th>\n",
              "    </tr>\n",
              "  </thead>\n",
              "  <tbody>\n",
              "    <tr>\n",
              "      <th>0</th>\n",
              "      <td>50</td>\n",
              "    </tr>\n",
              "    <tr>\n",
              "      <th>1</th>\n",
              "      <td>50</td>\n",
              "    </tr>\n",
              "    <tr>\n",
              "      <th>2</th>\n",
              "      <td>50</td>\n",
              "    </tr>\n",
              "  </tbody>\n",
              "</table>\n",
              "</div><br><label><b>dtype:</b> int64</label>"
            ]
          },
          "metadata": {},
          "execution_count": 22
        }
      ]
    },
    {
      "cell_type": "markdown",
      "source": [
        "- 레이블 값 0, 1, 2 모두 50개로 동일"
      ],
      "metadata": {
        "id": "4Vg_2R-q3Jh4"
      }
    },
    {
      "cell_type": "markdown",
      "source": [
        "이슈 발생 위해 3개의 폴드 세트를 KFold로 생성, 각 교차 검증 시마다 생성되는 학습/검증 레이블 데이터 값 분포도 확인"
      ],
      "metadata": {
        "id": "i5Ofh2-r3Xw3"
      }
    },
    {
      "cell_type": "code",
      "source": [
        "kfold = KFold(n_splits=3)\n",
        "# kfold.split(X)는 폴드 세트를 3번 반복할 때마다 달라지는 학습/테스트 용 데이터 로우 인덱스 번호 반환.\n",
        "n_iter =0\n",
        "for train_index, test_index  in kfold.split(iris_df):\n",
        "    n_iter += 1\n",
        "    label_train= iris_df['label'].iloc[train_index]\n",
        "    label_test= iris_df['label'].iloc[test_index]\n",
        "    print('## 교차 검증: {0}'.format(n_iter))\n",
        "    print('학습 레이블 데이터 분포:\\n', label_train.value_counts())\n",
        "    print('검증 레이블 데이터 분포:\\n', label_test.value_counts())"
      ],
      "metadata": {
        "colab": {
          "base_uri": "https://localhost:8080/"
        },
        "id": "onDO6_TJ1oCd",
        "outputId": "477cb065-d637-455b-a001-b8e21bdc097f"
      },
      "execution_count": null,
      "outputs": [
        {
          "output_type": "stream",
          "name": "stdout",
          "text": [
            "## 교차 검증: 1\n",
            "학습 레이블 데이터 분포:\n",
            " label\n",
            "1    50\n",
            "2    50\n",
            "Name: count, dtype: int64\n",
            "검증 레이블 데이터 분포:\n",
            " label\n",
            "0    50\n",
            "Name: count, dtype: int64\n",
            "## 교차 검증: 2\n",
            "학습 레이블 데이터 분포:\n",
            " label\n",
            "0    50\n",
            "2    50\n",
            "Name: count, dtype: int64\n",
            "검증 레이블 데이터 분포:\n",
            " label\n",
            "1    50\n",
            "Name: count, dtype: int64\n",
            "## 교차 검증: 3\n",
            "학습 레이블 데이터 분포:\n",
            " label\n",
            "0    50\n",
            "1    50\n",
            "Name: count, dtype: int64\n",
            "검증 레이블 데이터 분포:\n",
            " label\n",
            "2    50\n",
            "Name: count, dtype: int64\n"
          ]
        }
      ]
    },
    {
      "cell_type": "markdown",
      "source": [
        "- 학습 레이블은 1, 2밖에 없으므로 0의 경우는 전혀 학습되지 못함.\n",
        "- 검증 레이블은 0밖에 없으므로 학습 모델은 절대 0 을 예측하지 못함.\n",
        "- 이런 유형으로 교차 검증 데이터 세트를 분할하면 검증 예측 정확도는 0"
      ],
      "metadata": {
        "id": "xOrMtPk13tK1"
      }
    },
    {
      "cell_type": "markdown",
      "source": [
        "동일한 데이터 분할을 `StratifiedKFold`로 수행하고 학습/검증 레이블 데이터의 분포도 확인"
      ],
      "metadata": {
        "id": "pTsFLziX5qME"
      }
    },
    {
      "cell_type": "markdown",
      "source": [
        "`StratifiedKFold`\n",
        "- 레이블 데이터 분포도에 따라 학습/검증 데이터를 나누기 때문에 split() 메서드에 인자로 피처 데이터 세트뿐만 아니라 레이블 데이터세트도 반드시 필요\n",
        "- K폴드의 경우 레이블 데이터 세트는 입력하지 않아도 무방"
      ],
      "metadata": {
        "id": "Hnkd_sWP50Pr"
      }
    },
    {
      "cell_type": "code",
      "source": [
        "from sklearn.model_selection import StratifiedKFold\n",
        "\n",
        "skf = StratifiedKFold(n_splits=3)\n",
        "n_iter=0\n",
        "\n",
        "for train_index, test_index in skf.split(iris_df, iris_df['label']):\n",
        "    n_iter += 1\n",
        "    label_train= iris_df['label'].iloc[train_index]\n",
        "    label_test= iris_df['label'].iloc[test_index]\n",
        "    print('## 교차 검증: {0}'.format(n_iter))\n",
        "    print('학습 레이블 데이터 분포:\\n', label_train.value_counts())\n",
        "    print('검증 레이블 데이터 분포:\\n', label_test.value_counts())"
      ],
      "metadata": {
        "colab": {
          "base_uri": "https://localhost:8080/"
        },
        "id": "tyk-2fod1qQa",
        "outputId": "4025afc3-7700-4822-d208-bfb2b2a931ad"
      },
      "execution_count": null,
      "outputs": [
        {
          "output_type": "stream",
          "name": "stdout",
          "text": [
            "## 교차 검증: 1\n",
            "학습 레이블 데이터 분포:\n",
            " label\n",
            "2    34\n",
            "0    33\n",
            "1    33\n",
            "Name: count, dtype: int64\n",
            "검증 레이블 데이터 분포:\n",
            " label\n",
            "0    17\n",
            "1    17\n",
            "2    16\n",
            "Name: count, dtype: int64\n",
            "## 교차 검증: 2\n",
            "학습 레이블 데이터 분포:\n",
            " label\n",
            "1    34\n",
            "0    33\n",
            "2    33\n",
            "Name: count, dtype: int64\n",
            "검증 레이블 데이터 분포:\n",
            " label\n",
            "0    17\n",
            "2    17\n",
            "1    16\n",
            "Name: count, dtype: int64\n",
            "## 교차 검증: 3\n",
            "학습 레이블 데이터 분포:\n",
            " label\n",
            "0    34\n",
            "1    33\n",
            "2    33\n",
            "Name: count, dtype: int64\n",
            "검증 레이블 데이터 분포:\n",
            " label\n",
            "1    17\n",
            "2    17\n",
            "0    16\n",
            "Name: count, dtype: int64\n"
          ]
        }
      ]
    },
    {
      "cell_type": "markdown",
      "source": [
        "- 학습 레이블과 검증 레이블 데이터 값의 분포도가 거의 동일하게 할당됨"
      ],
      "metadata": {
        "id": "PCqwrddg6lIH"
      }
    },
    {
      "cell_type": "markdown",
      "source": [
        "StratifiedKFold를 이용해 붓꽃 데이터 교차 검증"
      ],
      "metadata": {
        "id": "XNrjC4O06ps5"
      }
    },
    {
      "cell_type": "code",
      "source": [
        "dt_clf = DecisionTreeClassifier(random_state=156)\n",
        "\n",
        "skfold = StratifiedKFold(n_splits=3)\n",
        "n_iter=0\n",
        "cv_accuracy=[]\n",
        "\n",
        "# StratifiedKFold의 split( ) 호출시 반드시 레이블 데이터 셋도 추가 입력 필요\n",
        "for train_index, test_index  in skfold.split(features, label):\n",
        "    # split( )으로 반환된 인덱스를 이용하여 학습용, 검증용 테스트 데이터 추출\n",
        "    X_train, X_test = features[train_index], features[test_index]\n",
        "    y_train, y_test = label[train_index], label[test_index]\n",
        "    #학습 및 예측\n",
        "    dt_clf.fit(X_train , y_train)\n",
        "    pred = dt_clf.predict(X_test)\n",
        "\n",
        "    # 반복 시 마다 정확도 측정\n",
        "    n_iter += 1\n",
        "    accuracy = np.round(accuracy_score(y_test,pred), 4)\n",
        "    train_size = X_train.shape[0]\n",
        "    test_size = X_test.shape[0]\n",
        "    print('\\n#{0} 교차 검증 정확도 :{1}, 학습 데이터 크기: {2}, 검증 데이터 크기: {3}'\n",
        "          .format(n_iter, accuracy, train_size, test_size))\n",
        "    print('#{0} 검증 세트 인덱스:{1}'.format(n_iter,test_index))\n",
        "    cv_accuracy.append(accuracy)\n",
        "\n",
        "# 교차 검증별 정확도 및 평균 정확도 계산\n",
        "print('\\n## 교차 검증별 정확도:', np.round(cv_accuracy, 4))\n",
        "print('## 평균 검증 정확도:', np.round(np.mean(cv_accuracy), 4))"
      ],
      "metadata": {
        "colab": {
          "base_uri": "https://localhost:8080/"
        },
        "id": "-eZ0rja21sZw",
        "outputId": "3164f8d6-193f-421e-9861-b3ed2ade0cea"
      },
      "execution_count": null,
      "outputs": [
        {
          "output_type": "stream",
          "name": "stdout",
          "text": [
            "\n",
            "#1 교차 검증 정확도 :0.98, 학습 데이터 크기: 100, 검증 데이터 크기: 50\n",
            "#1 검증 세트 인덱스:[  0   1   2   3   4   5   6   7   8   9  10  11  12  13  14  15  16  50\n",
            "  51  52  53  54  55  56  57  58  59  60  61  62  63  64  65  66 100 101\n",
            " 102 103 104 105 106 107 108 109 110 111 112 113 114 115]\n",
            "\n",
            "#2 교차 검증 정확도 :0.94, 학습 데이터 크기: 100, 검증 데이터 크기: 50\n",
            "#2 검증 세트 인덱스:[ 17  18  19  20  21  22  23  24  25  26  27  28  29  30  31  32  33  67\n",
            "  68  69  70  71  72  73  74  75  76  77  78  79  80  81  82 116 117 118\n",
            " 119 120 121 122 123 124 125 126 127 128 129 130 131 132]\n",
            "\n",
            "#3 교차 검증 정확도 :0.98, 학습 데이터 크기: 100, 검증 데이터 크기: 50\n",
            "#3 검증 세트 인덱스:[ 34  35  36  37  38  39  40  41  42  43  44  45  46  47  48  49  83  84\n",
            "  85  86  87  88  89  90  91  92  93  94  95  96  97  98  99 133 134 135\n",
            " 136 137 138 139 140 141 142 143 144 145 146 147 148 149]\n",
            "\n",
            "## 교차 검증별 정확도: [0.98 0.94 0.98]\n",
            "## 평균 검증 정확도: 0.9667\n"
          ]
        }
      ]
    },
    {
      "cell_type": "markdown",
      "source": [
        "- 일반적으로 분류에서의 교차 검증은 K 폴드가 아니라 Stratified K 폴드로 분할돼야 함\n",
        "- 회귀에서는 Stratified K 폴드가 지원되지 않음. 회귀을 결정값은 이산값 형태의 레이블이 아니라 연속된 숫자값이기 때문"
      ],
      "metadata": {
        "id": "XluzP1Bt7eJm"
      }
    },
    {
      "cell_type": "markdown",
      "source": [
        "#### cross_val_score()"
      ],
      "metadata": {
        "id": "DqXXZfGx7twS"
      }
    },
    {
      "cell_type": "markdown",
      "source": [
        "KFold 데이터 학습 및 예측 코드  \n",
        "1) 폴드 세트를 설정   \n",
        "2) for 루프에서 반복으로 학습 및 테스트 데이터의 인덱스 추출  \n",
        "3) 반복적으로 학습과 예측 수행하고 예측 성능 반환"
      ],
      "metadata": {
        "id": "WGFxI3ZT9YMk"
      }
    },
    {
      "cell_type": "markdown",
      "source": [
        "이런 일련의 과정 한꺼번에 수행해주는 API"
      ],
      "metadata": {
        "id": "qYIinSa-91tc"
      }
    },
    {
      "cell_type": "markdown",
      "source": [
        "`cross_val_score(estimator, X, y=None, scoring=None, n_jobs=1, verbose=0, fit_params=None, pre_dispatch='2*n_jobs)`   \n",
        "이 중 `estimator`, `X`, `y`, `scoring`, `cv` 가 주요 파라미터"
      ],
      "metadata": {
        "id": "xKnkMXyM95Vk"
      }
    },
    {
      "cell_type": "markdown",
      "source": [
        "- `estimator`: 사이킷런의 분류 알고리즘 클래스 Classifier 또는 회귀 알고리즘 클래스 Regressor\n",
        "- `X`: 피처 데이터 세트\n",
        "- `y`: 레이블 데이터 세트\n",
        "- `scoring`: 예측 성능 평가 지표\n",
        "- `cv`: 교차 검증 폴드 수"
      ],
      "metadata": {
        "id": "KhEzdE27-QtJ"
      }
    },
    {
      "cell_type": "markdown",
      "source": [
        "- Classifier는 Stratified K 폴드 방식\n",
        "- Regressor는 K 폴드 방식"
      ],
      "metadata": {
        "id": "mhtSmJ_A-wm8"
      }
    },
    {
      "cell_type": "code",
      "source": [
        "from sklearn.tree import DecisionTreeClassifier\n",
        "from sklearn.model_selection import cross_val_score , cross_validate\n",
        "from sklearn.datasets import load_iris\n",
        "\n",
        "iris_data = load_iris()\n",
        "dt_clf = DecisionTreeClassifier(random_state=156)\n",
        "\n",
        "data = iris_data.data\n",
        "label = iris_data.target\n",
        "\n",
        "# 성능 지표는 정확도(accuracy) , 교차 검증 세트는 3개\n",
        "scores = cross_val_score(dt_clf , data , label , scoring='accuracy',cv=3)\n",
        "print('교차 검증별 정확도:',np.round(scores, 4))\n",
        "print('평균 검증 정확도:', np.round(np.mean(scores), 4))"
      ],
      "metadata": {
        "colab": {
          "base_uri": "https://localhost:8080/"
        },
        "id": "tHcr58Fc6wNR",
        "outputId": "6d4cb0c4-09ab-4427-ea3e-8fc8911afd48"
      },
      "execution_count": null,
      "outputs": [
        {
          "output_type": "stream",
          "name": "stdout",
          "text": [
            "교차 검증별 정확도: [0.98 0.94 0.98]\n",
            "평균 검증 정확도: 0.9667\n"
          ]
        }
      ]
    },
    {
      "cell_type": "markdown",
      "source": [
        "- `cross_val_score()`: 단 하나의 평가 지표만 가능\n",
        "- `cross_validate()`: 여러 개의 평가 지표를 반환, 학습 데이터에 대한 성능 평가 지표와 수행 시간도 제공"
      ],
      "metadata": {
        "id": "4v1Rjz6O-8IG"
      }
    },
    {
      "cell_type": "markdown",
      "source": [
        "### GridSearchCV"
      ],
      "metadata": {
        "id": "OUdAzqQT_QF-"
      }
    },
    {
      "cell_type": "markdown",
      "source": [
        "교차 검증과 최적 하이퍼 파라미터 튜닝을 한 번에"
      ],
      "metadata": {
        "id": "-bdt15Xm_amB"
      }
    },
    {
      "cell_type": "markdown",
      "source": [
        "데이터 세트를 cross-validation을 위한 학습/테스트 세트로 자동으로 분할한 뒤   \n",
        "하이퍼 파라미터 그리드에 기술된 모든 파라미터를 순차적으로 적용해   \n",
        "최적의 파라미터를 찾을 수 있게 한다."
      ],
      "metadata": {
        "id": "fDJ6u9ZDhf1a"
      }
    },
    {
      "cell_type": "markdown",
      "source": [
        "- 결정 트리 알고리즘을 구현한 `DecisionTreeClassifier`의 중요 하이퍼 파라미터인 `amx_depth`와 `min_samples_split`의 값을 변화시키면서 최적화 진행\n",
        "- 테스트할 하이퍼 파라미터 세트는 딕셔너리 형태로 하이퍼 파라미터의 명칭은 문자열 Key 값으로, 하이퍼 파라미터의 값은 리스트 형으로 설정"
      ],
      "metadata": {
        "id": "yVKMqJPMh_1C"
      }
    },
    {
      "cell_type": "code",
      "source": [
        "from sklearn.datasets import load_iris\n",
        "from sklearn.tree import DecisionTreeClassifier\n",
        "from sklearn.model_selection import GridSearchCV\n",
        "\n",
        "# 데이터를 로딩하고 학습데이터와 테스트 데이터 분리\n",
        "iris = load_iris()\n",
        "X_train, X_test, y_train, y_test = train_test_split(iris_data.data, iris_data.target,\n",
        "                                                    test_size=0.2, random_state=121)\n",
        "dtree = DecisionTreeClassifier()\n",
        "\n",
        "### parameter 들을 dictionary 형태로 설정\n",
        "parameters = {'max_depth':[1,2,3], 'min_samples_split':[2,3]}"
      ],
      "metadata": {
        "id": "XyIne2Pi-xZu"
      },
      "execution_count": null,
      "outputs": []
    },
    {
      "cell_type": "markdown",
      "source": [
        "- `GridSearchCV` 객체의 `fit(학습 데이터 세트)` 메서드를 수행\n",
        "- 학습 데이터를 `cv`에 기술된 폴딩 세트로 분할해 `parma_grid`에 기술된 하이퍼 파라미터를 순차적으로 변경하면서 학습/평가를 수행\n",
        "- 그 결과를 `cv_results_` 속성에 기록"
      ],
      "metadata": {
        "id": "RylzXZBTikLg"
      }
    },
    {
      "cell_type": "code",
      "source": [
        "import pandas as pd\n",
        "\n",
        "# param_grid의 하이퍼 파라미터들을 3개의 train, test set fold 로 나누어서 테스트 수행 설정.\n",
        "### refit=True 가 default 임. True이면 가장 좋은 파라미터 설정으로 재 학습 시킴.\n",
        "grid_dtree = GridSearchCV(dtree, param_grid=parameters, cv=3, refit=True)\n",
        "\n",
        "# 붓꽃 Train 데이터로 param_grid의 하이퍼 파라미터들을 순차적으로 학습/평가 .\n",
        "grid_dtree.fit(X_train, y_train)\n",
        "\n",
        "# GridSearchCV 결과 추출하여 DataFrame으로 변환\n",
        "scores_df = pd.DataFrame(grid_dtree.cv_results_)\n",
        "scores_df[['params', 'mean_test_score', 'rank_test_score', \\\n",
        "           'split0_test_score', 'split1_test_score', 'split2_test_score']]"
      ],
      "metadata": {
        "colab": {
          "base_uri": "https://localhost:8080/",
          "height": 237
        },
        "id": "ROZ50eSk_iEJ",
        "outputId": "6109e853-42bb-4845-92e9-3a5c09fdbfcb"
      },
      "execution_count": null,
      "outputs": [
        {
          "output_type": "execute_result",
          "data": {
            "text/plain": [
              "                                     params  mean_test_score  rank_test_score  \\\n",
              "0  {'max_depth': 1, 'min_samples_split': 2}         0.700000                5   \n",
              "1  {'max_depth': 1, 'min_samples_split': 3}         0.700000                5   \n",
              "2  {'max_depth': 2, 'min_samples_split': 2}         0.958333                3   \n",
              "3  {'max_depth': 2, 'min_samples_split': 3}         0.958333                3   \n",
              "4  {'max_depth': 3, 'min_samples_split': 2}         0.975000                1   \n",
              "5  {'max_depth': 3, 'min_samples_split': 3}         0.975000                1   \n",
              "\n",
              "   split0_test_score  split1_test_score  split2_test_score  \n",
              "0              0.700                0.7               0.70  \n",
              "1              0.700                0.7               0.70  \n",
              "2              0.925                1.0               0.95  \n",
              "3              0.925                1.0               0.95  \n",
              "4              0.975                1.0               0.95  \n",
              "5              0.975                1.0               0.95  "
            ],
            "text/html": [
              "\n",
              "  <div id=\"df-9b2a37a8-c7ee-400c-9249-2bec754b5706\" class=\"colab-df-container\">\n",
              "    <div>\n",
              "<style scoped>\n",
              "    .dataframe tbody tr th:only-of-type {\n",
              "        vertical-align: middle;\n",
              "    }\n",
              "\n",
              "    .dataframe tbody tr th {\n",
              "        vertical-align: top;\n",
              "    }\n",
              "\n",
              "    .dataframe thead th {\n",
              "        text-align: right;\n",
              "    }\n",
              "</style>\n",
              "<table border=\"1\" class=\"dataframe\">\n",
              "  <thead>\n",
              "    <tr style=\"text-align: right;\">\n",
              "      <th></th>\n",
              "      <th>params</th>\n",
              "      <th>mean_test_score</th>\n",
              "      <th>rank_test_score</th>\n",
              "      <th>split0_test_score</th>\n",
              "      <th>split1_test_score</th>\n",
              "      <th>split2_test_score</th>\n",
              "    </tr>\n",
              "  </thead>\n",
              "  <tbody>\n",
              "    <tr>\n",
              "      <th>0</th>\n",
              "      <td>{'max_depth': 1, 'min_samples_split': 2}</td>\n",
              "      <td>0.700000</td>\n",
              "      <td>5</td>\n",
              "      <td>0.700</td>\n",
              "      <td>0.7</td>\n",
              "      <td>0.70</td>\n",
              "    </tr>\n",
              "    <tr>\n",
              "      <th>1</th>\n",
              "      <td>{'max_depth': 1, 'min_samples_split': 3}</td>\n",
              "      <td>0.700000</td>\n",
              "      <td>5</td>\n",
              "      <td>0.700</td>\n",
              "      <td>0.7</td>\n",
              "      <td>0.70</td>\n",
              "    </tr>\n",
              "    <tr>\n",
              "      <th>2</th>\n",
              "      <td>{'max_depth': 2, 'min_samples_split': 2}</td>\n",
              "      <td>0.958333</td>\n",
              "      <td>3</td>\n",
              "      <td>0.925</td>\n",
              "      <td>1.0</td>\n",
              "      <td>0.95</td>\n",
              "    </tr>\n",
              "    <tr>\n",
              "      <th>3</th>\n",
              "      <td>{'max_depth': 2, 'min_samples_split': 3}</td>\n",
              "      <td>0.958333</td>\n",
              "      <td>3</td>\n",
              "      <td>0.925</td>\n",
              "      <td>1.0</td>\n",
              "      <td>0.95</td>\n",
              "    </tr>\n",
              "    <tr>\n",
              "      <th>4</th>\n",
              "      <td>{'max_depth': 3, 'min_samples_split': 2}</td>\n",
              "      <td>0.975000</td>\n",
              "      <td>1</td>\n",
              "      <td>0.975</td>\n",
              "      <td>1.0</td>\n",
              "      <td>0.95</td>\n",
              "    </tr>\n",
              "    <tr>\n",
              "      <th>5</th>\n",
              "      <td>{'max_depth': 3, 'min_samples_split': 3}</td>\n",
              "      <td>0.975000</td>\n",
              "      <td>1</td>\n",
              "      <td>0.975</td>\n",
              "      <td>1.0</td>\n",
              "      <td>0.95</td>\n",
              "    </tr>\n",
              "  </tbody>\n",
              "</table>\n",
              "</div>\n",
              "    <div class=\"colab-df-buttons\">\n",
              "\n",
              "  <div class=\"colab-df-container\">\n",
              "    <button class=\"colab-df-convert\" onclick=\"convertToInteractive('df-9b2a37a8-c7ee-400c-9249-2bec754b5706')\"\n",
              "            title=\"Convert this dataframe to an interactive table.\"\n",
              "            style=\"display:none;\">\n",
              "\n",
              "  <svg xmlns=\"http://www.w3.org/2000/svg\" height=\"24px\" viewBox=\"0 -960 960 960\">\n",
              "    <path d=\"M120-120v-720h720v720H120Zm60-500h600v-160H180v160Zm220 220h160v-160H400v160Zm0 220h160v-160H400v160ZM180-400h160v-160H180v160Zm440 0h160v-160H620v160ZM180-180h160v-160H180v160Zm440 0h160v-160H620v160Z\"/>\n",
              "  </svg>\n",
              "    </button>\n",
              "\n",
              "  <style>\n",
              "    .colab-df-container {\n",
              "      display:flex;\n",
              "      gap: 12px;\n",
              "    }\n",
              "\n",
              "    .colab-df-convert {\n",
              "      background-color: #E8F0FE;\n",
              "      border: none;\n",
              "      border-radius: 50%;\n",
              "      cursor: pointer;\n",
              "      display: none;\n",
              "      fill: #1967D2;\n",
              "      height: 32px;\n",
              "      padding: 0 0 0 0;\n",
              "      width: 32px;\n",
              "    }\n",
              "\n",
              "    .colab-df-convert:hover {\n",
              "      background-color: #E2EBFA;\n",
              "      box-shadow: 0px 1px 2px rgba(60, 64, 67, 0.3), 0px 1px 3px 1px rgba(60, 64, 67, 0.15);\n",
              "      fill: #174EA6;\n",
              "    }\n",
              "\n",
              "    .colab-df-buttons div {\n",
              "      margin-bottom: 4px;\n",
              "    }\n",
              "\n",
              "    [theme=dark] .colab-df-convert {\n",
              "      background-color: #3B4455;\n",
              "      fill: #D2E3FC;\n",
              "    }\n",
              "\n",
              "    [theme=dark] .colab-df-convert:hover {\n",
              "      background-color: #434B5C;\n",
              "      box-shadow: 0px 1px 3px 1px rgba(0, 0, 0, 0.15);\n",
              "      filter: drop-shadow(0px 1px 2px rgba(0, 0, 0, 0.3));\n",
              "      fill: #FFFFFF;\n",
              "    }\n",
              "  </style>\n",
              "\n",
              "    <script>\n",
              "      const buttonEl =\n",
              "        document.querySelector('#df-9b2a37a8-c7ee-400c-9249-2bec754b5706 button.colab-df-convert');\n",
              "      buttonEl.style.display =\n",
              "        google.colab.kernel.accessAllowed ? 'block' : 'none';\n",
              "\n",
              "      async function convertToInteractive(key) {\n",
              "        const element = document.querySelector('#df-9b2a37a8-c7ee-400c-9249-2bec754b5706');\n",
              "        const dataTable =\n",
              "          await google.colab.kernel.invokeFunction('convertToInteractive',\n",
              "                                                    [key], {});\n",
              "        if (!dataTable) return;\n",
              "\n",
              "        const docLinkHtml = 'Like what you see? Visit the ' +\n",
              "          '<a target=\"_blank\" href=https://colab.research.google.com/notebooks/data_table.ipynb>data table notebook</a>'\n",
              "          + ' to learn more about interactive tables.';\n",
              "        element.innerHTML = '';\n",
              "        dataTable['output_type'] = 'display_data';\n",
              "        await google.colab.output.renderOutput(dataTable, element);\n",
              "        const docLink = document.createElement('div');\n",
              "        docLink.innerHTML = docLinkHtml;\n",
              "        element.appendChild(docLink);\n",
              "      }\n",
              "    </script>\n",
              "  </div>\n",
              "\n",
              "\n",
              "<div id=\"df-01560b4e-d02a-4827-a6e5-7215c7304a61\">\n",
              "  <button class=\"colab-df-quickchart\" onclick=\"quickchart('df-01560b4e-d02a-4827-a6e5-7215c7304a61')\"\n",
              "            title=\"Suggest charts\"\n",
              "            style=\"display:none;\">\n",
              "\n",
              "<svg xmlns=\"http://www.w3.org/2000/svg\" height=\"24px\"viewBox=\"0 0 24 24\"\n",
              "     width=\"24px\">\n",
              "    <g>\n",
              "        <path d=\"M19 3H5c-1.1 0-2 .9-2 2v14c0 1.1.9 2 2 2h14c1.1 0 2-.9 2-2V5c0-1.1-.9-2-2-2zM9 17H7v-7h2v7zm4 0h-2V7h2v10zm4 0h-2v-4h2v4z\"/>\n",
              "    </g>\n",
              "</svg>\n",
              "  </button>\n",
              "\n",
              "<style>\n",
              "  .colab-df-quickchart {\n",
              "      --bg-color: #E8F0FE;\n",
              "      --fill-color: #1967D2;\n",
              "      --hover-bg-color: #E2EBFA;\n",
              "      --hover-fill-color: #174EA6;\n",
              "      --disabled-fill-color: #AAA;\n",
              "      --disabled-bg-color: #DDD;\n",
              "  }\n",
              "\n",
              "  [theme=dark] .colab-df-quickchart {\n",
              "      --bg-color: #3B4455;\n",
              "      --fill-color: #D2E3FC;\n",
              "      --hover-bg-color: #434B5C;\n",
              "      --hover-fill-color: #FFFFFF;\n",
              "      --disabled-bg-color: #3B4455;\n",
              "      --disabled-fill-color: #666;\n",
              "  }\n",
              "\n",
              "  .colab-df-quickchart {\n",
              "    background-color: var(--bg-color);\n",
              "    border: none;\n",
              "    border-radius: 50%;\n",
              "    cursor: pointer;\n",
              "    display: none;\n",
              "    fill: var(--fill-color);\n",
              "    height: 32px;\n",
              "    padding: 0;\n",
              "    width: 32px;\n",
              "  }\n",
              "\n",
              "  .colab-df-quickchart:hover {\n",
              "    background-color: var(--hover-bg-color);\n",
              "    box-shadow: 0 1px 2px rgba(60, 64, 67, 0.3), 0 1px 3px 1px rgba(60, 64, 67, 0.15);\n",
              "    fill: var(--button-hover-fill-color);\n",
              "  }\n",
              "\n",
              "  .colab-df-quickchart-complete:disabled,\n",
              "  .colab-df-quickchart-complete:disabled:hover {\n",
              "    background-color: var(--disabled-bg-color);\n",
              "    fill: var(--disabled-fill-color);\n",
              "    box-shadow: none;\n",
              "  }\n",
              "\n",
              "  .colab-df-spinner {\n",
              "    border: 2px solid var(--fill-color);\n",
              "    border-color: transparent;\n",
              "    border-bottom-color: var(--fill-color);\n",
              "    animation:\n",
              "      spin 1s steps(1) infinite;\n",
              "  }\n",
              "\n",
              "  @keyframes spin {\n",
              "    0% {\n",
              "      border-color: transparent;\n",
              "      border-bottom-color: var(--fill-color);\n",
              "      border-left-color: var(--fill-color);\n",
              "    }\n",
              "    20% {\n",
              "      border-color: transparent;\n",
              "      border-left-color: var(--fill-color);\n",
              "      border-top-color: var(--fill-color);\n",
              "    }\n",
              "    30% {\n",
              "      border-color: transparent;\n",
              "      border-left-color: var(--fill-color);\n",
              "      border-top-color: var(--fill-color);\n",
              "      border-right-color: var(--fill-color);\n",
              "    }\n",
              "    40% {\n",
              "      border-color: transparent;\n",
              "      border-right-color: var(--fill-color);\n",
              "      border-top-color: var(--fill-color);\n",
              "    }\n",
              "    60% {\n",
              "      border-color: transparent;\n",
              "      border-right-color: var(--fill-color);\n",
              "    }\n",
              "    80% {\n",
              "      border-color: transparent;\n",
              "      border-right-color: var(--fill-color);\n",
              "      border-bottom-color: var(--fill-color);\n",
              "    }\n",
              "    90% {\n",
              "      border-color: transparent;\n",
              "      border-bottom-color: var(--fill-color);\n",
              "    }\n",
              "  }\n",
              "</style>\n",
              "\n",
              "  <script>\n",
              "    async function quickchart(key) {\n",
              "      const quickchartButtonEl =\n",
              "        document.querySelector('#' + key + ' button');\n",
              "      quickchartButtonEl.disabled = true;  // To prevent multiple clicks.\n",
              "      quickchartButtonEl.classList.add('colab-df-spinner');\n",
              "      try {\n",
              "        const charts = await google.colab.kernel.invokeFunction(\n",
              "            'suggestCharts', [key], {});\n",
              "      } catch (error) {\n",
              "        console.error('Error during call to suggestCharts:', error);\n",
              "      }\n",
              "      quickchartButtonEl.classList.remove('colab-df-spinner');\n",
              "      quickchartButtonEl.classList.add('colab-df-quickchart-complete');\n",
              "    }\n",
              "    (() => {\n",
              "      let quickchartButtonEl =\n",
              "        document.querySelector('#df-01560b4e-d02a-4827-a6e5-7215c7304a61 button');\n",
              "      quickchartButtonEl.style.display =\n",
              "        google.colab.kernel.accessAllowed ? 'block' : 'none';\n",
              "    })();\n",
              "  </script>\n",
              "</div>\n",
              "\n",
              "    </div>\n",
              "  </div>\n"
            ],
            "application/vnd.google.colaboratory.intrinsic+json": {
              "type": "dataframe",
              "summary": "{\n  \"name\": \"           'split0_test_score', 'split1_test_score', 'split2_test_score']]\",\n  \"rows\": 6,\n  \"fields\": [\n    {\n      \"column\": \"params\",\n      \"properties\": {\n        \"dtype\": \"object\",\n        \"semantic_type\": \"\",\n        \"description\": \"\"\n      }\n    },\n    {\n      \"column\": \"mean_test_score\",\n      \"properties\": {\n        \"dtype\": \"number\",\n        \"std\": 0.13790764488786886,\n        \"min\": 0.6999999999999998,\n        \"max\": 0.975,\n        \"num_unique_values\": 3,\n        \"samples\": [\n          0.6999999999999998,\n          0.9583333333333334,\n          0.975\n        ],\n        \"semantic_type\": \"\",\n        \"description\": \"\"\n      }\n    },\n    {\n      \"column\": \"rank_test_score\",\n      \"properties\": {\n        \"dtype\": \"int32\",\n        \"num_unique_values\": 3,\n        \"samples\": [\n          5,\n          3,\n          1\n        ],\n        \"semantic_type\": \"\",\n        \"description\": \"\"\n      }\n    },\n    {\n      \"column\": \"split0_test_score\",\n      \"properties\": {\n        \"dtype\": \"number\",\n        \"std\": 0.131021626713557,\n        \"min\": 0.7,\n        \"max\": 0.975,\n        \"num_unique_values\": 3,\n        \"samples\": [\n          0.7,\n          0.925,\n          0.975\n        ],\n        \"semantic_type\": \"\",\n        \"description\": \"\"\n      }\n    },\n    {\n      \"column\": \"split1_test_score\",\n      \"properties\": {\n        \"dtype\": \"number\",\n        \"std\": 0.1549193338482967,\n        \"min\": 0.7,\n        \"max\": 1.0,\n        \"num_unique_values\": 2,\n        \"samples\": [\n          1.0,\n          0.7\n        ],\n        \"semantic_type\": \"\",\n        \"description\": \"\"\n      }\n    },\n    {\n      \"column\": \"split2_test_score\",\n      \"properties\": {\n        \"dtype\": \"number\",\n        \"std\": 0.12909944487358058,\n        \"min\": 0.7,\n        \"max\": 0.95,\n        \"num_unique_values\": 2,\n        \"samples\": [\n          0.95,\n          0.7\n        ],\n        \"semantic_type\": \"\",\n        \"description\": \"\"\n      }\n    }\n  ]\n}"
            }
          },
          "metadata": {},
          "execution_count": 28
        }
      ]
    },
    {
      "cell_type": "markdown",
      "source": [
        "총 6개의 결과\n",
        "- 하이퍼 파라미터 `max_depth`와 `min_smples_split`을 순차적으로 총 6번 변경하면서 학습/평가 수행\n",
        "- `splitn_test_score`: CV가 n인 경우, 즉 n개의 폴딩 세트에서 각각 테스트한 성능 수치(n = 0, 1, 2)\n",
        "- `mean_test_score`: 세 개 성능 수치 평균한 것\n",
        "- 0.975000 공동 1위"
      ],
      "metadata": {
        "id": "65c7YbQyjghK"
      }
    },
    {
      "cell_type": "code",
      "source": [
        "print('GridSearchCV 최적 파라미터:', grid_dtree.best_params_)\n",
        "print('GridSearchCV 최고 정확도: {0:.4f}'.format(grid_dtree.best_score_))"
      ],
      "metadata": {
        "colab": {
          "base_uri": "https://localhost:8080/"
        },
        "id": "p2RJ0dfp_kne",
        "outputId": "4e666130-fe0f-4971-f9ce-f58df8518ccf"
      },
      "execution_count": null,
      "outputs": [
        {
          "output_type": "stream",
          "name": "stdout",
          "text": [
            "GridSearchCV 최적 파라미터: {'max_depth': 3, 'min_samples_split': 2}\n",
            "GridSearchCV 최고 정확도: 0.9750\n"
          ]
        }
      ]
    },
    {
      "cell_type": "code",
      "source": [
        "# GridSearchCV의 refit으로 이미 학습이 된 estimator 반환\n",
        "estimator = grid_dtree.best_estimator_\n",
        "\n",
        "# GridSearchCV의 best_estimator_는 이미 최적 하이퍼 파라미터로 학습이 됨\n",
        "pred = estimator.predict(X_test)\n",
        "print('테스트 데이터 세트 정확도: {0:.4f}'.format(accuracy_score(y_test,pred)))"
      ],
      "metadata": {
        "colab": {
          "base_uri": "https://localhost:8080/"
        },
        "id": "HS7gYoUR_mqO",
        "outputId": "e39dee0f-d66b-4954-c19a-1a6d8861b51f"
      },
      "execution_count": null,
      "outputs": [
        {
          "output_type": "stream",
          "name": "stdout",
          "text": [
            "테스트 데이터 세트 정확도: 0.9667\n"
          ]
        }
      ]
    },
    {
      "cell_type": "markdown",
      "source": [
        "## 2.5 데이터 전처리"
      ],
      "metadata": {
        "id": "WyJHm4vCkbnR"
      }
    },
    {
      "cell_type": "markdown",
      "source": [
        "### 데이터 인코딩"
      ],
      "metadata": {
        "id": "5HEmzy20kiJt"
      }
    },
    {
      "cell_type": "markdown",
      "source": [
        "머신러닝 대표적인 인코딩 방식\n",
        "- 레이블 인코딩(Label encoding)\n",
        "- 원-핫 인코딩(One Hot encoding)"
      ],
      "metadata": {
        "id": "R8_2BnbAkq5O"
      }
    },
    {
      "cell_type": "markdown",
      "source": [
        "레이블 인코딩\n",
        "- 카데고리 피처를 코드형 숫자 값으로 변환하는 것\n",
        "- `LabelEncoder` 클래스로 구현\n",
        "- `LabelEncoder`를 객체로 생성한 후 `fit()`과 `transform()`을 호출해 레이블 인코딩 수행"
      ],
      "metadata": {
        "id": "PJdgERylk0B7"
      }
    },
    {
      "cell_type": "code",
      "source": [
        "from sklearn.preprocessing import LabelEncoder\n",
        "\n",
        "items=['TV','냉장고','전자레인지','컴퓨터','선풍기','선풍기','믹서','믹서']\n",
        "\n",
        "# LabelEncoder를 객체로 생성한 후 , fit( ) 과 transform( ) 으로 label 인코딩 수행.\n",
        "encoder = LabelEncoder()\n",
        "encoder.fit(items)\n",
        "labels = encoder.transform(items)\n",
        "print('인코딩 변환값:',labels)"
      ],
      "metadata": {
        "colab": {
          "base_uri": "https://localhost:8080/"
        },
        "id": "jTcnX81XkfrV",
        "outputId": "5ab61c10-4e81-43d3-d003-c890b034748f"
      },
      "execution_count": null,
      "outputs": [
        {
          "output_type": "stream",
          "name": "stdout",
          "text": [
            "인코딩 변환값: [0 1 4 5 3 3 2 2]\n"
          ]
        }
      ]
    },
    {
      "cell_type": "code",
      "source": [
        "# LabelEncoder 객체의 classes_속성값으로 확인\n",
        "print('인코딩 클래스:',encoder.classes_)"
      ],
      "metadata": {
        "colab": {
          "base_uri": "https://localhost:8080/"
        },
        "id": "ScnxGKPukntX",
        "outputId": "70351066-ef82-4615-fc75-b81a3ee714c9"
      },
      "execution_count": null,
      "outputs": [
        {
          "output_type": "stream",
          "name": "stdout",
          "text": [
            "인코딩 클래스: ['TV' '냉장고' '믹서' '선풍기' '전자레인지' '컴퓨터']\n"
          ]
        }
      ]
    },
    {
      "cell_type": "code",
      "source": [
        "# 인코딩된 값을 다시 디코딩\n",
        "print('디코딩 원본 값:',encoder.inverse_transform([4, 5, 2, 0, 1, 1, 3, 3]))"
      ],
      "metadata": {
        "colab": {
          "base_uri": "https://localhost:8080/"
        },
        "id": "AUGYjPA4kpRO",
        "outputId": "6b879451-3349-4bcb-91c7-78ed6bc92c70"
      },
      "execution_count": null,
      "outputs": [
        {
          "output_type": "stream",
          "name": "stdout",
          "text": [
            "디코딩 원본 값: ['전자레인지' '컴퓨터' '믹서' 'TV' '냉장고' '냉장고' '선풍기' '선풍기']\n"
          ]
        }
      ]
    },
    {
      "cell_type": "markdown",
      "source": [
        "- 숫자 변환 값은 단순 코드이지 숫자 값에 따른 순서나 중요도로 인식돼서는 안 된다.\n",
        "- 레이블 인코딩은 선형 회귀와 같은 ML 알고리즘에는 적용하지 않아야 함.\n",
        "- 트리 계열의 ML 알고리즘은 숫자의 이러한 특성 반영하지 않으므로 문제 없음."
      ],
      "metadata": {
        "id": "2oN_Ckq6liB4"
      }
    },
    {
      "cell_type": "markdown",
      "source": [
        "원-핫 인코딩\n",
        "- 피처 값의 유형에 따라 새로운 피처를 추가해 고유 값에 해당하는 칼럼에만 1을 표시, 나머지 칼럼에는 0을 표시"
      ],
      "metadata": {
        "id": "-H_e9aVJlyLM"
      }
    },
    {
      "cell_type": "markdown",
      "source": [
        "`OneHotEncoder` 클래스 (`LabelEncoder`와 다른 주의점)\n",
        "- 입력값으로 2차원 데이터 필요\n",
        "- 변환한 값이 희소 행렬(Sparse Matrix) 형태이므로 이를 다시 `toarray()` 메서드를 이용해 밀집 행렬(Dense Matrix)로 변환해야 함."
      ],
      "metadata": {
        "id": "X0Q_TcjvmAgr"
      }
    },
    {
      "cell_type": "code",
      "source": [
        "from sklearn.preprocessing import OneHotEncoder\n",
        "import numpy as np\n",
        "\n",
        "items=['TV','냉장고','전자레인지','컴퓨터','선풍기','선풍기','믹서','믹서']\n",
        "\n",
        "# 2차원 ndarray로 변환합니다.\n",
        "items = np.array(items).reshape(-1, 1)\n",
        "\n",
        "# 원-핫 인코딩을 적용합니다.\n",
        "oh_encoder = OneHotEncoder()\n",
        "oh_encoder.fit(items)\n",
        "oh_labels = oh_encoder.transform(items)\n",
        "\n",
        "# OneHotEncoder로 변환한 결과는 희소행렬이므로 toarray()를 이용해 밀집 행렬로 변환.\n",
        "print('원-핫 인코딩 데이터')\n",
        "print(oh_labels.toarray())\n",
        "print('원-핫 인코딩 데이터 차원')\n",
        "print(oh_labels.shape)"
      ],
      "metadata": {
        "colab": {
          "base_uri": "https://localhost:8080/"
        },
        "id": "N6DbmCMyldEt",
        "outputId": "ca6a2464-9c07-468a-9f96-aa6767de7f56"
      },
      "execution_count": null,
      "outputs": [
        {
          "output_type": "stream",
          "name": "stdout",
          "text": [
            "원-핫 인코딩 데이터\n",
            "[[1. 0. 0. 0. 0. 0.]\n",
            " [0. 1. 0. 0. 0. 0.]\n",
            " [0. 0. 0. 0. 1. 0.]\n",
            " [0. 0. 0. 0. 0. 1.]\n",
            " [0. 0. 0. 1. 0. 0.]\n",
            " [0. 0. 0. 1. 0. 0.]\n",
            " [0. 0. 1. 0. 0. 0.]\n",
            " [0. 0. 1. 0. 0. 0.]]\n",
            "원-핫 인코딩 데이터 차원\n",
            "(8, 6)\n"
          ]
        }
      ]
    },
    {
      "cell_type": "markdown",
      "source": [
        "`get_dummies()`\n",
        "- 문자열 카테고리 값을 숫자 형으로 변환할 필요 없이 바로 변환할 수 있다."
      ],
      "metadata": {
        "id": "cCleTtk3mkTP"
      }
    },
    {
      "cell_type": "code",
      "source": [
        "import pandas as pd\n",
        "\n",
        "df = pd.DataFrame({'item':['TV','냉장고','전자레인지','컴퓨터','선풍기','선풍기','믹서','믹서'] })\n",
        "pd.get_dummies(data = df)"
      ],
      "metadata": {
        "colab": {
          "base_uri": "https://localhost:8080/",
          "height": 300
        },
        "id": "SVjN9AzTmZWv",
        "outputId": "bf730f27-e67f-48ef-d132-2d319ce2a6f5"
      },
      "execution_count": null,
      "outputs": [
        {
          "output_type": "execute_result",
          "data": {
            "text/plain": [
              "   item_TV  item_냉장고  item_믹서  item_선풍기  item_전자레인지  item_컴퓨터\n",
              "0     True     False    False     False       False     False\n",
              "1    False      True    False     False       False     False\n",
              "2    False     False    False     False        True     False\n",
              "3    False     False    False     False       False      True\n",
              "4    False     False    False      True       False     False\n",
              "5    False     False    False      True       False     False\n",
              "6    False     False     True     False       False     False\n",
              "7    False     False     True     False       False     False"
            ],
            "text/html": [
              "\n",
              "  <div id=\"df-a533eb2f-2569-453b-9342-0c9ee74e6f5f\" class=\"colab-df-container\">\n",
              "    <div>\n",
              "<style scoped>\n",
              "    .dataframe tbody tr th:only-of-type {\n",
              "        vertical-align: middle;\n",
              "    }\n",
              "\n",
              "    .dataframe tbody tr th {\n",
              "        vertical-align: top;\n",
              "    }\n",
              "\n",
              "    .dataframe thead th {\n",
              "        text-align: right;\n",
              "    }\n",
              "</style>\n",
              "<table border=\"1\" class=\"dataframe\">\n",
              "  <thead>\n",
              "    <tr style=\"text-align: right;\">\n",
              "      <th></th>\n",
              "      <th>item_TV</th>\n",
              "      <th>item_냉장고</th>\n",
              "      <th>item_믹서</th>\n",
              "      <th>item_선풍기</th>\n",
              "      <th>item_전자레인지</th>\n",
              "      <th>item_컴퓨터</th>\n",
              "    </tr>\n",
              "  </thead>\n",
              "  <tbody>\n",
              "    <tr>\n",
              "      <th>0</th>\n",
              "      <td>True</td>\n",
              "      <td>False</td>\n",
              "      <td>False</td>\n",
              "      <td>False</td>\n",
              "      <td>False</td>\n",
              "      <td>False</td>\n",
              "    </tr>\n",
              "    <tr>\n",
              "      <th>1</th>\n",
              "      <td>False</td>\n",
              "      <td>True</td>\n",
              "      <td>False</td>\n",
              "      <td>False</td>\n",
              "      <td>False</td>\n",
              "      <td>False</td>\n",
              "    </tr>\n",
              "    <tr>\n",
              "      <th>2</th>\n",
              "      <td>False</td>\n",
              "      <td>False</td>\n",
              "      <td>False</td>\n",
              "      <td>False</td>\n",
              "      <td>True</td>\n",
              "      <td>False</td>\n",
              "    </tr>\n",
              "    <tr>\n",
              "      <th>3</th>\n",
              "      <td>False</td>\n",
              "      <td>False</td>\n",
              "      <td>False</td>\n",
              "      <td>False</td>\n",
              "      <td>False</td>\n",
              "      <td>True</td>\n",
              "    </tr>\n",
              "    <tr>\n",
              "      <th>4</th>\n",
              "      <td>False</td>\n",
              "      <td>False</td>\n",
              "      <td>False</td>\n",
              "      <td>True</td>\n",
              "      <td>False</td>\n",
              "      <td>False</td>\n",
              "    </tr>\n",
              "    <tr>\n",
              "      <th>5</th>\n",
              "      <td>False</td>\n",
              "      <td>False</td>\n",
              "      <td>False</td>\n",
              "      <td>True</td>\n",
              "      <td>False</td>\n",
              "      <td>False</td>\n",
              "    </tr>\n",
              "    <tr>\n",
              "      <th>6</th>\n",
              "      <td>False</td>\n",
              "      <td>False</td>\n",
              "      <td>True</td>\n",
              "      <td>False</td>\n",
              "      <td>False</td>\n",
              "      <td>False</td>\n",
              "    </tr>\n",
              "    <tr>\n",
              "      <th>7</th>\n",
              "      <td>False</td>\n",
              "      <td>False</td>\n",
              "      <td>True</td>\n",
              "      <td>False</td>\n",
              "      <td>False</td>\n",
              "      <td>False</td>\n",
              "    </tr>\n",
              "  </tbody>\n",
              "</table>\n",
              "</div>\n",
              "    <div class=\"colab-df-buttons\">\n",
              "\n",
              "  <div class=\"colab-df-container\">\n",
              "    <button class=\"colab-df-convert\" onclick=\"convertToInteractive('df-a533eb2f-2569-453b-9342-0c9ee74e6f5f')\"\n",
              "            title=\"Convert this dataframe to an interactive table.\"\n",
              "            style=\"display:none;\">\n",
              "\n",
              "  <svg xmlns=\"http://www.w3.org/2000/svg\" height=\"24px\" viewBox=\"0 -960 960 960\">\n",
              "    <path d=\"M120-120v-720h720v720H120Zm60-500h600v-160H180v160Zm220 220h160v-160H400v160Zm0 220h160v-160H400v160ZM180-400h160v-160H180v160Zm440 0h160v-160H620v160ZM180-180h160v-160H180v160Zm440 0h160v-160H620v160Z\"/>\n",
              "  </svg>\n",
              "    </button>\n",
              "\n",
              "  <style>\n",
              "    .colab-df-container {\n",
              "      display:flex;\n",
              "      gap: 12px;\n",
              "    }\n",
              "\n",
              "    .colab-df-convert {\n",
              "      background-color: #E8F0FE;\n",
              "      border: none;\n",
              "      border-radius: 50%;\n",
              "      cursor: pointer;\n",
              "      display: none;\n",
              "      fill: #1967D2;\n",
              "      height: 32px;\n",
              "      padding: 0 0 0 0;\n",
              "      width: 32px;\n",
              "    }\n",
              "\n",
              "    .colab-df-convert:hover {\n",
              "      background-color: #E2EBFA;\n",
              "      box-shadow: 0px 1px 2px rgba(60, 64, 67, 0.3), 0px 1px 3px 1px rgba(60, 64, 67, 0.15);\n",
              "      fill: #174EA6;\n",
              "    }\n",
              "\n",
              "    .colab-df-buttons div {\n",
              "      margin-bottom: 4px;\n",
              "    }\n",
              "\n",
              "    [theme=dark] .colab-df-convert {\n",
              "      background-color: #3B4455;\n",
              "      fill: #D2E3FC;\n",
              "    }\n",
              "\n",
              "    [theme=dark] .colab-df-convert:hover {\n",
              "      background-color: #434B5C;\n",
              "      box-shadow: 0px 1px 3px 1px rgba(0, 0, 0, 0.15);\n",
              "      filter: drop-shadow(0px 1px 2px rgba(0, 0, 0, 0.3));\n",
              "      fill: #FFFFFF;\n",
              "    }\n",
              "  </style>\n",
              "\n",
              "    <script>\n",
              "      const buttonEl =\n",
              "        document.querySelector('#df-a533eb2f-2569-453b-9342-0c9ee74e6f5f button.colab-df-convert');\n",
              "      buttonEl.style.display =\n",
              "        google.colab.kernel.accessAllowed ? 'block' : 'none';\n",
              "\n",
              "      async function convertToInteractive(key) {\n",
              "        const element = document.querySelector('#df-a533eb2f-2569-453b-9342-0c9ee74e6f5f');\n",
              "        const dataTable =\n",
              "          await google.colab.kernel.invokeFunction('convertToInteractive',\n",
              "                                                    [key], {});\n",
              "        if (!dataTable) return;\n",
              "\n",
              "        const docLinkHtml = 'Like what you see? Visit the ' +\n",
              "          '<a target=\"_blank\" href=https://colab.research.google.com/notebooks/data_table.ipynb>data table notebook</a>'\n",
              "          + ' to learn more about interactive tables.';\n",
              "        element.innerHTML = '';\n",
              "        dataTable['output_type'] = 'display_data';\n",
              "        await google.colab.output.renderOutput(dataTable, element);\n",
              "        const docLink = document.createElement('div');\n",
              "        docLink.innerHTML = docLinkHtml;\n",
              "        element.appendChild(docLink);\n",
              "      }\n",
              "    </script>\n",
              "  </div>\n",
              "\n",
              "\n",
              "<div id=\"df-375ca6b0-0a0b-413a-9b1a-f8665584927b\">\n",
              "  <button class=\"colab-df-quickchart\" onclick=\"quickchart('df-375ca6b0-0a0b-413a-9b1a-f8665584927b')\"\n",
              "            title=\"Suggest charts\"\n",
              "            style=\"display:none;\">\n",
              "\n",
              "<svg xmlns=\"http://www.w3.org/2000/svg\" height=\"24px\"viewBox=\"0 0 24 24\"\n",
              "     width=\"24px\">\n",
              "    <g>\n",
              "        <path d=\"M19 3H5c-1.1 0-2 .9-2 2v14c0 1.1.9 2 2 2h14c1.1 0 2-.9 2-2V5c0-1.1-.9-2-2-2zM9 17H7v-7h2v7zm4 0h-2V7h2v10zm4 0h-2v-4h2v4z\"/>\n",
              "    </g>\n",
              "</svg>\n",
              "  </button>\n",
              "\n",
              "<style>\n",
              "  .colab-df-quickchart {\n",
              "      --bg-color: #E8F0FE;\n",
              "      --fill-color: #1967D2;\n",
              "      --hover-bg-color: #E2EBFA;\n",
              "      --hover-fill-color: #174EA6;\n",
              "      --disabled-fill-color: #AAA;\n",
              "      --disabled-bg-color: #DDD;\n",
              "  }\n",
              "\n",
              "  [theme=dark] .colab-df-quickchart {\n",
              "      --bg-color: #3B4455;\n",
              "      --fill-color: #D2E3FC;\n",
              "      --hover-bg-color: #434B5C;\n",
              "      --hover-fill-color: #FFFFFF;\n",
              "      --disabled-bg-color: #3B4455;\n",
              "      --disabled-fill-color: #666;\n",
              "  }\n",
              "\n",
              "  .colab-df-quickchart {\n",
              "    background-color: var(--bg-color);\n",
              "    border: none;\n",
              "    border-radius: 50%;\n",
              "    cursor: pointer;\n",
              "    display: none;\n",
              "    fill: var(--fill-color);\n",
              "    height: 32px;\n",
              "    padding: 0;\n",
              "    width: 32px;\n",
              "  }\n",
              "\n",
              "  .colab-df-quickchart:hover {\n",
              "    background-color: var(--hover-bg-color);\n",
              "    box-shadow: 0 1px 2px rgba(60, 64, 67, 0.3), 0 1px 3px 1px rgba(60, 64, 67, 0.15);\n",
              "    fill: var(--button-hover-fill-color);\n",
              "  }\n",
              "\n",
              "  .colab-df-quickchart-complete:disabled,\n",
              "  .colab-df-quickchart-complete:disabled:hover {\n",
              "    background-color: var(--disabled-bg-color);\n",
              "    fill: var(--disabled-fill-color);\n",
              "    box-shadow: none;\n",
              "  }\n",
              "\n",
              "  .colab-df-spinner {\n",
              "    border: 2px solid var(--fill-color);\n",
              "    border-color: transparent;\n",
              "    border-bottom-color: var(--fill-color);\n",
              "    animation:\n",
              "      spin 1s steps(1) infinite;\n",
              "  }\n",
              "\n",
              "  @keyframes spin {\n",
              "    0% {\n",
              "      border-color: transparent;\n",
              "      border-bottom-color: var(--fill-color);\n",
              "      border-left-color: var(--fill-color);\n",
              "    }\n",
              "    20% {\n",
              "      border-color: transparent;\n",
              "      border-left-color: var(--fill-color);\n",
              "      border-top-color: var(--fill-color);\n",
              "    }\n",
              "    30% {\n",
              "      border-color: transparent;\n",
              "      border-left-color: var(--fill-color);\n",
              "      border-top-color: var(--fill-color);\n",
              "      border-right-color: var(--fill-color);\n",
              "    }\n",
              "    40% {\n",
              "      border-color: transparent;\n",
              "      border-right-color: var(--fill-color);\n",
              "      border-top-color: var(--fill-color);\n",
              "    }\n",
              "    60% {\n",
              "      border-color: transparent;\n",
              "      border-right-color: var(--fill-color);\n",
              "    }\n",
              "    80% {\n",
              "      border-color: transparent;\n",
              "      border-right-color: var(--fill-color);\n",
              "      border-bottom-color: var(--fill-color);\n",
              "    }\n",
              "    90% {\n",
              "      border-color: transparent;\n",
              "      border-bottom-color: var(--fill-color);\n",
              "    }\n",
              "  }\n",
              "</style>\n",
              "\n",
              "  <script>\n",
              "    async function quickchart(key) {\n",
              "      const quickchartButtonEl =\n",
              "        document.querySelector('#' + key + ' button');\n",
              "      quickchartButtonEl.disabled = true;  // To prevent multiple clicks.\n",
              "      quickchartButtonEl.classList.add('colab-df-spinner');\n",
              "      try {\n",
              "        const charts = await google.colab.kernel.invokeFunction(\n",
              "            'suggestCharts', [key], {});\n",
              "      } catch (error) {\n",
              "        console.error('Error during call to suggestCharts:', error);\n",
              "      }\n",
              "      quickchartButtonEl.classList.remove('colab-df-spinner');\n",
              "      quickchartButtonEl.classList.add('colab-df-quickchart-complete');\n",
              "    }\n",
              "    (() => {\n",
              "      let quickchartButtonEl =\n",
              "        document.querySelector('#df-375ca6b0-0a0b-413a-9b1a-f8665584927b button');\n",
              "      quickchartButtonEl.style.display =\n",
              "        google.colab.kernel.accessAllowed ? 'block' : 'none';\n",
              "    })();\n",
              "  </script>\n",
              "</div>\n",
              "\n",
              "    </div>\n",
              "  </div>\n"
            ],
            "application/vnd.google.colaboratory.intrinsic+json": {
              "type": "dataframe",
              "summary": "{\n  \"name\": \"pd\",\n  \"rows\": 8,\n  \"fields\": [\n    {\n      \"column\": \"item_TV\",\n      \"properties\": {\n        \"dtype\": \"boolean\",\n        \"num_unique_values\": 2,\n        \"samples\": [\n          false,\n          true\n        ],\n        \"semantic_type\": \"\",\n        \"description\": \"\"\n      }\n    },\n    {\n      \"column\": \"item_\\ub0c9\\uc7a5\\uace0\",\n      \"properties\": {\n        \"dtype\": \"boolean\",\n        \"num_unique_values\": 2,\n        \"samples\": [\n          true,\n          false\n        ],\n        \"semantic_type\": \"\",\n        \"description\": \"\"\n      }\n    },\n    {\n      \"column\": \"item_\\ubbf9\\uc11c\",\n      \"properties\": {\n        \"dtype\": \"boolean\",\n        \"num_unique_values\": 2,\n        \"samples\": [\n          true,\n          false\n        ],\n        \"semantic_type\": \"\",\n        \"description\": \"\"\n      }\n    },\n    {\n      \"column\": \"item_\\uc120\\ud48d\\uae30\",\n      \"properties\": {\n        \"dtype\": \"boolean\",\n        \"num_unique_values\": 2,\n        \"samples\": [\n          true,\n          false\n        ],\n        \"semantic_type\": \"\",\n        \"description\": \"\"\n      }\n    },\n    {\n      \"column\": \"item_\\uc804\\uc790\\ub808\\uc778\\uc9c0\",\n      \"properties\": {\n        \"dtype\": \"boolean\",\n        \"num_unique_values\": 2,\n        \"samples\": [\n          true,\n          false\n        ],\n        \"semantic_type\": \"\",\n        \"description\": \"\"\n      }\n    },\n    {\n      \"column\": \"item_\\ucef4\\ud4e8\\ud130\",\n      \"properties\": {\n        \"dtype\": \"boolean\",\n        \"num_unique_values\": 2,\n        \"samples\": [\n          true,\n          false\n        ],\n        \"semantic_type\": \"\",\n        \"description\": \"\"\n      }\n    }\n  ]\n}"
            }
          },
          "metadata": {},
          "execution_count": 38
        }
      ]
    },
    {
      "cell_type": "code",
      "source": [
        "import pandas as pd\n",
        "\n",
        "df = pd.DataFrame({'item':['TV','냉장고','전자레인지','컴퓨터','선풍기','선풍기','믹서','믹서'] })\n",
        "pd.get_dummies(data = df).astype(int) # 결과 0, 1로 바꾸기"
      ],
      "metadata": {
        "colab": {
          "base_uri": "https://localhost:8080/",
          "height": 300
        },
        "id": "9415j-2SmtQ0",
        "outputId": "da340d9e-a74f-4e1c-c0b7-388b95cccd90"
      },
      "execution_count": null,
      "outputs": [
        {
          "output_type": "execute_result",
          "data": {
            "text/plain": [
              "   item_TV  item_냉장고  item_믹서  item_선풍기  item_전자레인지  item_컴퓨터\n",
              "0        1         0        0         0           0         0\n",
              "1        0         1        0         0           0         0\n",
              "2        0         0        0         0           1         0\n",
              "3        0         0        0         0           0         1\n",
              "4        0         0        0         1           0         0\n",
              "5        0         0        0         1           0         0\n",
              "6        0         0        1         0           0         0\n",
              "7        0         0        1         0           0         0"
            ],
            "text/html": [
              "\n",
              "  <div id=\"df-0eb0439d-d427-4864-aef7-64417d041cda\" class=\"colab-df-container\">\n",
              "    <div>\n",
              "<style scoped>\n",
              "    .dataframe tbody tr th:only-of-type {\n",
              "        vertical-align: middle;\n",
              "    }\n",
              "\n",
              "    .dataframe tbody tr th {\n",
              "        vertical-align: top;\n",
              "    }\n",
              "\n",
              "    .dataframe thead th {\n",
              "        text-align: right;\n",
              "    }\n",
              "</style>\n",
              "<table border=\"1\" class=\"dataframe\">\n",
              "  <thead>\n",
              "    <tr style=\"text-align: right;\">\n",
              "      <th></th>\n",
              "      <th>item_TV</th>\n",
              "      <th>item_냉장고</th>\n",
              "      <th>item_믹서</th>\n",
              "      <th>item_선풍기</th>\n",
              "      <th>item_전자레인지</th>\n",
              "      <th>item_컴퓨터</th>\n",
              "    </tr>\n",
              "  </thead>\n",
              "  <tbody>\n",
              "    <tr>\n",
              "      <th>0</th>\n",
              "      <td>1</td>\n",
              "      <td>0</td>\n",
              "      <td>0</td>\n",
              "      <td>0</td>\n",
              "      <td>0</td>\n",
              "      <td>0</td>\n",
              "    </tr>\n",
              "    <tr>\n",
              "      <th>1</th>\n",
              "      <td>0</td>\n",
              "      <td>1</td>\n",
              "      <td>0</td>\n",
              "      <td>0</td>\n",
              "      <td>0</td>\n",
              "      <td>0</td>\n",
              "    </tr>\n",
              "    <tr>\n",
              "      <th>2</th>\n",
              "      <td>0</td>\n",
              "      <td>0</td>\n",
              "      <td>0</td>\n",
              "      <td>0</td>\n",
              "      <td>1</td>\n",
              "      <td>0</td>\n",
              "    </tr>\n",
              "    <tr>\n",
              "      <th>3</th>\n",
              "      <td>0</td>\n",
              "      <td>0</td>\n",
              "      <td>0</td>\n",
              "      <td>0</td>\n",
              "      <td>0</td>\n",
              "      <td>1</td>\n",
              "    </tr>\n",
              "    <tr>\n",
              "      <th>4</th>\n",
              "      <td>0</td>\n",
              "      <td>0</td>\n",
              "      <td>0</td>\n",
              "      <td>1</td>\n",
              "      <td>0</td>\n",
              "      <td>0</td>\n",
              "    </tr>\n",
              "    <tr>\n",
              "      <th>5</th>\n",
              "      <td>0</td>\n",
              "      <td>0</td>\n",
              "      <td>0</td>\n",
              "      <td>1</td>\n",
              "      <td>0</td>\n",
              "      <td>0</td>\n",
              "    </tr>\n",
              "    <tr>\n",
              "      <th>6</th>\n",
              "      <td>0</td>\n",
              "      <td>0</td>\n",
              "      <td>1</td>\n",
              "      <td>0</td>\n",
              "      <td>0</td>\n",
              "      <td>0</td>\n",
              "    </tr>\n",
              "    <tr>\n",
              "      <th>7</th>\n",
              "      <td>0</td>\n",
              "      <td>0</td>\n",
              "      <td>1</td>\n",
              "      <td>0</td>\n",
              "      <td>0</td>\n",
              "      <td>0</td>\n",
              "    </tr>\n",
              "  </tbody>\n",
              "</table>\n",
              "</div>\n",
              "    <div class=\"colab-df-buttons\">\n",
              "\n",
              "  <div class=\"colab-df-container\">\n",
              "    <button class=\"colab-df-convert\" onclick=\"convertToInteractive('df-0eb0439d-d427-4864-aef7-64417d041cda')\"\n",
              "            title=\"Convert this dataframe to an interactive table.\"\n",
              "            style=\"display:none;\">\n",
              "\n",
              "  <svg xmlns=\"http://www.w3.org/2000/svg\" height=\"24px\" viewBox=\"0 -960 960 960\">\n",
              "    <path d=\"M120-120v-720h720v720H120Zm60-500h600v-160H180v160Zm220 220h160v-160H400v160Zm0 220h160v-160H400v160ZM180-400h160v-160H180v160Zm440 0h160v-160H620v160ZM180-180h160v-160H180v160Zm440 0h160v-160H620v160Z\"/>\n",
              "  </svg>\n",
              "    </button>\n",
              "\n",
              "  <style>\n",
              "    .colab-df-container {\n",
              "      display:flex;\n",
              "      gap: 12px;\n",
              "    }\n",
              "\n",
              "    .colab-df-convert {\n",
              "      background-color: #E8F0FE;\n",
              "      border: none;\n",
              "      border-radius: 50%;\n",
              "      cursor: pointer;\n",
              "      display: none;\n",
              "      fill: #1967D2;\n",
              "      height: 32px;\n",
              "      padding: 0 0 0 0;\n",
              "      width: 32px;\n",
              "    }\n",
              "\n",
              "    .colab-df-convert:hover {\n",
              "      background-color: #E2EBFA;\n",
              "      box-shadow: 0px 1px 2px rgba(60, 64, 67, 0.3), 0px 1px 3px 1px rgba(60, 64, 67, 0.15);\n",
              "      fill: #174EA6;\n",
              "    }\n",
              "\n",
              "    .colab-df-buttons div {\n",
              "      margin-bottom: 4px;\n",
              "    }\n",
              "\n",
              "    [theme=dark] .colab-df-convert {\n",
              "      background-color: #3B4455;\n",
              "      fill: #D2E3FC;\n",
              "    }\n",
              "\n",
              "    [theme=dark] .colab-df-convert:hover {\n",
              "      background-color: #434B5C;\n",
              "      box-shadow: 0px 1px 3px 1px rgba(0, 0, 0, 0.15);\n",
              "      filter: drop-shadow(0px 1px 2px rgba(0, 0, 0, 0.3));\n",
              "      fill: #FFFFFF;\n",
              "    }\n",
              "  </style>\n",
              "\n",
              "    <script>\n",
              "      const buttonEl =\n",
              "        document.querySelector('#df-0eb0439d-d427-4864-aef7-64417d041cda button.colab-df-convert');\n",
              "      buttonEl.style.display =\n",
              "        google.colab.kernel.accessAllowed ? 'block' : 'none';\n",
              "\n",
              "      async function convertToInteractive(key) {\n",
              "        const element = document.querySelector('#df-0eb0439d-d427-4864-aef7-64417d041cda');\n",
              "        const dataTable =\n",
              "          await google.colab.kernel.invokeFunction('convertToInteractive',\n",
              "                                                    [key], {});\n",
              "        if (!dataTable) return;\n",
              "\n",
              "        const docLinkHtml = 'Like what you see? Visit the ' +\n",
              "          '<a target=\"_blank\" href=https://colab.research.google.com/notebooks/data_table.ipynb>data table notebook</a>'\n",
              "          + ' to learn more about interactive tables.';\n",
              "        element.innerHTML = '';\n",
              "        dataTable['output_type'] = 'display_data';\n",
              "        await google.colab.output.renderOutput(dataTable, element);\n",
              "        const docLink = document.createElement('div');\n",
              "        docLink.innerHTML = docLinkHtml;\n",
              "        element.appendChild(docLink);\n",
              "      }\n",
              "    </script>\n",
              "  </div>\n",
              "\n",
              "\n",
              "<div id=\"df-5c0b0e54-97a3-4a44-a2e7-2db612497cc0\">\n",
              "  <button class=\"colab-df-quickchart\" onclick=\"quickchart('df-5c0b0e54-97a3-4a44-a2e7-2db612497cc0')\"\n",
              "            title=\"Suggest charts\"\n",
              "            style=\"display:none;\">\n",
              "\n",
              "<svg xmlns=\"http://www.w3.org/2000/svg\" height=\"24px\"viewBox=\"0 0 24 24\"\n",
              "     width=\"24px\">\n",
              "    <g>\n",
              "        <path d=\"M19 3H5c-1.1 0-2 .9-2 2v14c0 1.1.9 2 2 2h14c1.1 0 2-.9 2-2V5c0-1.1-.9-2-2-2zM9 17H7v-7h2v7zm4 0h-2V7h2v10zm4 0h-2v-4h2v4z\"/>\n",
              "    </g>\n",
              "</svg>\n",
              "  </button>\n",
              "\n",
              "<style>\n",
              "  .colab-df-quickchart {\n",
              "      --bg-color: #E8F0FE;\n",
              "      --fill-color: #1967D2;\n",
              "      --hover-bg-color: #E2EBFA;\n",
              "      --hover-fill-color: #174EA6;\n",
              "      --disabled-fill-color: #AAA;\n",
              "      --disabled-bg-color: #DDD;\n",
              "  }\n",
              "\n",
              "  [theme=dark] .colab-df-quickchart {\n",
              "      --bg-color: #3B4455;\n",
              "      --fill-color: #D2E3FC;\n",
              "      --hover-bg-color: #434B5C;\n",
              "      --hover-fill-color: #FFFFFF;\n",
              "      --disabled-bg-color: #3B4455;\n",
              "      --disabled-fill-color: #666;\n",
              "  }\n",
              "\n",
              "  .colab-df-quickchart {\n",
              "    background-color: var(--bg-color);\n",
              "    border: none;\n",
              "    border-radius: 50%;\n",
              "    cursor: pointer;\n",
              "    display: none;\n",
              "    fill: var(--fill-color);\n",
              "    height: 32px;\n",
              "    padding: 0;\n",
              "    width: 32px;\n",
              "  }\n",
              "\n",
              "  .colab-df-quickchart:hover {\n",
              "    background-color: var(--hover-bg-color);\n",
              "    box-shadow: 0 1px 2px rgba(60, 64, 67, 0.3), 0 1px 3px 1px rgba(60, 64, 67, 0.15);\n",
              "    fill: var(--button-hover-fill-color);\n",
              "  }\n",
              "\n",
              "  .colab-df-quickchart-complete:disabled,\n",
              "  .colab-df-quickchart-complete:disabled:hover {\n",
              "    background-color: var(--disabled-bg-color);\n",
              "    fill: var(--disabled-fill-color);\n",
              "    box-shadow: none;\n",
              "  }\n",
              "\n",
              "  .colab-df-spinner {\n",
              "    border: 2px solid var(--fill-color);\n",
              "    border-color: transparent;\n",
              "    border-bottom-color: var(--fill-color);\n",
              "    animation:\n",
              "      spin 1s steps(1) infinite;\n",
              "  }\n",
              "\n",
              "  @keyframes spin {\n",
              "    0% {\n",
              "      border-color: transparent;\n",
              "      border-bottom-color: var(--fill-color);\n",
              "      border-left-color: var(--fill-color);\n",
              "    }\n",
              "    20% {\n",
              "      border-color: transparent;\n",
              "      border-left-color: var(--fill-color);\n",
              "      border-top-color: var(--fill-color);\n",
              "    }\n",
              "    30% {\n",
              "      border-color: transparent;\n",
              "      border-left-color: var(--fill-color);\n",
              "      border-top-color: var(--fill-color);\n",
              "      border-right-color: var(--fill-color);\n",
              "    }\n",
              "    40% {\n",
              "      border-color: transparent;\n",
              "      border-right-color: var(--fill-color);\n",
              "      border-top-color: var(--fill-color);\n",
              "    }\n",
              "    60% {\n",
              "      border-color: transparent;\n",
              "      border-right-color: var(--fill-color);\n",
              "    }\n",
              "    80% {\n",
              "      border-color: transparent;\n",
              "      border-right-color: var(--fill-color);\n",
              "      border-bottom-color: var(--fill-color);\n",
              "    }\n",
              "    90% {\n",
              "      border-color: transparent;\n",
              "      border-bottom-color: var(--fill-color);\n",
              "    }\n",
              "  }\n",
              "</style>\n",
              "\n",
              "  <script>\n",
              "    async function quickchart(key) {\n",
              "      const quickchartButtonEl =\n",
              "        document.querySelector('#' + key + ' button');\n",
              "      quickchartButtonEl.disabled = true;  // To prevent multiple clicks.\n",
              "      quickchartButtonEl.classList.add('colab-df-spinner');\n",
              "      try {\n",
              "        const charts = await google.colab.kernel.invokeFunction(\n",
              "            'suggestCharts', [key], {});\n",
              "      } catch (error) {\n",
              "        console.error('Error during call to suggestCharts:', error);\n",
              "      }\n",
              "      quickchartButtonEl.classList.remove('colab-df-spinner');\n",
              "      quickchartButtonEl.classList.add('colab-df-quickchart-complete');\n",
              "    }\n",
              "    (() => {\n",
              "      let quickchartButtonEl =\n",
              "        document.querySelector('#df-5c0b0e54-97a3-4a44-a2e7-2db612497cc0 button');\n",
              "      quickchartButtonEl.style.display =\n",
              "        google.colab.kernel.accessAllowed ? 'block' : 'none';\n",
              "    })();\n",
              "  </script>\n",
              "</div>\n",
              "\n",
              "    </div>\n",
              "  </div>\n"
            ],
            "application/vnd.google.colaboratory.intrinsic+json": {
              "type": "dataframe",
              "summary": "{\n  \"name\": \"pd\",\n  \"rows\": 8,\n  \"fields\": [\n    {\n      \"column\": \"item_TV\",\n      \"properties\": {\n        \"dtype\": \"number\",\n        \"std\": 0,\n        \"min\": 0,\n        \"max\": 1,\n        \"num_unique_values\": 2,\n        \"samples\": [\n          0,\n          1\n        ],\n        \"semantic_type\": \"\",\n        \"description\": \"\"\n      }\n    },\n    {\n      \"column\": \"item_\\ub0c9\\uc7a5\\uace0\",\n      \"properties\": {\n        \"dtype\": \"number\",\n        \"std\": 0,\n        \"min\": 0,\n        \"max\": 1,\n        \"num_unique_values\": 2,\n        \"samples\": [\n          1,\n          0\n        ],\n        \"semantic_type\": \"\",\n        \"description\": \"\"\n      }\n    },\n    {\n      \"column\": \"item_\\ubbf9\\uc11c\",\n      \"properties\": {\n        \"dtype\": \"number\",\n        \"std\": 0,\n        \"min\": 0,\n        \"max\": 1,\n        \"num_unique_values\": 2,\n        \"samples\": [\n          1,\n          0\n        ],\n        \"semantic_type\": \"\",\n        \"description\": \"\"\n      }\n    },\n    {\n      \"column\": \"item_\\uc120\\ud48d\\uae30\",\n      \"properties\": {\n        \"dtype\": \"number\",\n        \"std\": 0,\n        \"min\": 0,\n        \"max\": 1,\n        \"num_unique_values\": 2,\n        \"samples\": [\n          1,\n          0\n        ],\n        \"semantic_type\": \"\",\n        \"description\": \"\"\n      }\n    },\n    {\n      \"column\": \"item_\\uc804\\uc790\\ub808\\uc778\\uc9c0\",\n      \"properties\": {\n        \"dtype\": \"number\",\n        \"std\": 0,\n        \"min\": 0,\n        \"max\": 1,\n        \"num_unique_values\": 2,\n        \"samples\": [\n          1,\n          0\n        ],\n        \"semantic_type\": \"\",\n        \"description\": \"\"\n      }\n    },\n    {\n      \"column\": \"item_\\ucef4\\ud4e8\\ud130\",\n      \"properties\": {\n        \"dtype\": \"number\",\n        \"std\": 0,\n        \"min\": 0,\n        \"max\": 1,\n        \"num_unique_values\": 2,\n        \"samples\": [\n          1,\n          0\n        ],\n        \"semantic_type\": \"\",\n        \"description\": \"\"\n      }\n    }\n  ]\n}"
            }
          },
          "metadata": {},
          "execution_count": 40
        }
      ]
    },
    {
      "cell_type": "markdown",
      "source": [
        "### 피처 스케일링과 정규화"
      ],
      "metadata": {
        "id": "uZeYskLGndrL"
      }
    },
    {
      "cell_type": "markdown",
      "source": [
        "피처 스케일링(feature scaling): 서로 다른 변수의 값 범위를 일정한 수준으로 맞추는 작업\n",
        "- 표준화(standardization): 데이터 피처 각각이 평균이 0, 분산이 1인 가우시안 정규 분포 가진 값으로 변환\n",
        "- 정규화(Normalization): 서로 다른 피처의 크기를 통일하기 위해 크기를 변환\n",
        "- 사이킷런의 전처리에서 제공하는 Normalizer 모듈: 선형대수에서의 정규화 개념에 적용. 개별 벡터의 크기를 맞추기 위해 변환. 즉, 개별 벡터를 모든 피처 벡터의 크기로 나눠 준다."
      ],
      "metadata": {
        "id": "1sARYBz1n9Y8"
      }
    },
    {
      "cell_type": "markdown",
      "source": [
        "$$\n",
        "x_inew=(x_i-mean(x))/stdev(x)\n",
        "$$"
      ],
      "metadata": {
        "id": "ekMOU9Zbnw-8"
      }
    },
    {
      "cell_type": "markdown",
      "source": [
        "$$\n",
        "x_inew=(x_i-min(x))/(max(x)-min(x))\n",
        "$$"
      ],
      "metadata": {
        "id": "P7h4z22Ln6S6"
      }
    },
    {
      "cell_type": "markdown",
      "source": [
        "$$\n",
        "x_inew=x_i/root((x_i)2+(y_i)2+(z_i)2)\n",
        "$$"
      ],
      "metadata": {
        "id": "AXx8vHBroSAA"
      }
    },
    {
      "cell_type": "markdown",
      "source": [
        "### StandardScaler"
      ],
      "metadata": {
        "id": "mqYgYmQtox_L"
      }
    },
    {
      "cell_type": "markdown",
      "source": [
        "- 표준화를 쉽게 지원하기 위한 클래스\n",
        "- 개별 피처를 평균이 0, 분산이 1인 값으로 변환해 가우시아 정규 분포 가짐\n",
        "- 서포트 벡터 머신(Support Vector Machine), 선형 회귀(Linear Regression), 로지스틱 회귀(Logistic Regression): 데이터가 가우시안 분포 가정하고 구현되어 표준화 적용은 예측 성능 향상에 중요한 요소"
      ],
      "metadata": {
        "id": "Mvw5hSgppVrv"
      }
    },
    {
      "cell_type": "code",
      "source": [
        "from sklearn.datasets import load_iris\n",
        "import pandas as pd\n",
        "# 붓꽃 데이터 셋을 로딩하고 DataFrame으로 변환합니다.\n",
        "iris = load_iris()\n",
        "iris_data = iris.data\n",
        "iris_df = pd.DataFrame(data=iris_data, columns=iris.feature_names)\n",
        "\n",
        "print('feature 들의 평균 값')\n",
        "print(iris_df.mean())\n",
        "print('\\nfeature 들의 분산 값')\n",
        "print(iris_df.var())"
      ],
      "metadata": {
        "colab": {
          "base_uri": "https://localhost:8080/"
        },
        "id": "OEcT8pXFnZAQ",
        "outputId": "517a81cb-0572-491b-8c70-f692fc3aedcd"
      },
      "execution_count": null,
      "outputs": [
        {
          "output_type": "stream",
          "name": "stdout",
          "text": [
            "feature 들의 평균 값\n",
            "sepal length (cm)    5.843333\n",
            "sepal width (cm)     3.057333\n",
            "petal length (cm)    3.758000\n",
            "petal width (cm)     1.199333\n",
            "dtype: float64\n",
            "\n",
            "feature 들의 분산 값\n",
            "sepal length (cm)    0.685694\n",
            "sepal width (cm)     0.189979\n",
            "petal length (cm)    3.116278\n",
            "petal width (cm)     0.581006\n",
            "dtype: float64\n"
          ]
        }
      ]
    },
    {
      "cell_type": "markdown",
      "source": [
        "표준화\n",
        "- `StandardScaler` 객체 생성 후 `fit()`과 `transform()` 메서드에 변환 대상 피처 데이터 세트 입력하고 호출\n",
        "- `transform()` 호출할 때 넘파이의 ndarray이므로 이를 DataFrame으로 변환"
      ],
      "metadata": {
        "id": "MWjmCQj2pv0m"
      }
    },
    {
      "cell_type": "code",
      "source": [
        "from sklearn.preprocessing import StandardScaler\n",
        "\n",
        "# StandardScaler객체 생성\n",
        "scaler = StandardScaler()\n",
        "# StandardScaler 로 데이터 셋 변환. fit( ) 과 transform( ) 호출.\n",
        "scaler.fit(iris_df)\n",
        "iris_scaled = scaler.transform(iris_df)\n",
        "\n",
        "#transform( )시 scale 변환된 데이터 셋이 numpy ndarry로 반환되어 이를 DataFrame으로 변환\n",
        "iris_df_scaled = pd.DataFrame(data=iris_scaled, columns=iris.feature_names)\n",
        "print('feature 들의 평균 값')\n",
        "print(iris_df_scaled.mean())\n",
        "print('\\nfeature 들의 분산 값')\n",
        "print(iris_df_scaled.var())"
      ],
      "metadata": {
        "colab": {
          "base_uri": "https://localhost:8080/"
        },
        "id": "Lv2Mtgvlo4VY",
        "outputId": "d2ea5a85-bef2-403d-9dd4-65353068a88d"
      },
      "execution_count": null,
      "outputs": [
        {
          "output_type": "stream",
          "name": "stdout",
          "text": [
            "feature 들의 평균 값\n",
            "sepal length (cm)   -1.690315e-15\n",
            "sepal width (cm)    -1.842970e-15\n",
            "petal length (cm)   -1.698641e-15\n",
            "petal width (cm)    -1.409243e-15\n",
            "dtype: float64\n",
            "\n",
            "feature 들의 분산 값\n",
            "sepal length (cm)    1.006711\n",
            "sepal width (cm)     1.006711\n",
            "petal length (cm)    1.006711\n",
            "petal width (cm)     1.006711\n",
            "dtype: float64\n"
          ]
        }
      ]
    },
    {
      "cell_type": "markdown",
      "source": [
        "모든 칼럼 값의 평균이 0에 가까운 값, 분산은 1에 가까운 값으로 변환됨"
      ],
      "metadata": {
        "id": "tOjxOFeCqLeB"
      }
    },
    {
      "cell_type": "markdown",
      "source": [
        "### MinMaxScaler"
      ],
      "metadata": {
        "id": "dgwXIKUMo8PY"
      }
    },
    {
      "cell_type": "markdown",
      "source": [
        "- 데이터값을 0과 1 사이의 범위 값으로 변환\n",
        "- 음수 값이 있으면 -1에서 1값\n",
        "- 데이터 분포가 가우시안 분포가 아닐 경우에 적용"
      ],
      "metadata": {
        "id": "pwen6ufxqQFE"
      }
    },
    {
      "cell_type": "code",
      "source": [
        "from sklearn.preprocessing import MinMaxScaler\n",
        "\n",
        "# MinMaxScaler객체 생성\n",
        "scaler = MinMaxScaler()\n",
        "# MinMaxScaler 로 데이터 셋 변환. fit() 과 transform() 호출.\n",
        "scaler.fit(iris_df)\n",
        "iris_scaled = scaler.transform(iris_df)\n",
        "\n",
        "# transform()시 scale 변환된 데이터 셋이 numpy ndarry로 반환되어 이를 DataFrame으로 변환\n",
        "iris_df_scaled = pd.DataFrame(data=iris_scaled, columns=iris.feature_names)\n",
        "print('feature들의 최솟값')\n",
        "print(iris_df_scaled.min())\n",
        "print('\\nfeature들의 최댓값')\n",
        "print(iris_df_scaled.max())"
      ],
      "metadata": {
        "colab": {
          "base_uri": "https://localhost:8080/"
        },
        "id": "oJYH9WTro-TT",
        "outputId": "82e634e0-88e0-41d6-8faf-86761905cfa9"
      },
      "execution_count": null,
      "outputs": [
        {
          "output_type": "stream",
          "name": "stdout",
          "text": [
            "feature들의 최솟값\n",
            "sepal length (cm)    0.0\n",
            "sepal width (cm)     0.0\n",
            "petal length (cm)    0.0\n",
            "petal width (cm)     0.0\n",
            "dtype: float64\n",
            "\n",
            "feature들의 최댓값\n",
            "sepal length (cm)    1.0\n",
            "sepal width (cm)     1.0\n",
            "petal length (cm)    1.0\n",
            "petal width (cm)     1.0\n",
            "dtype: float64\n"
          ]
        }
      ]
    },
    {
      "cell_type": "markdown",
      "source": [
        "모든 피처에 0 ~ 1 사이 값으로 변환됨"
      ],
      "metadata": {
        "id": "qqcRY0Wbqcvv"
      }
    },
    {
      "cell_type": "markdown",
      "source": [
        "### 학습 데이터와 테스트 데이터의 스케일링 변환 시 유의점"
      ],
      "metadata": {
        "id": "iwu2APxQpCKu"
      }
    },
    {
      "cell_type": "markdown",
      "source": [
        "- `fit()`: 데이터 변환을 위한 기준 정보 설정\n",
        "- `transform()`: 이렇게 설정된 정보를 이용해 데이터 변환\n",
        "- `fit_transform()`: 둘을 한 번에 적용"
      ],
      "metadata": {
        "id": "Ls6gjFWBqjI2"
      }
    },
    {
      "cell_type": "markdown",
      "source": [
        "`Scaler` 객체를 이용해 학습 데이터 세트로 `fit()`과 `transform()`을 적용하면 테스트 데이터 세트로 다시 `fit()`을 수행하지 않고, 학습 데이터 세트로 `fit()`을 수행한 결과를 이용해 `transform()` 변환을 적용해야 함"
      ],
      "metadata": {
        "id": "fSKiVHCqqwyy"
      }
    },
    {
      "cell_type": "code",
      "source": [
        "from sklearn.preprocessing import MinMaxScaler\n",
        "import numpy as np\n",
        "\n",
        "# 학습 데이터는 0 부터 10까지, 테스트 데이터는 0 부터 5까지 값을 가지는 데이터 세트로 생성\n",
        "# Scaler클래스의 fit(), transform()은 2차원 이상 데이터만 가능하므로 reshape(-1, 1)로 차원 변경\n",
        "train_array = np.arange(0, 11).reshape(-1, 1)\n",
        "test_array =  np.arange(0, 6).reshape(-1, 1)"
      ],
      "metadata": {
        "id": "j2shb_U1pIgg"
      },
      "execution_count": null,
      "outputs": []
    },
    {
      "cell_type": "markdown",
      "source": [
        "- 최솟값 0, 최댓값 10이 설정되며 1/10 Scale 적용됨\n",
        "- 1은 0.1로, 2는 0.2로, 5는 0.5로, 10은 1로 변환"
      ],
      "metadata": {
        "id": "5bHBB3harQ6m"
      }
    },
    {
      "cell_type": "code",
      "source": [
        "# MinMaxScaler 객체에 별도의 feature_range 파라미터 값을 지정하지 않으면 0~1 값으로 변환\n",
        "scaler = MinMaxScaler()\n",
        "\n",
        "# fit()하게 되면 train_array 데이터의 최솟값이 0, 최댓값이 10으로 설정.\n",
        "scaler.fit(train_array)\n",
        "\n",
        "# 1/10 scale로 train_array 데이터 변환함. 원본 10-> 1로 변환됨.\n",
        "train_scaled = scaler.transform(train_array)\n",
        "\n",
        "print('원본 train_array 데이터:', np.round(train_array.reshape(-1), 2))\n",
        "print('Scale된 train_array 데이터:', np.round(train_scaled.reshape(-1), 2))"
      ],
      "metadata": {
        "colab": {
          "base_uri": "https://localhost:8080/"
        },
        "id": "8mbWk-8xpK9-",
        "outputId": "19ed6441-f51e-4dd9-9e23-80d4fe2dc4bc"
      },
      "execution_count": null,
      "outputs": [
        {
          "output_type": "stream",
          "name": "stdout",
          "text": [
            "원본 train_array 데이터: [ 0  1  2  3  4  5  6  7  8  9 10]\n",
            "Scale된 train_array 데이터: [0.  0.1 0.2 0.3 0.4 0.5 0.6 0.7 0.8 0.9 1. ]\n"
          ]
        }
      ]
    },
    {
      "cell_type": "markdown",
      "source": [
        "테스트 데이터 세트 변환에 `fit()` 호출해 스케일링 기준 정보 다시 적용한 뒤 `transform()` 수행"
      ],
      "metadata": {
        "id": "4ohyTSOnrsfn"
      }
    },
    {
      "cell_type": "code",
      "source": [
        "# MinMaxScaler에 test_array를 fit()하게 되면 원본 데이터의 최솟값이 0, 최댓값이 5로 설정됨\n",
        "scaler.fit(test_array)\n",
        "\n",
        "# 1/5 scale로 test_array 데이터 변환함. 원본 5->1로 변환.\n",
        "test_scaled = scaler.transform(test_array)\n",
        "\n",
        "# test_array의 scale 변환 출력.\n",
        "print('원본 test_array 데이터:', np.round(test_array.reshape(-1), 2))\n",
        "print('Scale된 test_array 데이터:', np.round(test_scaled.reshape(-1), 2))"
      ],
      "metadata": {
        "colab": {
          "base_uri": "https://localhost:8080/"
        },
        "id": "B9PCUw7DpMx-",
        "outputId": "7579a446-5004-406f-eeed-d34a5df8f017"
      },
      "execution_count": null,
      "outputs": [
        {
          "output_type": "stream",
          "name": "stdout",
          "text": [
            "원본 test_array 데이터: [0 1 2 3 4 5]\n",
            "Scale된 test_array 데이터: [0.  0.2 0.4 0.6 0.8 1. ]\n"
          ]
        }
      ]
    },
    {
      "cell_type": "markdown",
      "source": [
        "- 학습 데이터와 테스트 데이터의 스케일링이 맞지 않음\n",
        "- 테스트 데이터 최솟값 0, 최댓값 5 이므로 1/5로 스케일링 됨\n",
        "- 1은 0.2로, 5는 1로\n",
        "- 학습 데이터와 테스트 데이터의 서로 다른 원본값이 동일한 값으로 변환됨\n",
        "- 테스트 데이터는 학습 데이터의 스케일링 기준 따라야 함"
      ],
      "metadata": {
        "id": "0BiAY5r3r8hg"
      }
    },
    {
      "cell_type": "code",
      "source": [
        "scaler = MinMaxScaler()\n",
        "scaler.fit(train_array)\n",
        "train_scaled = scaler.transform(train_array)\n",
        "print('원본 train_array 데이터:', np.round(train_array.reshape(-1), 2))\n",
        "print('Scale된 train_array 데이터:', np.round(train_scaled.reshape(-1), 2))\n",
        "\n",
        "# test_array에 Scale 변환을 할 때는 반드시 fit()을 호출하지 않고 transform() 만으로 변환해야 함.\n",
        "test_scaled = scaler.transform(test_array)\n",
        "print('\\n원본 test_array 데이터:', np.round(test_array.reshape(-1), 2))\n",
        "print('Scale된 test_array 데이터:', np.round(test_scaled.reshape(-1), 2))"
      ],
      "metadata": {
        "colab": {
          "base_uri": "https://localhost:8080/"
        },
        "id": "cjfNwtVCpOis",
        "outputId": "dc4a7ec4-59fa-4ddc-c287-1e602dc447cb"
      },
      "execution_count": null,
      "outputs": [
        {
          "output_type": "stream",
          "name": "stdout",
          "text": [
            "원본 train_array 데이터: [ 0  1  2  3  4  5  6  7  8  9 10]\n",
            "Scale된 train_array 데이터: [0.  0.1 0.2 0.3 0.4 0.5 0.6 0.7 0.8 0.9 1. ]\n",
            "\n",
            "원본 test_array 데이터: [0 1 2 3 4 5]\n",
            "Scale된 test_array 데이터: [0.  0.1 0.2 0.3 0.4 0.5]\n"
          ]
        }
      ]
    },
    {
      "cell_type": "markdown",
      "source": [
        "- `fit_transform()` 학습 데이터에서는 상관없지만 테스트 데이터에서는 절대 사용해서는 안 됨\n",
        "- 학삽과 테스트 데이터 세트로 분리하기 전에 먼저 전체 데이터 세트에 스케일링을 적용한 뒤 학습과 테스트 데이터 세트로 분리하는 것이 더 바람직하다"
      ],
      "metadata": {
        "id": "pV-Ox7Bxsblz"
      }
    },
    {
      "cell_type": "markdown",
      "source": [
        "## 2.6 사이킷런으로 수행하는 타이타닉 생존자 예측"
      ],
      "metadata": {
        "id": "mi2nmnBxtTI5"
      }
    },
    {
      "cell_type": "markdown",
      "source": [
        "- Passengerid: 탑승자 데이터 일련번호\n",
        "- survived: 생존 여부, 0=사망, 1=생존\n",
        "- pclass: 티켓의 선실 등급, 1=일등석, 2=이등석, 3=삼등석\n",
        "- sex: 탐승자 성별\n",
        "- name: 탑승자 이름\n",
        "- Age: 탑승자 나이\n",
        "- sibsp: 같이 탑승한 형제자매 또는 배우자 인원수\n",
        "- parch: 같이 탑승한 부모님 또는 어린이 인원수\n",
        "- ticket: 티켓 번호\n",
        "- fare: 요금\n",
        "- cabin: 선실 번호\n",
        "- embarked: 중간 정착 항구  C=Cherbourg, Q=Queenstown, S=Southampton"
      ],
      "metadata": {
        "id": "Sfpgam94uCqb"
      }
    },
    {
      "cell_type": "code",
      "source": [
        "import numpy as np\n",
        "import pandas as pd\n",
        "import matplotlib.pyplot as plt\n",
        "import seaborn as sns\n",
        "%matplotlib inline\n",
        "\n",
        "titanic_df = pd.read_csv('titanic_train.csv')\n",
        "titanic_df.head(3)"
      ],
      "metadata": {
        "colab": {
          "base_uri": "https://localhost:8080/",
          "height": 178
        },
        "id": "jg0kdaLZsShp",
        "outputId": "02b1eaba-3eaa-4494-dd15-736023af69bc"
      },
      "execution_count": null,
      "outputs": [
        {
          "output_type": "execute_result",
          "data": {
            "text/plain": [
              "   PassengerId  Survived  Pclass  \\\n",
              "0            1         0       3   \n",
              "1            2         1       1   \n",
              "2            3         1       3   \n",
              "\n",
              "                                                Name     Sex   Age  SibSp  \\\n",
              "0                            Braund, Mr. Owen Harris    male  22.0      1   \n",
              "1  Cumings, Mrs. John Bradley (Florence Briggs Th...  female  38.0      1   \n",
              "2                             Heikkinen, Miss. Laina  female  26.0      0   \n",
              "\n",
              "   Parch            Ticket     Fare Cabin Embarked  \n",
              "0      0         A/5 21171   7.2500   NaN        S  \n",
              "1      0          PC 17599  71.2833   C85        C  \n",
              "2      0  STON/O2. 3101282   7.9250   NaN        S  "
            ],
            "text/html": [
              "\n",
              "  <div id=\"df-722c88ac-66a0-498b-92df-2a4d4fc44aed\" class=\"colab-df-container\">\n",
              "    <div>\n",
              "<style scoped>\n",
              "    .dataframe tbody tr th:only-of-type {\n",
              "        vertical-align: middle;\n",
              "    }\n",
              "\n",
              "    .dataframe tbody tr th {\n",
              "        vertical-align: top;\n",
              "    }\n",
              "\n",
              "    .dataframe thead th {\n",
              "        text-align: right;\n",
              "    }\n",
              "</style>\n",
              "<table border=\"1\" class=\"dataframe\">\n",
              "  <thead>\n",
              "    <tr style=\"text-align: right;\">\n",
              "      <th></th>\n",
              "      <th>PassengerId</th>\n",
              "      <th>Survived</th>\n",
              "      <th>Pclass</th>\n",
              "      <th>Name</th>\n",
              "      <th>Sex</th>\n",
              "      <th>Age</th>\n",
              "      <th>SibSp</th>\n",
              "      <th>Parch</th>\n",
              "      <th>Ticket</th>\n",
              "      <th>Fare</th>\n",
              "      <th>Cabin</th>\n",
              "      <th>Embarked</th>\n",
              "    </tr>\n",
              "  </thead>\n",
              "  <tbody>\n",
              "    <tr>\n",
              "      <th>0</th>\n",
              "      <td>1</td>\n",
              "      <td>0</td>\n",
              "      <td>3</td>\n",
              "      <td>Braund, Mr. Owen Harris</td>\n",
              "      <td>male</td>\n",
              "      <td>22.0</td>\n",
              "      <td>1</td>\n",
              "      <td>0</td>\n",
              "      <td>A/5 21171</td>\n",
              "      <td>7.2500</td>\n",
              "      <td>NaN</td>\n",
              "      <td>S</td>\n",
              "    </tr>\n",
              "    <tr>\n",
              "      <th>1</th>\n",
              "      <td>2</td>\n",
              "      <td>1</td>\n",
              "      <td>1</td>\n",
              "      <td>Cumings, Mrs. John Bradley (Florence Briggs Th...</td>\n",
              "      <td>female</td>\n",
              "      <td>38.0</td>\n",
              "      <td>1</td>\n",
              "      <td>0</td>\n",
              "      <td>PC 17599</td>\n",
              "      <td>71.2833</td>\n",
              "      <td>C85</td>\n",
              "      <td>C</td>\n",
              "    </tr>\n",
              "    <tr>\n",
              "      <th>2</th>\n",
              "      <td>3</td>\n",
              "      <td>1</td>\n",
              "      <td>3</td>\n",
              "      <td>Heikkinen, Miss. Laina</td>\n",
              "      <td>female</td>\n",
              "      <td>26.0</td>\n",
              "      <td>0</td>\n",
              "      <td>0</td>\n",
              "      <td>STON/O2. 3101282</td>\n",
              "      <td>7.9250</td>\n",
              "      <td>NaN</td>\n",
              "      <td>S</td>\n",
              "    </tr>\n",
              "  </tbody>\n",
              "</table>\n",
              "</div>\n",
              "    <div class=\"colab-df-buttons\">\n",
              "\n",
              "  <div class=\"colab-df-container\">\n",
              "    <button class=\"colab-df-convert\" onclick=\"convertToInteractive('df-722c88ac-66a0-498b-92df-2a4d4fc44aed')\"\n",
              "            title=\"Convert this dataframe to an interactive table.\"\n",
              "            style=\"display:none;\">\n",
              "\n",
              "  <svg xmlns=\"http://www.w3.org/2000/svg\" height=\"24px\" viewBox=\"0 -960 960 960\">\n",
              "    <path d=\"M120-120v-720h720v720H120Zm60-500h600v-160H180v160Zm220 220h160v-160H400v160Zm0 220h160v-160H400v160ZM180-400h160v-160H180v160Zm440 0h160v-160H620v160ZM180-180h160v-160H180v160Zm440 0h160v-160H620v160Z\"/>\n",
              "  </svg>\n",
              "    </button>\n",
              "\n",
              "  <style>\n",
              "    .colab-df-container {\n",
              "      display:flex;\n",
              "      gap: 12px;\n",
              "    }\n",
              "\n",
              "    .colab-df-convert {\n",
              "      background-color: #E8F0FE;\n",
              "      border: none;\n",
              "      border-radius: 50%;\n",
              "      cursor: pointer;\n",
              "      display: none;\n",
              "      fill: #1967D2;\n",
              "      height: 32px;\n",
              "      padding: 0 0 0 0;\n",
              "      width: 32px;\n",
              "    }\n",
              "\n",
              "    .colab-df-convert:hover {\n",
              "      background-color: #E2EBFA;\n",
              "      box-shadow: 0px 1px 2px rgba(60, 64, 67, 0.3), 0px 1px 3px 1px rgba(60, 64, 67, 0.15);\n",
              "      fill: #174EA6;\n",
              "    }\n",
              "\n",
              "    .colab-df-buttons div {\n",
              "      margin-bottom: 4px;\n",
              "    }\n",
              "\n",
              "    [theme=dark] .colab-df-convert {\n",
              "      background-color: #3B4455;\n",
              "      fill: #D2E3FC;\n",
              "    }\n",
              "\n",
              "    [theme=dark] .colab-df-convert:hover {\n",
              "      background-color: #434B5C;\n",
              "      box-shadow: 0px 1px 3px 1px rgba(0, 0, 0, 0.15);\n",
              "      filter: drop-shadow(0px 1px 2px rgba(0, 0, 0, 0.3));\n",
              "      fill: #FFFFFF;\n",
              "    }\n",
              "  </style>\n",
              "\n",
              "    <script>\n",
              "      const buttonEl =\n",
              "        document.querySelector('#df-722c88ac-66a0-498b-92df-2a4d4fc44aed button.colab-df-convert');\n",
              "      buttonEl.style.display =\n",
              "        google.colab.kernel.accessAllowed ? 'block' : 'none';\n",
              "\n",
              "      async function convertToInteractive(key) {\n",
              "        const element = document.querySelector('#df-722c88ac-66a0-498b-92df-2a4d4fc44aed');\n",
              "        const dataTable =\n",
              "          await google.colab.kernel.invokeFunction('convertToInteractive',\n",
              "                                                    [key], {});\n",
              "        if (!dataTable) return;\n",
              "\n",
              "        const docLinkHtml = 'Like what you see? Visit the ' +\n",
              "          '<a target=\"_blank\" href=https://colab.research.google.com/notebooks/data_table.ipynb>data table notebook</a>'\n",
              "          + ' to learn more about interactive tables.';\n",
              "        element.innerHTML = '';\n",
              "        dataTable['output_type'] = 'display_data';\n",
              "        await google.colab.output.renderOutput(dataTable, element);\n",
              "        const docLink = document.createElement('div');\n",
              "        docLink.innerHTML = docLinkHtml;\n",
              "        element.appendChild(docLink);\n",
              "      }\n",
              "    </script>\n",
              "  </div>\n",
              "\n",
              "\n",
              "<div id=\"df-d697bb1c-6a92-4205-bb49-90291afa7389\">\n",
              "  <button class=\"colab-df-quickchart\" onclick=\"quickchart('df-d697bb1c-6a92-4205-bb49-90291afa7389')\"\n",
              "            title=\"Suggest charts\"\n",
              "            style=\"display:none;\">\n",
              "\n",
              "<svg xmlns=\"http://www.w3.org/2000/svg\" height=\"24px\"viewBox=\"0 0 24 24\"\n",
              "     width=\"24px\">\n",
              "    <g>\n",
              "        <path d=\"M19 3H5c-1.1 0-2 .9-2 2v14c0 1.1.9 2 2 2h14c1.1 0 2-.9 2-2V5c0-1.1-.9-2-2-2zM9 17H7v-7h2v7zm4 0h-2V7h2v10zm4 0h-2v-4h2v4z\"/>\n",
              "    </g>\n",
              "</svg>\n",
              "  </button>\n",
              "\n",
              "<style>\n",
              "  .colab-df-quickchart {\n",
              "      --bg-color: #E8F0FE;\n",
              "      --fill-color: #1967D2;\n",
              "      --hover-bg-color: #E2EBFA;\n",
              "      --hover-fill-color: #174EA6;\n",
              "      --disabled-fill-color: #AAA;\n",
              "      --disabled-bg-color: #DDD;\n",
              "  }\n",
              "\n",
              "  [theme=dark] .colab-df-quickchart {\n",
              "      --bg-color: #3B4455;\n",
              "      --fill-color: #D2E3FC;\n",
              "      --hover-bg-color: #434B5C;\n",
              "      --hover-fill-color: #FFFFFF;\n",
              "      --disabled-bg-color: #3B4455;\n",
              "      --disabled-fill-color: #666;\n",
              "  }\n",
              "\n",
              "  .colab-df-quickchart {\n",
              "    background-color: var(--bg-color);\n",
              "    border: none;\n",
              "    border-radius: 50%;\n",
              "    cursor: pointer;\n",
              "    display: none;\n",
              "    fill: var(--fill-color);\n",
              "    height: 32px;\n",
              "    padding: 0;\n",
              "    width: 32px;\n",
              "  }\n",
              "\n",
              "  .colab-df-quickchart:hover {\n",
              "    background-color: var(--hover-bg-color);\n",
              "    box-shadow: 0 1px 2px rgba(60, 64, 67, 0.3), 0 1px 3px 1px rgba(60, 64, 67, 0.15);\n",
              "    fill: var(--button-hover-fill-color);\n",
              "  }\n",
              "\n",
              "  .colab-df-quickchart-complete:disabled,\n",
              "  .colab-df-quickchart-complete:disabled:hover {\n",
              "    background-color: var(--disabled-bg-color);\n",
              "    fill: var(--disabled-fill-color);\n",
              "    box-shadow: none;\n",
              "  }\n",
              "\n",
              "  .colab-df-spinner {\n",
              "    border: 2px solid var(--fill-color);\n",
              "    border-color: transparent;\n",
              "    border-bottom-color: var(--fill-color);\n",
              "    animation:\n",
              "      spin 1s steps(1) infinite;\n",
              "  }\n",
              "\n",
              "  @keyframes spin {\n",
              "    0% {\n",
              "      border-color: transparent;\n",
              "      border-bottom-color: var(--fill-color);\n",
              "      border-left-color: var(--fill-color);\n",
              "    }\n",
              "    20% {\n",
              "      border-color: transparent;\n",
              "      border-left-color: var(--fill-color);\n",
              "      border-top-color: var(--fill-color);\n",
              "    }\n",
              "    30% {\n",
              "      border-color: transparent;\n",
              "      border-left-color: var(--fill-color);\n",
              "      border-top-color: var(--fill-color);\n",
              "      border-right-color: var(--fill-color);\n",
              "    }\n",
              "    40% {\n",
              "      border-color: transparent;\n",
              "      border-right-color: var(--fill-color);\n",
              "      border-top-color: var(--fill-color);\n",
              "    }\n",
              "    60% {\n",
              "      border-color: transparent;\n",
              "      border-right-color: var(--fill-color);\n",
              "    }\n",
              "    80% {\n",
              "      border-color: transparent;\n",
              "      border-right-color: var(--fill-color);\n",
              "      border-bottom-color: var(--fill-color);\n",
              "    }\n",
              "    90% {\n",
              "      border-color: transparent;\n",
              "      border-bottom-color: var(--fill-color);\n",
              "    }\n",
              "  }\n",
              "</style>\n",
              "\n",
              "  <script>\n",
              "    async function quickchart(key) {\n",
              "      const quickchartButtonEl =\n",
              "        document.querySelector('#' + key + ' button');\n",
              "      quickchartButtonEl.disabled = true;  // To prevent multiple clicks.\n",
              "      quickchartButtonEl.classList.add('colab-df-spinner');\n",
              "      try {\n",
              "        const charts = await google.colab.kernel.invokeFunction(\n",
              "            'suggestCharts', [key], {});\n",
              "      } catch (error) {\n",
              "        console.error('Error during call to suggestCharts:', error);\n",
              "      }\n",
              "      quickchartButtonEl.classList.remove('colab-df-spinner');\n",
              "      quickchartButtonEl.classList.add('colab-df-quickchart-complete');\n",
              "    }\n",
              "    (() => {\n",
              "      let quickchartButtonEl =\n",
              "        document.querySelector('#df-d697bb1c-6a92-4205-bb49-90291afa7389 button');\n",
              "      quickchartButtonEl.style.display =\n",
              "        google.colab.kernel.accessAllowed ? 'block' : 'none';\n",
              "    })();\n",
              "  </script>\n",
              "</div>\n",
              "\n",
              "    </div>\n",
              "  </div>\n"
            ],
            "application/vnd.google.colaboratory.intrinsic+json": {
              "type": "dataframe",
              "variable_name": "titanic_df",
              "summary": "{\n  \"name\": \"titanic_df\",\n  \"rows\": 891,\n  \"fields\": [\n    {\n      \"column\": \"PassengerId\",\n      \"properties\": {\n        \"dtype\": \"number\",\n        \"std\": 257,\n        \"min\": 1,\n        \"max\": 891,\n        \"num_unique_values\": 891,\n        \"samples\": [\n          710,\n          440,\n          841\n        ],\n        \"semantic_type\": \"\",\n        \"description\": \"\"\n      }\n    },\n    {\n      \"column\": \"Survived\",\n      \"properties\": {\n        \"dtype\": \"number\",\n        \"std\": 0,\n        \"min\": 0,\n        \"max\": 1,\n        \"num_unique_values\": 2,\n        \"samples\": [\n          1,\n          0\n        ],\n        \"semantic_type\": \"\",\n        \"description\": \"\"\n      }\n    },\n    {\n      \"column\": \"Pclass\",\n      \"properties\": {\n        \"dtype\": \"number\",\n        \"std\": 0,\n        \"min\": 1,\n        \"max\": 3,\n        \"num_unique_values\": 3,\n        \"samples\": [\n          3,\n          1\n        ],\n        \"semantic_type\": \"\",\n        \"description\": \"\"\n      }\n    },\n    {\n      \"column\": \"Name\",\n      \"properties\": {\n        \"dtype\": \"string\",\n        \"num_unique_values\": 891,\n        \"samples\": [\n          \"Moubarek, Master. Halim Gonios (\\\"William George\\\")\",\n          \"Kvillner, Mr. Johan Henrik Johannesson\"\n        ],\n        \"semantic_type\": \"\",\n        \"description\": \"\"\n      }\n    },\n    {\n      \"column\": \"Sex\",\n      \"properties\": {\n        \"dtype\": \"category\",\n        \"num_unique_values\": 2,\n        \"samples\": [\n          \"female\",\n          \"male\"\n        ],\n        \"semantic_type\": \"\",\n        \"description\": \"\"\n      }\n    },\n    {\n      \"column\": \"Age\",\n      \"properties\": {\n        \"dtype\": \"number\",\n        \"std\": 14.526497332334042,\n        \"min\": 0.42,\n        \"max\": 80.0,\n        \"num_unique_values\": 88,\n        \"samples\": [\n          0.75,\n          22.0\n        ],\n        \"semantic_type\": \"\",\n        \"description\": \"\"\n      }\n    },\n    {\n      \"column\": \"SibSp\",\n      \"properties\": {\n        \"dtype\": \"number\",\n        \"std\": 1,\n        \"min\": 0,\n        \"max\": 8,\n        \"num_unique_values\": 7,\n        \"samples\": [\n          1,\n          0\n        ],\n        \"semantic_type\": \"\",\n        \"description\": \"\"\n      }\n    },\n    {\n      \"column\": \"Parch\",\n      \"properties\": {\n        \"dtype\": \"number\",\n        \"std\": 0,\n        \"min\": 0,\n        \"max\": 6,\n        \"num_unique_values\": 7,\n        \"samples\": [\n          0,\n          1\n        ],\n        \"semantic_type\": \"\",\n        \"description\": \"\"\n      }\n    },\n    {\n      \"column\": \"Ticket\",\n      \"properties\": {\n        \"dtype\": \"string\",\n        \"num_unique_values\": 681,\n        \"samples\": [\n          \"11774\",\n          \"248740\"\n        ],\n        \"semantic_type\": \"\",\n        \"description\": \"\"\n      }\n    },\n    {\n      \"column\": \"Fare\",\n      \"properties\": {\n        \"dtype\": \"number\",\n        \"std\": 49.6934285971809,\n        \"min\": 0.0,\n        \"max\": 512.3292,\n        \"num_unique_values\": 248,\n        \"samples\": [\n          11.2417,\n          51.8625\n        ],\n        \"semantic_type\": \"\",\n        \"description\": \"\"\n      }\n    },\n    {\n      \"column\": \"Cabin\",\n      \"properties\": {\n        \"dtype\": \"category\",\n        \"num_unique_values\": 147,\n        \"samples\": [\n          \"D45\",\n          \"B49\"\n        ],\n        \"semantic_type\": \"\",\n        \"description\": \"\"\n      }\n    },\n    {\n      \"column\": \"Embarked\",\n      \"properties\": {\n        \"dtype\": \"category\",\n        \"num_unique_values\": 3,\n        \"samples\": [\n          \"S\",\n          \"C\"\n        ],\n        \"semantic_type\": \"\",\n        \"description\": \"\"\n      }\n    }\n  ]\n}"
            }
          },
          "metadata": {},
          "execution_count": 50
        }
      ]
    },
    {
      "cell_type": "code",
      "source": [
        "print('\\n ### train 데이터 정보 ###  \\n')\n",
        "print(titanic_df.info())"
      ],
      "metadata": {
        "colab": {
          "base_uri": "https://localhost:8080/"
        },
        "id": "sVUQaWvMtZNE",
        "outputId": "20b5ce94-701c-43fc-c3dc-28e80f6148f2"
      },
      "execution_count": null,
      "outputs": [
        {
          "output_type": "stream",
          "name": "stdout",
          "text": [
            "\n",
            " ### train 데이터 정보 ###  \n",
            "\n",
            "<class 'pandas.core.frame.DataFrame'>\n",
            "RangeIndex: 891 entries, 0 to 890\n",
            "Data columns (total 12 columns):\n",
            " #   Column       Non-Null Count  Dtype  \n",
            "---  ------       --------------  -----  \n",
            " 0   PassengerId  891 non-null    int64  \n",
            " 1   Survived     891 non-null    int64  \n",
            " 2   Pclass       891 non-null    int64  \n",
            " 3   Name         891 non-null    object \n",
            " 4   Sex          891 non-null    object \n",
            " 5   Age          714 non-null    float64\n",
            " 6   SibSp        891 non-null    int64  \n",
            " 7   Parch        891 non-null    int64  \n",
            " 8   Ticket       891 non-null    object \n",
            " 9   Fare         891 non-null    float64\n",
            " 10  Cabin        204 non-null    object \n",
            " 11  Embarked     889 non-null    object \n",
            "dtypes: float64(2), int64(5), object(5)\n",
            "memory usage: 83.7+ KB\n",
            "None\n"
          ]
        }
      ]
    },
    {
      "cell_type": "markdown",
      "source": [
        "- RangeIndex: DataFrame 인덱스의 범위 (전체 로우 수)\n",
        "- 891 로우, 12개 칼럼"
      ],
      "metadata": {
        "id": "RcWshwVCviXQ"
      }
    },
    {
      "cell_type": "markdown",
      "source": [
        "Null 값 처리\n",
        "- `fillna()`함수 사용\n",
        "- Age 평균 나이, 나머지 칼럼은 'N' 값으로 변경\n",
        "- Null 값 없는지 다시 확인"
      ],
      "metadata": {
        "id": "3o7lj_iTvxLt"
      }
    },
    {
      "cell_type": "code",
      "source": [
        "titanic_df['Age'].fillna(titanic_df['Age'].mean(),inplace=True)\n",
        "titanic_df['Cabin'].fillna('N',inplace=True)\n",
        "titanic_df['Embarked'].fillna('N',inplace=True)\n",
        "print('데이터 세트 Null 값 갯수 ',titanic_df.isnull().sum().sum())"
      ],
      "metadata": {
        "colab": {
          "base_uri": "https://localhost:8080/"
        },
        "id": "fjqtdYAxtcvS",
        "outputId": "c021f31d-f1c9-4f5c-df1c-51662624d480"
      },
      "execution_count": null,
      "outputs": [
        {
          "output_type": "stream",
          "name": "stdout",
          "text": [
            "데이터 세트 Null 값 갯수  0\n"
          ]
        }
      ]
    },
    {
      "cell_type": "code",
      "source": [
        "print(' Sex 값 분포 :\\n',titanic_df['Sex'].value_counts())\n",
        "print('\\n Cabin 값 분포 :\\n',titanic_df['Cabin'].value_counts())\n",
        "print('\\n Embarked 값 분포 :\\n',titanic_df['Embarked'].value_counts())"
      ],
      "metadata": {
        "colab": {
          "base_uri": "https://localhost:8080/"
        },
        "id": "bBNfhqQhte9D",
        "outputId": "a7b14377-b481-4276-e951-939caa9b74ce"
      },
      "execution_count": null,
      "outputs": [
        {
          "output_type": "stream",
          "name": "stdout",
          "text": [
            " Sex 값 분포 :\n",
            " Sex\n",
            "male      577\n",
            "female    314\n",
            "Name: count, dtype: int64\n",
            "\n",
            " Cabin 값 분포 :\n",
            " Cabin\n",
            "N              687\n",
            "C23 C25 C27      4\n",
            "G6               4\n",
            "B96 B98          4\n",
            "C22 C26          3\n",
            "              ... \n",
            "E34              1\n",
            "C7               1\n",
            "C54              1\n",
            "E36              1\n",
            "C148             1\n",
            "Name: count, Length: 148, dtype: int64\n",
            "\n",
            " Embarked 값 분포 :\n",
            " Embarked\n",
            "S    644\n",
            "C    168\n",
            "Q     77\n",
            "N      2\n",
            "Name: count, dtype: int64\n"
          ]
        }
      ]
    },
    {
      "cell_type": "markdown",
      "source": [
        "Cabin(선실) 속성값 제대로 정리가 되지 않음\n",
        "- 'C23 C25 C27' 같이 여러 Cabin이 한꺼번에 표기됨\n",
        "- 선실 등급을 나타내는 첫 번째 알파벳만 중요"
      ],
      "metadata": {
        "id": "huBufovPwDXp"
      }
    },
    {
      "cell_type": "markdown",
      "source": [
        "Cabin 속성 앞 문자만 추출"
      ],
      "metadata": {
        "id": "3iq0Q7zhwWO8"
      }
    },
    {
      "cell_type": "code",
      "source": [
        "titanic_df['Cabin'] = titanic_df['Cabin'].str[:1]\n",
        "print(titanic_df['Cabin'].head(3))"
      ],
      "metadata": {
        "colab": {
          "base_uri": "https://localhost:8080/"
        },
        "id": "HeQKW1qmtgrj",
        "outputId": "3e919a82-4d17-47ee-b288-41af169b6caf"
      },
      "execution_count": null,
      "outputs": [
        {
          "output_type": "stream",
          "name": "stdout",
          "text": [
            "0    N\n",
            "1    C\n",
            "2    N\n",
            "Name: Cabin, dtype: object\n"
          ]
        }
      ]
    },
    {
      "cell_type": "markdown",
      "source": [
        "성별에 따른 생존자 수 비교: 성별이 생존 확률에 어떤 영향을 미쳤는지"
      ],
      "metadata": {
        "id": "o5z9WAD0wdH3"
      }
    },
    {
      "cell_type": "code",
      "source": [
        "titanic_df.groupby(['Sex','Survived'])['Survived'].count()"
      ],
      "metadata": {
        "colab": {
          "base_uri": "https://localhost:8080/",
          "height": 241
        },
        "id": "T1tNbFiuthx0",
        "outputId": "c01eb9e6-babd-4494-ee72-949b597e7cb3"
      },
      "execution_count": null,
      "outputs": [
        {
          "output_type": "execute_result",
          "data": {
            "text/plain": [
              "Sex     Survived\n",
              "female  0            81\n",
              "        1           233\n",
              "male    0           468\n",
              "        1           109\n",
              "Name: Survived, dtype: int64"
            ],
            "text/html": [
              "<div>\n",
              "<style scoped>\n",
              "    .dataframe tbody tr th:only-of-type {\n",
              "        vertical-align: middle;\n",
              "    }\n",
              "\n",
              "    .dataframe tbody tr th {\n",
              "        vertical-align: top;\n",
              "    }\n",
              "\n",
              "    .dataframe thead th {\n",
              "        text-align: right;\n",
              "    }\n",
              "</style>\n",
              "<table border=\"1\" class=\"dataframe\">\n",
              "  <thead>\n",
              "    <tr style=\"text-align: right;\">\n",
              "      <th></th>\n",
              "      <th></th>\n",
              "      <th>Survived</th>\n",
              "    </tr>\n",
              "    <tr>\n",
              "      <th>Sex</th>\n",
              "      <th>Survived</th>\n",
              "      <th></th>\n",
              "    </tr>\n",
              "  </thead>\n",
              "  <tbody>\n",
              "    <tr>\n",
              "      <th rowspan=\"2\" valign=\"top\">female</th>\n",
              "      <th>0</th>\n",
              "      <td>81</td>\n",
              "    </tr>\n",
              "    <tr>\n",
              "      <th>1</th>\n",
              "      <td>233</td>\n",
              "    </tr>\n",
              "    <tr>\n",
              "      <th rowspan=\"2\" valign=\"top\">male</th>\n",
              "      <th>0</th>\n",
              "      <td>468</td>\n",
              "    </tr>\n",
              "    <tr>\n",
              "      <th>1</th>\n",
              "      <td>109</td>\n",
              "    </tr>\n",
              "  </tbody>\n",
              "</table>\n",
              "</div><br><label><b>dtype:</b> int64</label>"
            ]
          },
          "metadata": {},
          "execution_count": 55
        }
      ]
    },
    {
      "cell_type": "markdown",
      "source": [
        "그래프 시각화 시본(Seaborn) 패키지\n",
        "- 맷플롯립에 기반\n",
        "- 세련된 비주얼과 쉬운 API\n",
        "- 편리한 판다스 DataFrame과의 연동"
      ],
      "metadata": {
        "id": "dDEfNWIAwn4s"
      }
    },
    {
      "cell_type": "code",
      "source": [
        "sns.barplot(x='Sex', y = 'Survived', data=titanic_df)"
      ],
      "metadata": {
        "colab": {
          "base_uri": "https://localhost:8080/",
          "height": 467
        },
        "id": "YWUHpwi3tjO1",
        "outputId": "849e1d84-f4da-4586-e2a5-567dac554d19"
      },
      "execution_count": null,
      "outputs": [
        {
          "output_type": "execute_result",
          "data": {
            "text/plain": [
              "<Axes: xlabel='Sex', ylabel='Survived'>"
            ]
          },
          "metadata": {},
          "execution_count": 56
        },
        {
          "output_type": "display_data",
          "data": {
            "text/plain": [
              "<Figure size 640x480 with 1 Axes>"
            ],
            "image/png": "[encoded data removed]"
          },
          "metadata": {}
        }
      ]
    },
    {
      "cell_type": "markdown",
      "source": [
        "부자와 가난한 사람 간의 생존확률\n",
        "- 객실 등급: 부 측정 속성\n",
        "- 객실 등급 별 성별에 따른 생존 확률"
      ],
      "metadata": {
        "id": "5lHtNeKMw0pI"
      }
    },
    {
      "cell_type": "code",
      "source": [
        "sns.barplot(x='Pclass', y='Survived', hue='Sex', data=titanic_df)"
      ],
      "metadata": {
        "colab": {
          "base_uri": "https://localhost:8080/",
          "height": 467
        },
        "id": "oS6MjnHztkbC",
        "outputId": "764235fe-954c-4df4-9c89-14a1eedc1e0c"
      },
      "execution_count": null,
      "outputs": [
        {
          "output_type": "execute_result",
          "data": {
            "text/plain": [
              "<Axes: xlabel='Pclass', ylabel='Survived'>"
            ]
          },
          "metadata": {},
          "execution_count": 57
        },
        {
          "output_type": "display_data",
          "data": {
            "text/plain": [
              "<Figure size 640x480 with 1 Axes>"
            ],
            "image/png": "[encoded data removed]"
          },
          "metadata": {}
        }
      ]
    },
    {
      "cell_type": "markdown",
      "source": [
        "Age에 따른 생존 확률\n",
        "- 범위별로 분류해 카테고리 값 할당"
      ],
      "metadata": {
        "id": "5HYHz9IbxF8L"
      }
    },
    {
      "cell_type": "code",
      "source": [
        "# 입력 age에 따라 구분값을 반환하는 함수 설정. DataFrame의 apply lambda식에 사용.\n",
        "def get_category(age):\n",
        "    cat = ''\n",
        "    if age <= -1: cat = 'Unknown'\n",
        "    elif age <= 5: cat = 'Baby'\n",
        "    elif age <= 12: cat = 'Child'\n",
        "    elif age <= 18: cat = 'Teenager'\n",
        "    elif age <= 25: cat = 'Student'\n",
        "    elif age <= 35: cat = 'Young Adult'\n",
        "    elif age <= 60: cat = 'Adult'\n",
        "    else : cat = 'Elderly'\n",
        "\n",
        "    return cat\n",
        "\n",
        "# 막대그래프의 크기 figure를 더 크게 설정\n",
        "plt.figure(figsize=(10,6))\n",
        "\n",
        "#X축의 값을 순차적으로 표시하기 위한 설정\n",
        "group_names = ['Unknown', 'Baby', 'Child', 'Teenager', 'Student', 'Young Adult', 'Adult', 'Elderly']\n",
        "\n",
        "# lambda 식에 위에서 생성한 get_category( ) 함수를 반환값으로 지정.\n",
        "# get_category(X)는 입력값으로 'Age' 컬럼값을 받아서 해당하는 cat 반환\n",
        "titanic_df['Age_cat'] = titanic_df['Age'].apply(lambda x : get_category(x))\n",
        "sns.barplot(x='Age_cat', y = 'Survived', hue='Sex', data=titanic_df, order=group_names)\n",
        "titanic_df.drop('Age_cat', axis=1, inplace=True)"
      ],
      "metadata": {
        "colab": {
          "base_uri": "https://localhost:8080/",
          "height": 542
        },
        "id": "UQw20EZCtmdZ",
        "outputId": "94a73696-c370-4700-ee73-9dca6c812c09"
      },
      "execution_count": null,
      "outputs": [
        {
          "output_type": "display_data",
          "data": {
            "text/plain": [
              "<Figure size 1000x600 with 1 Axes>"
            ],
            "image/png": "[encoded data removed]"
          },
          "metadata": {}
        }
      ]
    },
    {
      "cell_type": "markdown",
      "source": [
        "문자열 카테고리 피처를 숫자형 카테고리 피처로 변환\n",
        "- 레이블 인코딩: 사이킷런의 LableEncoder 클래스\n",
        "- `fit()`, `transform()`으로 데이터 변환\n",
        "- 여러 칼럼을 `encode_features()` 함수를 생성해 한 번에 변환"
      ],
      "metadata": {
        "id": "bfHWmU_zxSVy"
      }
    },
    {
      "cell_type": "code",
      "source": [
        "from sklearn import preprocessing\n",
        "\n",
        "def encode_features(dataDF):\n",
        "    features = ['Cabin', 'Sex', 'Embarked']\n",
        "    for feature in features:\n",
        "        le = preprocessing.LabelEncoder()\n",
        "        le = le.fit(dataDF[feature])\n",
        "        dataDF[feature] = le.transform(dataDF[feature])\n",
        "\n",
        "    return dataDF\n",
        "\n",
        "titanic_df = encode_features(titanic_df)\n",
        "titanic_df.head()"
      ],
      "metadata": {
        "colab": {
          "base_uri": "https://localhost:8080/",
          "height": 241
        },
        "id": "OQ4WpNXBtneY",
        "outputId": "253b1b9b-53fb-456a-f91b-3ae1d828dd71"
      },
      "execution_count": null,
      "outputs": [
        {
          "output_type": "execute_result",
          "data": {
            "text/plain": [
              "   PassengerId  Survived  Pclass  \\\n",
              "0            1         0       3   \n",
              "1            2         1       1   \n",
              "2            3         1       3   \n",
              "3            4         1       1   \n",
              "4            5         0       3   \n",
              "\n",
              "                                                Name  Sex   Age  SibSp  Parch  \\\n",
              "0                            Braund, Mr. Owen Harris    1  22.0      1      0   \n",
              "1  Cumings, Mrs. John Bradley (Florence Briggs Th...    0  38.0      1      0   \n",
              "2                             Heikkinen, Miss. Laina    0  26.0      0      0   \n",
              "3       Futrelle, Mrs. Jacques Heath (Lily May Peel)    0  35.0      1      0   \n",
              "4                           Allen, Mr. William Henry    1  35.0      0      0   \n",
              "\n",
              "             Ticket     Fare  Cabin  Embarked  \n",
              "0         A/5 21171   7.2500      7         3  \n",
              "1          PC 17599  71.2833      2         0  \n",
              "2  STON/O2. 3101282   7.9250      7         3  \n",
              "3            113803  53.1000      2         3  \n",
              "4            373450   8.0500      7         3  "
            ],
            "text/html": [
              "\n",
              "  <div id=\"df-ec3e5f9d-be24-4871-a827-168e5caa4f8d\" class=\"colab-df-container\">\n",
              "    <div>\n",
              "<style scoped>\n",
              "    .dataframe tbody tr th:only-of-type {\n",
              "        vertical-align: middle;\n",
              "    }\n",
              "\n",
              "    .dataframe tbody tr th {\n",
              "        vertical-align: top;\n",
              "    }\n",
              "\n",
              "    .dataframe thead th {\n",
              "        text-align: right;\n",
              "    }\n",
              "</style>\n",
              "<table border=\"1\" class=\"dataframe\">\n",
              "  <thead>\n",
              "    <tr style=\"text-align: right;\">\n",
              "      <th></th>\n",
              "      <th>PassengerId</th>\n",
              "      <th>Survived</th>\n",
              "      <th>Pclass</th>\n",
              "      <th>Name</th>\n",
              "      <th>Sex</th>\n",
              "      <th>Age</th>\n",
              "      <th>SibSp</th>\n",
              "      <th>Parch</th>\n",
              "      <th>Ticket</th>\n",
              "      <th>Fare</th>\n",
              "      <th>Cabin</th>\n",
              "      <th>Embarked</th>\n",
              "    </tr>\n",
              "  </thead>\n",
              "  <tbody>\n",
              "    <tr>\n",
              "      <th>0</th>\n",
              "      <td>1</td>\n",
              "      <td>0</td>\n",
              "      <td>3</td>\n",
              "      <td>Braund, Mr. Owen Harris</td>\n",
              "      <td>1</td>\n",
              "      <td>22.0</td>\n",
              "      <td>1</td>\n",
              "      <td>0</td>\n",
              "      <td>A/5 21171</td>\n",
              "      <td>7.2500</td>\n",
              "      <td>7</td>\n",
              "      <td>3</td>\n",
              "    </tr>\n",
              "    <tr>\n",
              "      <th>1</th>\n",
              "      <td>2</td>\n",
              "      <td>1</td>\n",
              "      <td>1</td>\n",
              "      <td>Cumings, Mrs. John Bradley (Florence Briggs Th...</td>\n",
              "      <td>0</td>\n",
              "      <td>38.0</td>\n",
              "      <td>1</td>\n",
              "      <td>0</td>\n",
              "      <td>PC 17599</td>\n",
              "      <td>71.2833</td>\n",
              "      <td>2</td>\n",
              "      <td>0</td>\n",
              "    </tr>\n",
              "    <tr>\n",
              "      <th>2</th>\n",
              "      <td>3</td>\n",
              "      <td>1</td>\n",
              "      <td>3</td>\n",
              "      <td>Heikkinen, Miss. Laina</td>\n",
              "      <td>0</td>\n",
              "      <td>26.0</td>\n",
              "      <td>0</td>\n",
              "      <td>0</td>\n",
              "      <td>STON/O2. 3101282</td>\n",
              "      <td>7.9250</td>\n",
              "      <td>7</td>\n",
              "      <td>3</td>\n",
              "    </tr>\n",
              "    <tr>\n",
              "      <th>3</th>\n",
              "      <td>4</td>\n",
              "      <td>1</td>\n",
              "      <td>1</td>\n",
              "      <td>Futrelle, Mrs. Jacques Heath (Lily May Peel)</td>\n",
              "      <td>0</td>\n",
              "      <td>35.0</td>\n",
              "      <td>1</td>\n",
              "      <td>0</td>\n",
              "      <td>113803</td>\n",
              "      <td>53.1000</td>\n",
              "      <td>2</td>\n",
              "      <td>3</td>\n",
              "    </tr>\n",
              "    <tr>\n",
              "      <th>4</th>\n",
              "      <td>5</td>\n",
              "      <td>0</td>\n",
              "      <td>3</td>\n",
              "      <td>Allen, Mr. William Henry</td>\n",
              "      <td>1</td>\n",
              "      <td>35.0</td>\n",
              "      <td>0</td>\n",
              "      <td>0</td>\n",
              "      <td>373450</td>\n",
              "      <td>8.0500</td>\n",
              "      <td>7</td>\n",
              "      <td>3</td>\n",
              "    </tr>\n",
              "  </tbody>\n",
              "</table>\n",
              "</div>\n",
              "    <div class=\"colab-df-buttons\">\n",
              "\n",
              "  <div class=\"colab-df-container\">\n",
              "    <button class=\"colab-df-convert\" onclick=\"convertToInteractive('df-ec3e5f9d-be24-4871-a827-168e5caa4f8d')\"\n",
              "            title=\"Convert this dataframe to an interactive table.\"\n",
              "            style=\"display:none;\">\n",
              "\n",
              "  <svg xmlns=\"http://www.w3.org/2000/svg\" height=\"24px\" viewBox=\"0 -960 960 960\">\n",
              "    <path d=\"M120-120v-720h720v720H120Zm60-500h600v-160H180v160Zm220 220h160v-160H400v160Zm0 220h160v-160H400v160ZM180-400h160v-160H180v160Zm440 0h160v-160H620v160ZM180-180h160v-160H180v160Zm440 0h160v-160H620v160Z\"/>\n",
              "  </svg>\n",
              "    </button>\n",
              "\n",
              "  <style>\n",
              "    .colab-df-container {\n",
              "      display:flex;\n",
              "      gap: 12px;\n",
              "    }\n",
              "\n",
              "    .colab-df-convert {\n",
              "      background-color: #E8F0FE;\n",
              "      border: none;\n",
              "      border-radius: 50%;\n",
              "      cursor: pointer;\n",
              "      display: none;\n",
              "      fill: #1967D2;\n",
              "      height: 32px;\n",
              "      padding: 0 0 0 0;\n",
              "      width: 32px;\n",
              "    }\n",
              "\n",
              "    .colab-df-convert:hover {\n",
              "      background-color: #E2EBFA;\n",
              "      box-shadow: 0px 1px 2px rgba(60, 64, 67, 0.3), 0px 1px 3px 1px rgba(60, 64, 67, 0.15);\n",
              "      fill: #174EA6;\n",
              "    }\n",
              "\n",
              "    .colab-df-buttons div {\n",
              "      margin-bottom: 4px;\n",
              "    }\n",
              "\n",
              "    [theme=dark] .colab-df-convert {\n",
              "      background-color: #3B4455;\n",
              "      fill: #D2E3FC;\n",
              "    }\n",
              "\n",
              "    [theme=dark] .colab-df-convert:hover {\n",
              "      background-color: #434B5C;\n",
              "      box-shadow: 0px 1px 3px 1px rgba(0, 0, 0, 0.15);\n",
              "      filter: drop-shadow(0px 1px 2px rgba(0, 0, 0, 0.3));\n",
              "      fill: #FFFFFF;\n",
              "    }\n",
              "  </style>\n",
              "\n",
              "    <script>\n",
              "      const buttonEl =\n",
              "        document.querySelector('#df-ec3e5f9d-be24-4871-a827-168e5caa4f8d button.colab-df-convert');\n",
              "      buttonEl.style.display =\n",
              "        google.colab.kernel.accessAllowed ? 'block' : 'none';\n",
              "\n",
              "      async function convertToInteractive(key) {\n",
              "        const element = document.querySelector('#df-ec3e5f9d-be24-4871-a827-168e5caa4f8d');\n",
              "        const dataTable =\n",
              "          await google.colab.kernel.invokeFunction('convertToInteractive',\n",
              "                                                    [key], {});\n",
              "        if (!dataTable) return;\n",
              "\n",
              "        const docLinkHtml = 'Like what you see? Visit the ' +\n",
              "          '<a target=\"_blank\" href=https://colab.research.google.com/notebooks/data_table.ipynb>data table notebook</a>'\n",
              "          + ' to learn more about interactive tables.';\n",
              "        element.innerHTML = '';\n",
              "        dataTable['output_type'] = 'display_data';\n",
              "        await google.colab.output.renderOutput(dataTable, element);\n",
              "        const docLink = document.createElement('div');\n",
              "        docLink.innerHTML = docLinkHtml;\n",
              "        element.appendChild(docLink);\n",
              "      }\n",
              "    </script>\n",
              "  </div>\n",
              "\n",
              "\n",
              "<div id=\"df-54bd50b4-3736-47fb-abdf-d1cb9df3ff46\">\n",
              "  <button class=\"colab-df-quickchart\" onclick=\"quickchart('df-54bd50b4-3736-47fb-abdf-d1cb9df3ff46')\"\n",
              "            title=\"Suggest charts\"\n",
              "            style=\"display:none;\">\n",
              "\n",
              "<svg xmlns=\"http://www.w3.org/2000/svg\" height=\"24px\"viewBox=\"0 0 24 24\"\n",
              "     width=\"24px\">\n",
              "    <g>\n",
              "        <path d=\"M19 3H5c-1.1 0-2 .9-2 2v14c0 1.1.9 2 2 2h14c1.1 0 2-.9 2-2V5c0-1.1-.9-2-2-2zM9 17H7v-7h2v7zm4 0h-2V7h2v10zm4 0h-2v-4h2v4z\"/>\n",
              "    </g>\n",
              "</svg>\n",
              "  </button>\n",
              "\n",
              "<style>\n",
              "  .colab-df-quickchart {\n",
              "      --bg-color: #E8F0FE;\n",
              "      --fill-color: #1967D2;\n",
              "      --hover-bg-color: #E2EBFA;\n",
              "      --hover-fill-color: #174EA6;\n",
              "      --disabled-fill-color: #AAA;\n",
              "      --disabled-bg-color: #DDD;\n",
              "  }\n",
              "\n",
              "  [theme=dark] .colab-df-quickchart {\n",
              "      --bg-color: #3B4455;\n",
              "      --fill-color: #D2E3FC;\n",
              "      --hover-bg-color: #434B5C;\n",
              "      --hover-fill-color: #FFFFFF;\n",
              "      --disabled-bg-color: #3B4455;\n",
              "      --disabled-fill-color: #666;\n",
              "  }\n",
              "\n",
              "  .colab-df-quickchart {\n",
              "    background-color: var(--bg-color);\n",
              "    border: none;\n",
              "    border-radius: 50%;\n",
              "    cursor: pointer;\n",
              "    display: none;\n",
              "    fill: var(--fill-color);\n",
              "    height: 32px;\n",
              "    padding: 0;\n",
              "    width: 32px;\n",
              "  }\n",
              "\n",
              "  .colab-df-quickchart:hover {\n",
              "    background-color: var(--hover-bg-color);\n",
              "    box-shadow: 0 1px 2px rgba(60, 64, 67, 0.3), 0 1px 3px 1px rgba(60, 64, 67, 0.15);\n",
              "    fill: var(--button-hover-fill-color);\n",
              "  }\n",
              "\n",
              "  .colab-df-quickchart-complete:disabled,\n",
              "  .colab-df-quickchart-complete:disabled:hover {\n",
              "    background-color: var(--disabled-bg-color);\n",
              "    fill: var(--disabled-fill-color);\n",
              "    box-shadow: none;\n",
              "  }\n",
              "\n",
              "  .colab-df-spinner {\n",
              "    border: 2px solid var(--fill-color);\n",
              "    border-color: transparent;\n",
              "    border-bottom-color: var(--fill-color);\n",
              "    animation:\n",
              "      spin 1s steps(1) infinite;\n",
              "  }\n",
              "\n",
              "  @keyframes spin {\n",
              "    0% {\n",
              "      border-color: transparent;\n",
              "      border-bottom-color: var(--fill-color);\n",
              "      border-left-color: var(--fill-color);\n",
              "    }\n",
              "    20% {\n",
              "      border-color: transparent;\n",
              "      border-left-color: var(--fill-color);\n",
              "      border-top-color: var(--fill-color);\n",
              "    }\n",
              "    30% {\n",
              "      border-color: transparent;\n",
              "      border-left-color: var(--fill-color);\n",
              "      border-top-color: var(--fill-color);\n",
              "      border-right-color: var(--fill-color);\n",
              "    }\n",
              "    40% {\n",
              "      border-color: transparent;\n",
              "      border-right-color: var(--fill-color);\n",
              "      border-top-color: var(--fill-color);\n",
              "    }\n",
              "    60% {\n",
              "      border-color: transparent;\n",
              "      border-right-color: var(--fill-color);\n",
              "    }\n",
              "    80% {\n",
              "      border-color: transparent;\n",
              "      border-right-color: var(--fill-color);\n",
              "      border-bottom-color: var(--fill-color);\n",
              "    }\n",
              "    90% {\n",
              "      border-color: transparent;\n",
              "      border-bottom-color: var(--fill-color);\n",
              "    }\n",
              "  }\n",
              "</style>\n",
              "\n",
              "  <script>\n",
              "    async function quickchart(key) {\n",
              "      const quickchartButtonEl =\n",
              "        document.querySelector('#' + key + ' button');\n",
              "      quickchartButtonEl.disabled = true;  // To prevent multiple clicks.\n",
              "      quickchartButtonEl.classList.add('colab-df-spinner');\n",
              "      try {\n",
              "        const charts = await google.colab.kernel.invokeFunction(\n",
              "            'suggestCharts', [key], {});\n",
              "      } catch (error) {\n",
              "        console.error('Error during call to suggestCharts:', error);\n",
              "      }\n",
              "      quickchartButtonEl.classList.remove('colab-df-spinner');\n",
              "      quickchartButtonEl.classList.add('colab-df-quickchart-complete');\n",
              "    }\n",
              "    (() => {\n",
              "      let quickchartButtonEl =\n",
              "        document.querySelector('#df-54bd50b4-3736-47fb-abdf-d1cb9df3ff46 button');\n",
              "      quickchartButtonEl.style.display =\n",
              "        google.colab.kernel.accessAllowed ? 'block' : 'none';\n",
              "    })();\n",
              "  </script>\n",
              "</div>\n",
              "\n",
              "    </div>\n",
              "  </div>\n"
            ],
            "application/vnd.google.colaboratory.intrinsic+json": {
              "type": "dataframe",
              "variable_name": "titanic_df",
              "summary": "{\n  \"name\": \"titanic_df\",\n  \"rows\": 891,\n  \"fields\": [\n    {\n      \"column\": \"PassengerId\",\n      \"properties\": {\n        \"dtype\": \"number\",\n        \"std\": 257,\n        \"min\": 1,\n        \"max\": 891,\n        \"num_unique_values\": 891,\n        \"samples\": [\n          710,\n          440,\n          841\n        ],\n        \"semantic_type\": \"\",\n        \"description\": \"\"\n      }\n    },\n    {\n      \"column\": \"Survived\",\n      \"properties\": {\n        \"dtype\": \"number\",\n        \"std\": 0,\n        \"min\": 0,\n        \"max\": 1,\n        \"num_unique_values\": 2,\n        \"samples\": [\n          1,\n          0\n        ],\n        \"semantic_type\": \"\",\n        \"description\": \"\"\n      }\n    },\n    {\n      \"column\": \"Pclass\",\n      \"properties\": {\n        \"dtype\": \"number\",\n        \"std\": 0,\n        \"min\": 1,\n        \"max\": 3,\n        \"num_unique_values\": 3,\n        \"samples\": [\n          3,\n          1\n        ],\n        \"semantic_type\": \"\",\n        \"description\": \"\"\n      }\n    },\n    {\n      \"column\": \"Name\",\n      \"properties\": {\n        \"dtype\": \"string\",\n        \"num_unique_values\": 891,\n        \"samples\": [\n          \"Moubarek, Master. Halim Gonios (\\\"William George\\\")\",\n          \"Kvillner, Mr. Johan Henrik Johannesson\"\n        ],\n        \"semantic_type\": \"\",\n        \"description\": \"\"\n      }\n    },\n    {\n      \"column\": \"Sex\",\n      \"properties\": {\n        \"dtype\": \"number\",\n        \"std\": 0,\n        \"min\": 0,\n        \"max\": 1,\n        \"num_unique_values\": 2,\n        \"samples\": [\n          0,\n          1\n        ],\n        \"semantic_type\": \"\",\n        \"description\": \"\"\n      }\n    },\n    {\n      \"column\": \"Age\",\n      \"properties\": {\n        \"dtype\": \"number\",\n        \"std\": 13.002015226002882,\n        \"min\": 0.42,\n        \"max\": 80.0,\n        \"num_unique_values\": 89,\n        \"samples\": [\n          59.0,\n          36.5\n        ],\n        \"semantic_type\": \"\",\n        \"description\": \"\"\n      }\n    },\n    {\n      \"column\": \"SibSp\",\n      \"properties\": {\n        \"dtype\": \"number\",\n        \"std\": 1,\n        \"min\": 0,\n        \"max\": 8,\n        \"num_unique_values\": 7,\n        \"samples\": [\n          1,\n          0\n        ],\n        \"semantic_type\": \"\",\n        \"description\": \"\"\n      }\n    },\n    {\n      \"column\": \"Parch\",\n      \"properties\": {\n        \"dtype\": \"number\",\n        \"std\": 0,\n        \"min\": 0,\n        \"max\": 6,\n        \"num_unique_values\": 7,\n        \"samples\": [\n          0,\n          1\n        ],\n        \"semantic_type\": \"\",\n        \"description\": \"\"\n      }\n    },\n    {\n      \"column\": \"Ticket\",\n      \"properties\": {\n        \"dtype\": \"string\",\n        \"num_unique_values\": 681,\n        \"samples\": [\n          \"11774\",\n          \"248740\"\n        ],\n        \"semantic_type\": \"\",\n        \"description\": \"\"\n      }\n    },\n    {\n      \"column\": \"Fare\",\n      \"properties\": {\n        \"dtype\": \"number\",\n        \"std\": 49.6934285971809,\n        \"min\": 0.0,\n        \"max\": 512.3292,\n        \"num_unique_values\": 248,\n        \"samples\": [\n          11.2417,\n          51.8625\n        ],\n        \"semantic_type\": \"\",\n        \"description\": \"\"\n      }\n    },\n    {\n      \"column\": \"Cabin\",\n      \"properties\": {\n        \"dtype\": \"number\",\n        \"std\": 2,\n        \"min\": 0,\n        \"max\": 8,\n        \"num_unique_values\": 9,\n        \"samples\": [\n          5,\n          2\n        ],\n        \"semantic_type\": \"\",\n        \"description\": \"\"\n      }\n    },\n    {\n      \"column\": \"Embarked\",\n      \"properties\": {\n        \"dtype\": \"number\",\n        \"std\": 1,\n        \"min\": 0,\n        \"max\": 3,\n        \"num_unique_values\": 4,\n        \"samples\": [\n          0,\n          1\n        ],\n        \"semantic_type\": \"\",\n        \"description\": \"\"\n      }\n    }\n  ]\n}"
            }
          },
          "metadata": {},
          "execution_count": 59
        }
      ]
    },
    {
      "cell_type": "code",
      "source": [
        "from sklearn.preprocessing import LabelEncoder\n",
        "\n",
        "# Null 처리 함수\n",
        "def fillna(df):\n",
        "    df['Age'].fillna(df['Age'].mean(), inplace=True)\n",
        "    df['Cabin'].fillna('N', inplace=True)\n",
        "    df['Embarked'].fillna('N', inplace=True)\n",
        "    df['Fare'].fillna(0, inplace=True)\n",
        "    return df\n",
        "\n",
        "# 머신러닝 알고리즘에 불필요한 피처 제거\n",
        "def drop_features(df):\n",
        "    df.drop(['PassengerId', 'Name', 'Ticket'], axis=1, inplace=True)\n",
        "    return df\n",
        "\n",
        "# 레이블 인코딩 수행.\n",
        "def format_features(df):\n",
        "    df['Cabin'] = df['Cabin'].str[:1]\n",
        "    features = ['Cabin', 'Sex', 'Embarked']\n",
        "    for feature in features:\n",
        "        le = LabelEncoder()\n",
        "        le = le.fit(df[feature])\n",
        "        df[feature] = le.transform(df[feature])\n",
        "    return df\n",
        "\n",
        "# 앞에서 설정한 데이터 전처리 함수 호출\n",
        "def transform_features(df):\n",
        "    df = fillna(df)\n",
        "    df = drop_features(df)\n",
        "    df = format_features(df)\n",
        "    return df"
      ],
      "metadata": {
        "id": "y1Cel87atqmv"
      },
      "execution_count": null,
      "outputs": []
    },
    {
      "cell_type": "markdown",
      "source": [
        "- 원본 CSV 파일 다시 로딩\n",
        "- 타이타닉 생존자 데이터 세트의 레이블인 Survived 속성만 별도 분리해 클래스 결정값 데이터 세트 만들기\n",
        "- Survived 속성 드롭해 피처 데이터 세트 만들기\n",
        "- 생성된 피처 데이터 세트에 `transform_features()` 적용해 데이터 가공"
      ],
      "metadata": {
        "id": "sz1ixxIUytCO"
      }
    },
    {
      "cell_type": "code",
      "source": [
        "# 원본 데이터를 재로딩 하고, feature데이터 셋과 Label 데이터 셋 추출.\n",
        "titanic_df = pd.read_csv('titanic_train.csv')\n",
        "y_titanic_df = titanic_df['Survived']\n",
        "X_titanic_df= titanic_df.drop('Survived',axis=1)\n",
        "\n",
        "X_titanic_df = transform_features(X_titanic_df)"
      ],
      "metadata": {
        "id": "_QP9FCZitsTy"
      },
      "execution_count": null,
      "outputs": []
    },
    {
      "cell_type": "markdown",
      "source": [
        "`train_test_split()` API 이용해 별도의 테스트 데이터 세트 추출\n",
        "- 테스트 데이터 세트 크기는 전체의 20%"
      ],
      "metadata": {
        "id": "5aZdooRlzEGT"
      }
    },
    {
      "cell_type": "code",
      "source": [
        "from sklearn.model_selection import train_test_split\n",
        "X_train, X_test, y_train, y_test=train_test_split(X_titanic_df, y_titanic_df, \\\n",
        "                                                  test_size=0.2, random_state=11)"
      ],
      "metadata": {
        "id": "oXd045Pwtt38"
      },
      "execution_count": null,
      "outputs": []
    },
    {
      "cell_type": "markdown",
      "source": [
        "타이타닉 생존자 예측 ML 알고리즘\n",
        "- 결정 트리: `DecisionTreeClassifier` 클래스\n",
        "- 랜덤 포레스트: `RandomForestClassifier` 클래스\n",
        "- 로지스틱 회귀: `LogisticRegression` 클래스"
      ],
      "metadata": {
        "id": "cQ1N4neCzOl8"
      }
    },
    {
      "cell_type": "markdown",
      "source": [
        "- 모델 학습(fit), 예측(predict), 성능 평가는 정확도 accuracy_score()\n",
        "- `LogisticRegression`의 생성 인자로 입력된 `solver='liblinear'`\n",
        "  - 로지스틱 회귀의 최적화 알고리즘을 liblinear로 설정하는 것\n",
        "  - 작은 데이터 세트에서의 이진 분류는 liblinear가 성능 약간 더 좋음"
      ],
      "metadata": {
        "id": "isM-fmnzzlrz"
      }
    },
    {
      "cell_type": "code",
      "source": [
        "from sklearn.tree import DecisionTreeClassifier\n",
        "from sklearn.ensemble import RandomForestClassifier\n",
        "from sklearn.linear_model import LogisticRegression\n",
        "from sklearn.metrics import accuracy_score\n",
        "\n",
        "# 결정트리, Random Forest, 로지스틱 회귀를 위한 사이킷런 Classifier 클래스 생성\n",
        "dt_clf = DecisionTreeClassifier(random_state=11)\n",
        "rf_clf = RandomForestClassifier(random_state=11)\n",
        "lr_clf = LogisticRegression(solver='liblinear')\n",
        "\n",
        "# DecisionTreeClassifier 학습/예측/평가\n",
        "dt_clf.fit(X_train , y_train)\n",
        "dt_pred = dt_clf.predict(X_test)\n",
        "print('DecisionTreeClassifier 정확도: {0:.4f}'.format(accuracy_score(y_test, dt_pred)))\n",
        "\n",
        "# RandomForestClassifier 학습/예측/평가\n",
        "rf_clf.fit(X_train , y_train)\n",
        "rf_pred = rf_clf.predict(X_test)\n",
        "print('RandomForestClassifier 정확도:{0:.4f}'.format(accuracy_score(y_test, rf_pred)))\n",
        "\n",
        "# LogisticRegression 학습/예측/평가\n",
        "lr_clf.fit(X_train , y_train)\n",
        "lr_pred = lr_clf.predict(X_test)\n",
        "print('LogisticRegression 정확도: {0:.4f}'.format(accuracy_score(y_test, lr_pred)))"
      ],
      "metadata": {
        "colab": {
          "base_uri": "https://localhost:8080/"
        },
        "id": "drbxXCa1tudU",
        "outputId": "86cc2ac6-ab38-41dc-9a78-3801f501e2b9"
      },
      "execution_count": null,
      "outputs": [
        {
          "output_type": "stream",
          "name": "stdout",
          "text": [
            "DecisionTreeClassifier 정확도: 0.7877\n",
            "RandomForestClassifier 정확도:0.8547\n",
            "LogisticRegression 정확도: 0.8659\n"
          ]
        }
      ]
    },
    {
      "cell_type": "markdown",
      "source": [
        "교차 검증\n",
        "- 결정 트리 모델 평가\n",
        "- `model_selection` 패키지의 `KFold` 클래스, `cross_val_score()`, `GridSearchCV` 클래스 모두 사용\n",
        "- 폴드 개수 5"
      ],
      "metadata": {
        "id": "HUkvJWoz0NEn"
      }
    },
    {
      "cell_type": "code",
      "source": [
        "from sklearn.model_selection import KFold\n",
        "\n",
        "def exec_kfold(clf, folds=5):\n",
        "    # 폴드 세트를 5개인 KFold객체를 생성, 폴드 수만큼 예측결과 저장을 위한  리스트 객체 생성.\n",
        "    kfold = KFold(n_splits=folds)\n",
        "    scores = []\n",
        "\n",
        "    # KFold 교차 검증 수행.\n",
        "    for iter_count , (train_index, test_index) in enumerate(kfold.split(X_titanic_df)):\n",
        "        # X_titanic_df 데이터에서 교차 검증별로 학습과 검증 데이터를 가리키는 index 생성\n",
        "        X_train, X_test = X_titanic_df.values[train_index], X_titanic_df.values[test_index]\n",
        "        y_train, y_test = y_titanic_df.values[train_index], y_titanic_df.values[test_index]\n",
        "\n",
        "        # Classifier 학습, 예측, 정확도 계산\n",
        "        clf.fit(X_train, y_train)\n",
        "        predictions = clf.predict(X_test)\n",
        "        accuracy = accuracy_score(y_test, predictions)\n",
        "        scores.append(accuracy)\n",
        "        print(\"교차 검증 {0} 정확도: {1:.4f}\".format(iter_count, accuracy))\n",
        "\n",
        "    # 5개 fold에서의 평균 정확도 계산.\n",
        "    mean_score = np.mean(scores)\n",
        "    print(\"평균 정확도: {0:.4f}\".format(mean_score))\n",
        "# exec_kfold 호출\n",
        "exec_kfold(dt_clf , folds=5)"
      ],
      "metadata": {
        "colab": {
          "base_uri": "https://localhost:8080/"
        },
        "id": "l75cdj2FtxcK",
        "outputId": "29cd880d-c0c7-48e7-e195-d2fd50aeab2b"
      },
      "execution_count": null,
      "outputs": [
        {
          "output_type": "stream",
          "name": "stdout",
          "text": [
            "교차 검증 0 정확도: 0.7542\n",
            "교차 검증 1 정확도: 0.7809\n",
            "교차 검증 2 정확도: 0.7865\n",
            "교차 검증 3 정확도: 0.7697\n",
            "교차 검증 4 정확도: 0.8202\n",
            "평균 정확도: 0.7823\n"
          ]
        }
      ]
    },
    {
      "cell_type": "code",
      "source": [
        "from sklearn.model_selection import cross_val_score\n",
        "\n",
        "scores = cross_val_score(dt_clf, X_titanic_df , y_titanic_df , cv=5)\n",
        "for iter_count,accuracy in enumerate(scores):\n",
        "  print(\"교차 검증 {0} 정확도: {1:.4f}\".format(iter_count, accuracy))\n",
        "\n",
        "print(\"평균 정확도: {0:.4f}\".format(np.mean(scores)))"
      ],
      "metadata": {
        "colab": {
          "base_uri": "https://localhost:8080/"
        },
        "id": "AMVq6RUQ0sTI",
        "outputId": "6bbd3a29-8f5b-4104-d8fa-f60b32a8b33f"
      },
      "execution_count": null,
      "outputs": [
        {
          "output_type": "stream",
          "name": "stdout",
          "text": [
            "교차 검증 0 정확도: 0.7430\n",
            "교차 검증 1 정확도: 0.7753\n",
            "교차 검증 2 정확도: 0.7921\n",
            "교차 검증 3 정확도: 0.7865\n",
            "교차 검증 4 정확도: 0.8427\n",
            "평균 정확도: 0.7879\n"
          ]
        }
      ]
    },
    {
      "cell_type": "code",
      "source": [
        "from sklearn.model_selection import GridSearchCV\n",
        "\n",
        "parameters = {'max_depth':[2,3,5,10],\n",
        "             'min_samples_split':[2,3,5], 'min_samples_leaf':[1,5,8]}\n",
        "\n",
        "grid_dclf = GridSearchCV(dt_clf , param_grid=parameters , scoring='accuracy' , cv=5)\n",
        "grid_dclf.fit(X_train , y_train)\n",
        "\n",
        "print('GridSearchCV 최적 하이퍼 파라미터 :',grid_dclf.best_params_)\n",
        "print('GridSearchCV 최고 정확도: {0:.4f}'.format(grid_dclf.best_score_))\n",
        "best_dclf = grid_dclf.best_estimator_\n",
        "\n",
        "# GridSearchCV의 최적 하이퍼 파라미터로 학습된 Estimator로 예측 및 평가 수행.\n",
        "dpredictions = best_dclf.predict(X_test)\n",
        "accuracy = accuracy_score(y_test , dpredictions)\n",
        "print('테스트 세트에서의 DecisionTreeClassifier 정확도 : {0:.4f}'.format(accuracy))"
      ],
      "metadata": {
        "colab": {
          "base_uri": "https://localhost:8080/"
        },
        "id": "nXgu_TWBtzTY",
        "outputId": "587ae411-a7e0-43c9-a679-2f9a919c3775"
      },
      "execution_count": null,
      "outputs": [
        {
          "output_type": "stream",
          "name": "stdout",
          "text": [
            "GridSearchCV 최적 하이퍼 파라미터 : {'max_depth': 3, 'min_samples_leaf': 5, 'min_samples_split': 2}\n",
            "GridSearchCV 최고 정확도: 0.7992\n",
            "테스트 세트에서의 DecisionTreeClassifier 정확도 : 0.8715\n"
          ]
        }
      ]
    }
  ]
}