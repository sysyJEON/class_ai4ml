{
  "nbformat": 4,
  "nbformat_minor": 0,
  "metadata": {
    "colab": {
      "provenance": [],
      "authorship_tag": "ABX9TyNzTqT8a6zs79fvewr/4EFQ",
      "include_colab_link": true
    },
    "kernelspec": {
      "name": "python3",
      "display_name": "Python 3"
    },
    "language_info": {
      "name": "python"
    }
  },
  "cells": [
    {
      "cell_type": "markdown",
      "metadata": {
        "id": "view-in-github",
        "colab_type": "text"
      },
      "source": [
        "<a href=\"https://colab.research.google.com/github/sysyJEON/class_ai4ml/blob/main/ml_guide/ch03_Evaluation.ipynb\" target=\"_parent\"><img src=\"https://colab.research.google.com/assets/colab-badge.svg\" alt=\"Open In Colab\"/></a>"
      ]
    },
    {
      "cell_type": "markdown",
      "source": [
        "# 3장 평가"
      ],
      "metadata": {
        "id": "vuO1NueG7foo"
      }
    },
    {
      "cell_type": "markdown",
      "source": [
        "머신러닝\n",
        "- 데이터 가공/변환\n",
        "- 모델 학습/예측/평가(Evaluation)"
      ],
      "metadata": {
        "id": "I1HL7vjY7rFu"
      }
    },
    {
      "cell_type": "markdown",
      "source": [
        "성능 평가 지표(Evaluation Metric)\n",
        "- 회귀 모델: 실제값과 예측값의 오차 평균값 (5장)\n",
        "- 분류 모델: 0과 1로 결정값이 한정되는 이진 분류의 성능 평가 지표에 대해 자세히 알아본다."
      ],
      "metadata": {
        "id": "9x44qt7977CN"
      }
    },
    {
      "cell_type": "markdown",
      "source": [
        "분류의 성능 평가 지표\n",
        "- 정확도(Accuracy)\n",
        "- 오차행렬(Confusion Matrix)\n",
        "- 정밀도(Precision)\n",
        "- 재현율(Recall)\n",
        "- F1 스코어\n",
        "- ROC AUC"
      ],
      "metadata": {
        "id": "hqceEV0x8QIt"
      }
    },
    {
      "cell_type": "markdown",
      "source": [
        "## 3.1 정확도(Accuracy)"
      ],
      "metadata": {
        "id": "vqvCssYG8d8O"
      }
    },
    {
      "cell_type": "markdown",
      "source": [
        "- 실제 데이터에서 예측 데이터가 얼마나 같은지 판단하는 지표\n",
        "- (예측 결과가 동일한 데이터 건수) / (전체 예측 데이터 건수)"
      ],
      "metadata": {
        "id": "tmQaDoAV8k0B"
      }
    },
    {
      "cell_type": "markdown",
      "source": [
        "- 이진 분류의 경우 데이터의 구성에 따라 ML 모델의 성능을 왜곡할 수 있다.\n",
        "- 정확도 수치 하나만 가지고 성능을 평가하지 않는다.\n",
        "- 정확도 지표가 어떻게 ML 모델의 성능을 왜곡하는지"
      ],
      "metadata": {
        "id": "nMIOP38H8nzS"
      }
    },
    {
      "cell_type": "code",
      "source": [
        "import sklearn\n",
        "\n",
        "print(sklearn.__version__)"
      ],
      "metadata": {
        "colab": {
          "base_uri": "https://localhost:8080/"
        },
        "id": "Udkf7ba1-xDJ",
        "outputId": "32673e31-3509-4b02-d239-9ce505a0785b"
      },
      "execution_count": 6,
      "outputs": [
        {
          "output_type": "stream",
          "name": "stdout",
          "text": [
            "1.3.2\n"
          ]
        }
      ]
    },
    {
      "cell_type": "code",
      "source": [
        "import numpy as np"
      ],
      "metadata": {
        "id": "Z8egTxB0-t0P"
      },
      "execution_count": 5,
      "outputs": []
    },
    {
      "cell_type": "code",
      "execution_count": 1,
      "metadata": {
        "id": "mNRhq8-U7OGt"
      },
      "outputs": [],
      "source": [
        "from sklearn.base import BaseEstimator\n",
        "\n",
        "class MyDummyClassifier(BaseEstimator):\n",
        "    # fit( ) 메소드는 아무것도 학습하지 않음.\n",
        "    def fit(self, X , y=None):\n",
        "        pass\n",
        "\n",
        "    # predict( ) 메소드는 단순히 Sex feature가 1 이면 0 , 그렇지 않으면 1 로 예측함.\n",
        "    # 성별이 여자인 경우 생존, 남자인 경우 사망\n",
        "    def predict(self, X):\n",
        "        pred = np.zeros( ( X.shape[0], 1 ))\n",
        "        for i in range (X.shape[0]) :\n",
        "            if X['Sex'].iloc[i] == 1:\n",
        "                pred[i] = 0\n",
        "            else :\n",
        "                pred[i] = 1\n",
        "\n",
        "        return pred"
      ]
    },
    {
      "cell_type": "code",
      "source": [
        "from sklearn.preprocessing import LabelEncoder\n",
        "\n",
        "# Null 처리 함수\n",
        "def fillna(df):\n",
        "    df['Age'].fillna(df['Age'].mean(), inplace=True)\n",
        "    df['Cabin'].fillna('N', inplace=True)\n",
        "    df['Embarked'].fillna('N', inplace=True)\n",
        "    df['Fare'].fillna(0, inplace=True)\n",
        "    return df\n",
        "\n",
        "# 머신러닝 알고리즘에 불필요한 피처 제거\n",
        "def drop_features(df):\n",
        "    df.drop(['PassengerId', 'Name', 'Ticket'], axis=1, inplace=True)\n",
        "    return df\n",
        "\n",
        "# 레이블 인코딩 수행.\n",
        "def format_features(df):\n",
        "    df['Cabin'] = df['Cabin'].str[:1]\n",
        "    features = ['Cabin', 'Sex', 'Embarked']\n",
        "    for feature in features:\n",
        "        le = LabelEncoder()\n",
        "        le = le.fit(df[feature])\n",
        "        df[feature] = le.transform(df[feature])\n",
        "    return df\n",
        "\n",
        "# 앞에서 설정한 데이터 전처리 함수 호출\n",
        "def transform_features(df):\n",
        "    df = fillna(df)\n",
        "    df = drop_features(df)\n",
        "    df = format_features(df)\n",
        "    return df"
      ],
      "metadata": {
        "id": "9oryL9-Q-lUy"
      },
      "execution_count": 3,
      "outputs": []
    },
    {
      "cell_type": "code",
      "source": [
        "import pandas as pd\n",
        "from sklearn.model_selection import train_test_split\n",
        "from sklearn.metrics import accuracy_score\n",
        "\n",
        "# 원본 데이터를 재로딩, 데이터 가공, 학습 데이터/테스트 데이터 분할.\n",
        "titanic_df = pd.read_csv('./titanic_train.csv')\n",
        "y_titanic_df = titanic_df['Survived']\n",
        "X_titanic_df= titanic_df.drop('Survived', axis=1)\n",
        "X_titanic_df = transform_features(X_titanic_df)\n",
        "X_train, X_test, y_train, y_test=train_test_split(X_titanic_df, y_titanic_df,\n",
        "                                                  test_size=0.2, random_state=0)\n",
        "\n",
        "# 위에서 생성한 Dummy Classifier를 이용해 학습/예측/평가 수행.\n",
        "myclf = MyDummyClassifier()\n",
        "myclf.fit(X_train, y_train)\n",
        "\n",
        "mypredictions = myclf.predict(X_test)\n",
        "print('Dummy Classifier의 정확도는: {0:.4f}'.format(accuracy_score(y_test, mypredictions)))"
      ],
      "metadata": {
        "colab": {
          "base_uri": "https://localhost:8080/"
        },
        "id": "nbqJ_LzI-CF1",
        "outputId": "5a8c81bb-736f-478a-e47d-ee5ca63b3bef"
      },
      "execution_count": 7,
      "outputs": [
        {
          "output_type": "stream",
          "name": "stdout",
          "text": [
            "Dummy Classifier의 정확도는: 0.7877\n"
          ]
        }
      ]
    },
    {
      "cell_type": "markdown",
      "source": [
        "- 단순히 성별이 여자인 경우 생존, 남자인 경우 사망으로 예측해도 정확도 괜찮음\n",
        "- 불균형한 레이블 값 분포에서 ML 모델의 성능을 판단할 경우, 적합한 평가 지표가 아니다"
      ],
      "metadata": {
        "id": "55-JeHuY_O3S"
      }
    },
    {
      "cell_type": "markdown",
      "source": [
        "MNIST 데이터 세트 불균형한 데이터 세트로 만들고 정확도 지표 적용\n",
        "- 사이킷런 `load_digits()` API로 MNIST 데이터 세트 제공\n",
        "- 원래 레이블 값 0~9\n",
        "- 레이블 값이 7인 것만 True, 나머지 False로 이진 분류 문제 만들기\n",
        "- 전체 10%만 True, 90% False인 불균형 데이터 세트로 변형"
      ],
      "metadata": {
        "id": "P91kgkhW_Czk"
      }
    },
    {
      "cell_type": "code",
      "source": [
        "from sklearn.datasets import load_digits\n",
        "from sklearn.model_selection import train_test_split\n",
        "from sklearn.base import BaseEstimator\n",
        "from sklearn.metrics import accuracy_score\n",
        "import numpy as np\n",
        "import pandas as pd\n",
        "\n",
        "class MyFakeClassifier(BaseEstimator):\n",
        "    def fit(self,X,y):\n",
        "        pass\n",
        "\n",
        "    # 입력값으로 들어오는 X 데이터 셋의 크기만큼 모두 0값으로 만들어서 반환\n",
        "    def predict(self,X):\n",
        "        return np.zeros( (len(X), 1) , dtype=bool)\n",
        "\n",
        "# 사이킷런의 내장 데이터 셋인 load_digits( )를 이용하여 MNIST 데이터 로딩\n",
        "digits = load_digits()\n",
        "\n",
        "print(digits.data)\n",
        "print(\"### digits.data.shape:\", digits.data.shape)\n",
        "print(digits.target)\n",
        "print(\"### digits.target.shape:\", digits.target.shape)"
      ],
      "metadata": {
        "colab": {
          "base_uri": "https://localhost:8080/"
        },
        "id": "RgHEYYId-gP-",
        "outputId": "02fd8ae1-75c3-4027-b699-2f2ceb66011d"
      },
      "execution_count": 8,
      "outputs": [
        {
          "output_type": "stream",
          "name": "stdout",
          "text": [
            "[[ 0.  0.  5. ...  0.  0.  0.]\n",
            " [ 0.  0.  0. ... 10.  0.  0.]\n",
            " [ 0.  0.  0. ... 16.  9.  0.]\n",
            " ...\n",
            " [ 0.  0.  1. ...  6.  0.  0.]\n",
            " [ 0.  0.  2. ... 12.  0.  0.]\n",
            " [ 0.  0. 10. ... 12.  1.  0.]]\n",
            "### digits.data.shape: (1797, 64)\n",
            "[0 1 2 ... 8 9 8]\n",
            "### digits.target.shape: (1797,)\n"
          ]
        }
      ]
    },
    {
      "cell_type": "code",
      "source": [
        "# digits번호가 7번이면 True이고 이를 astype(int)로 1로 변환, 7번이 아니면 False이고 0으로 변환.\n",
        "y = (digits.target == 7).astype(int)\n",
        "X_train, X_test, y_train, y_test = train_test_split( digits.data, y, random_state=11)"
      ],
      "metadata": {
        "id": "5QrQXuJoAmQu"
      },
      "execution_count": 10,
      "outputs": []
    },
    {
      "cell_type": "code",
      "source": [
        "# 불균형한 레이블 y_test 데이터 분포도 확인.\n",
        "print('레이블 테스트 세트 크기 :', y_test.shape)\n",
        "print('테스트 세트 레이블 0 과 1의 분포도')\n",
        "print(pd.Series(y_test).value_counts())\n",
        "\n",
        "# Dummy Classifier로 학습/예측/정확도 평가\n",
        "fakeclf = MyFakeClassifier()\n",
        "fakeclf.fit(X_train , y_train)\n",
        "fakepred = fakeclf.predict(X_test)\n",
        "print('모든 예측을 0으로 하여도 정확도는:{:.3f}'.format(accuracy_score(y_test , fakepred)))"
      ],
      "metadata": {
        "colab": {
          "base_uri": "https://localhost:8080/"
        },
        "id": "4VQged54AuxB",
        "outputId": "0846acbb-a0e1-429a-8e0e-c78bcec2fbe6"
      },
      "execution_count": 11,
      "outputs": [
        {
          "output_type": "stream",
          "name": "stdout",
          "text": [
            "레이블 테스트 세트 크기 : (450,)\n",
            "테스트 세트 레이블 0 과 1의 분포도\n",
            "0    405\n",
            "1     45\n",
            "Name: count, dtype: int64\n",
            "모든 예측을 0으로 하여도 정확도는:0.900\n"
          ]
        }
      ]
    },
    {
      "cell_type": "markdown",
      "source": [
        "- 단순히 `predict()` 결과를 `np.zeros()`로 모두 0값으로 반환함에도 예측 정확도는 90%\n",
        "- 정확도 평가 지표는 불균형한 레이블 데이터 세트에서는 성능 수치로 사용돼서는 안 됨"
      ],
      "metadata": {
        "id": "1kKQ1ujtA8x8"
      }
    },
    {
      "cell_type": "markdown",
      "source": [
        "## 3.2 오차 행렬"
      ],
      "metadata": {
        "id": "KYF6PlEWBSeE"
      }
    },
    {
      "cell_type": "markdown",
      "source": [
        "오차행렬(confusion matrix, 혼동행렬)\n",
        "- 이진 분류에서 성능 지표로 잘 활용됨\n",
        "- 학습도니 분류 모델이 예측을 수행하면서 얼마나 헷갈리고(confused) 있는지 함께 보여주는 지표\n",
        "- 이진 분류의 예측 오류가 얼마인지\n",
        "- 어떠한 유형의 예측 오류가 발생하고 있는지"
      ],
      "metadata": {
        "id": "bvjvjioVBXqk"
      }
    },
    {
      "cell_type": "markdown",
      "source": [
        "![image.png](data:image/png;base64,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)"
      ],
      "metadata": {
        "id": "y9LlOTvyBmJe"
      }
    },
    {
      "cell_type": "markdown",
      "source": [
        "정확도 = (TN + TP) / (TN + FP + FN + TP)"
      ],
      "metadata": {
        "id": "UywXnMw2Cn2l"
      }
    },
    {
      "cell_type": "code",
      "source": [
        "from sklearn.metrics import confusion_matrix\n",
        "\n",
        "# 앞절의 예측 결과인 fakepred와 실제 결과인 y_test의 Confusion Matrix출력\n",
        "confusion_matrix(y_test , fakepred)"
      ],
      "metadata": {
        "colab": {
          "base_uri": "https://localhost:8080/"
        },
        "id": "oIm3SoxxC9TD",
        "outputId": "1160ac4c-e612-416e-b3bb-5e15b3701b04"
      },
      "execution_count": 12,
      "outputs": [
        {
          "output_type": "execute_result",
          "data": {
            "text/plain": [
              "array([[405,   0],\n",
              "       [ 45,   0]])"
            ]
          },
          "metadata": {},
          "execution_count": 12
        }
      ]
    },
    {
      "cell_type": "markdown",
      "source": [
        "## 3.3 정밀도와 재현율"
      ],
      "metadata": {
        "id": "B3EMF9AqCzCx"
      }
    },
    {
      "cell_type": "markdown",
      "source": [
        "Positive 데이터 세트의 예측 성능에 초점 맞춘 평가 지표"
      ],
      "metadata": {
        "id": "0A18wod4C2mi"
      }
    },
    {
      "cell_type": "markdown",
      "source": [
        "- 정밀도 = TP / (FP + TP)\n",
        "  - 예측 P로 한 대상 중에 예측과 실제 값이 P로 일치하는 비율\n",
        "  - 실제 N인 데이터를 P로 잘못 판단하면 업무상 큰 영향 발생하는 경우\n",
        "  - 예) 스팸메일 여부 판단\n",
        "  - FP(실제 N, 예측 P) 낮추는데 초점\n",
        "  - `precision_score()`\n",
        "- 재현율 = TP / (FN + TP)\n",
        "  - 실제 값이 P인 대상 중에 예측과 실제 값이 P로 일치하는 비율\n",
        "  - 실제 P 양성 데이터를 N로 잘못 판단하면 업무상 큰 영향 발생하는 경우\n",
        "  - 예) 암 판단 모델, 보험 사기\n",
        "  - FN(실제 P, 예측 N) 낮추는 데 초점\n",
        "  - `recall_score`"
      ],
      "metadata": {
        "id": "I8U19AKMDYc3"
      }
    },
    {
      "cell_type": "markdown",
      "source": [
        "오차행렬, 정확도, 정밀도, 재현율을 한꺼번에 계산하는 함수 생성"
      ],
      "metadata": {
        "id": "8wnZf-cAFukg"
      }
    },
    {
      "cell_type": "code",
      "source": [
        "from sklearn.metrics import accuracy_score, precision_score , recall_score , confusion_matrix\n",
        "\n",
        "def get_clf_eval(y_test , pred):\n",
        "    confusion = confusion_matrix( y_test, pred)\n",
        "    accuracy = accuracy_score(y_test , pred)\n",
        "    precision = precision_score(y_test , pred)\n",
        "    recall = recall_score(y_test , pred)\n",
        "    print('오차 행렬')\n",
        "    print(confusion)\n",
        "    print('정확도: {0:.4f}, 정밀도: {1:.4f}, 재현율: {2:.4f}'.format(accuracy , precision ,recall))"
      ],
      "metadata": {
        "id": "fyBjd03UBM1L"
      },
      "execution_count": 13,
      "outputs": []
    },
    {
      "cell_type": "code",
      "source": [
        "import numpy as np\n",
        "import pandas as pd\n",
        "\n",
        "from sklearn.model_selection import train_test_split\n",
        "from sklearn.linear_model import LogisticRegression\n",
        "\n",
        "# 원본 데이터를 재로딩, 데이터 가공, 학습데이터/테스트 데이터 분할.\n",
        "titanic_df = pd.read_csv('titanic_train.csv')\n",
        "y_titanic_df = titanic_df['Survived']\n",
        "X_titanic_df= titanic_df.drop('Survived', axis=1)\n",
        "X_titanic_df = transform_features(X_titanic_df)\n",
        "\n",
        "X_train, X_test, y_train, y_test = train_test_split(X_titanic_df, y_titanic_df, \\\n",
        "                                                    test_size=0.20, random_state=11)\n",
        "\n",
        "lr_clf = LogisticRegression(solver='liblinear')\n",
        "\n",
        "lr_clf.fit(X_train , y_train)\n",
        "pred = lr_clf.predict(X_test)\n",
        "get_clf_eval(y_test , pred)"
      ],
      "metadata": {
        "colab": {
          "base_uri": "https://localhost:8080/"
        },
        "id": "qED0NOguFxA-",
        "outputId": "dfb32213-1a2f-4d28-da96-de76d0064f38"
      },
      "execution_count": 15,
      "outputs": [
        {
          "output_type": "stream",
          "name": "stdout",
          "text": [
            "오차 행렬\n",
            "[[108  10]\n",
            " [ 14  47]]\n",
            "정확도: 0.8659, 정밀도: 0.8246, 재현율: 0.7705\n"
          ]
        }
      ]
    },
    {
      "cell_type": "markdown",
      "source": [
        "### 정밀도/재현율 트레이드오프(Trade-off)"
      ],
      "metadata": {
        "id": "ko6BQ2GbGYEx"
      }
    },
    {
      "cell_type": "markdown",
      "source": [
        "- 분류의 임곗값(Threshold) 조정해 정밀도 또는 재현율 수치 높일 수 있다.\n",
        "- 정밀도와 재현율은 상호 보완적 평가 지표\n",
        "- 한 쪽 강제로 높이면 다른 한 수치는 떨어진다."
      ],
      "metadata": {
        "id": "ft-9veb7HvYf"
      }
    },
    {
      "cell_type": "markdown",
      "source": [
        "`predict_probba()`\n",
        "- 개별 데이터별로 예측 확률 반환하는 메서드\n",
        "- 학습이 완료된 사이킷런 Classifier 객체에서 호출 가능\n",
        "- 테스트 피처 데이터 세트를 파라미터로 입력하면 테스트 피처 레코드의 개별 클래스 예측 확률 반환\n",
        "- `predict()` 메서드와 유사하지만 반환 결과가 예측 결과 클래스값이 아닌 예측 확률 결과"
      ],
      "metadata": {
        "id": "Cbi9tPieIL6V"
      }
    },
    {
      "cell_type": "code",
      "source": [
        "pred_proba = lr_clf.predict_proba(X_test)\n",
        "pred  = lr_clf.predict(X_test)\n",
        "print('pred_proba()결과 Shape : {0}'.format(pred_proba.shape))\n",
        "print('pred_proba array에서 앞 3개만 샘플로 추출 \\n:', pred_proba[:3])\n",
        "\n",
        "# 예측 확률 array 와 예측 결과값 array 를 concatenate 하여 예측 확률과 결과값을 한눈에 확인\n",
        "pred_proba_result = np.concatenate([pred_proba , pred.reshape(-1,1)],axis=1)\n",
        "print('두개의 class 중에서 더 큰 확률을 클래스 값으로 예측 \\n',pred_proba_result[:3])"
      ],
      "metadata": {
        "colab": {
          "base_uri": "https://localhost:8080/"
        },
        "id": "Jk1f6pCHF0GT",
        "outputId": "e06d0459-5c13-4b1f-e30c-2d3e9f9342e0"
      },
      "execution_count": 17,
      "outputs": [
        {
          "output_type": "stream",
          "name": "stdout",
          "text": [
            "pred_proba()결과 Shape : (179, 2)\n",
            "pred_proba array에서 앞 3개만 샘플로 추출 \n",
            ": [[0.44935227 0.55064773]\n",
            " [0.86335512 0.13664488]\n",
            " [0.86429645 0.13570355]]\n",
            "두개의 class 중에서 더 큰 확률을 클래스 값으로 예측 \n",
            " [[0.44935227 0.55064773 1.        ]\n",
            " [0.86335512 0.13664488 0.        ]\n",
            " [0.86429645 0.13570355 0.        ]]\n"
          ]
        }
      ]
    },
    {
      "cell_type": "markdown",
      "source": [
        "반환 결과 ndarray\n",
        "- 0과 1에 대한 확률\n",
        "- 첫 번째 칼럼 값 + 두 번째 칼럼 값 = 1\n",
        "- 맨 마지막 줄에 두 개의 칼럼에서 더 큰 확률 값으로 `predict()` 메서드가 최종 예측"
      ],
      "metadata": {
        "id": "DEuOiJv1JGHi"
      }
    },
    {
      "cell_type": "markdown",
      "source": [
        "### Binarizer 활용"
      ],
      "metadata": {
        "id": "nWwj1KEGKEGW"
      }
    },
    {
      "cell_type": "markdown",
      "source": [
        "사이킷런의 `Binarizer` 클래스 사용법\n",
        "- `threshold` 변수를 특정 값으로 설정하고 `Binarizer` 클래스 객체 생성\n",
        "`fit_transform()` 메서드로 넘파이 ndarray 입력\n",
        "- 0 if 입력된 ndarray <= threshold\n",
        "- else 1"
      ],
      "metadata": {
        "id": "IvSHA7MUJcqZ"
      }
    },
    {
      "cell_type": "code",
      "source": [
        "from sklearn.preprocessing import Binarizer\n",
        "\n",
        "X = [[ 1, -1,  2],\n",
        "     [ 2,  0,  0],\n",
        "     [ 0,  1.1, 1.2]]\n",
        "\n",
        "# threshold 기준값보다 같거나 작으면 0을, 크면 1을 반환\n",
        "binarizer = Binarizer(threshold=1.1)\n",
        "print(binarizer.fit_transform(X))"
      ],
      "metadata": {
        "colab": {
          "base_uri": "https://localhost:8080/"
        },
        "id": "sRceVwOjJppB",
        "outputId": "3163b276-2f89-43a6-f0a0-bed0ae0326bf"
      },
      "execution_count": 18,
      "outputs": [
        {
          "output_type": "stream",
          "name": "stdout",
          "text": [
            "[[0. 0. 1.]\n",
            " [1. 0. 0.]\n",
            " [0. 0. 1.]]\n"
          ]
        }
      ]
    },
    {
      "cell_type": "markdown",
      "source": [
        "- pred_proba 객체 변수에 임곗값(threshold)을 0.5로 지정한 Binarizer 클래스로 최종 예측값 구하기\n",
        "- 최종 예측값에 대해 get_clf_eval() 함수 적용해 평가 지표 출력"
      ],
      "metadata": {
        "id": "OnoxOm2TJmzM"
      }
    },
    {
      "cell_type": "code",
      "source": [
        "from sklearn.preprocessing import Binarizer\n",
        "\n",
        "#Binarizer의 threshold 설정값. 분류 결정 임곗값임.\n",
        "custom_threshold = 0.5\n",
        "\n",
        "# predict_proba( ) 반환값의 두번째 컬럼 , 즉 Positive 클래스 컬럼 하나만 추출하여 Binarizer를 적용\n",
        "pred_proba_1 = pred_proba[:,1].reshape(-1,1)\n",
        "\n",
        "binarizer = Binarizer(threshold=custom_threshold).fit(pred_proba_1)\n",
        "custom_predict = binarizer.transform(pred_proba_1)\n",
        "\n",
        "get_clf_eval(y_test, custom_predict)"
      ],
      "metadata": {
        "colab": {
          "base_uri": "https://localhost:8080/"
        },
        "id": "fp8iiTXtKxIA",
        "outputId": "f949f09c-ca2d-43a4-d30e-aeba598b0076"
      },
      "execution_count": 19,
      "outputs": [
        {
          "output_type": "stream",
          "name": "stdout",
          "text": [
            "오차 행렬\n",
            "[[108  10]\n",
            " [ 14  47]]\n",
            "정확도: 0.8659, 정밀도: 0.8246, 재현율: 0.7705\n"
          ]
        }
      ]
    },
    {
      "cell_type": "markdown",
      "source": [
        "- predict()가 predict_proba()에 기반함을 알 수 있다"
      ],
      "metadata": {
        "id": "zFOJe0UgK9TS"
      }
    },
    {
      "cell_type": "markdown",
      "source": [
        "임곗값 낮추면?"
      ],
      "metadata": {
        "id": "eJou943zLXDH"
      }
    },
    {
      "cell_type": "code",
      "source": [
        "# Binarizer의 threshold 설정값을 0.4로 설정. 즉 분류 결정 임곗값을 0.5에서 0.4로 낮춤\n",
        "custom_threshold = 0.4\n",
        "pred_proba_1 = pred_proba[:,1].reshape(-1,1)\n",
        "binarizer = Binarizer(threshold=custom_threshold).fit(pred_proba_1)\n",
        "custom_predict = binarizer.transform(pred_proba_1)\n",
        "\n",
        "get_clf_eval(y_test , custom_predict)"
      ],
      "metadata": {
        "colab": {
          "base_uri": "https://localhost:8080/"
        },
        "id": "iEB4cJ5LLZTB",
        "outputId": "9e2c3197-7a6c-418f-d399-5fc1ae76404f"
      },
      "execution_count": 21,
      "outputs": [
        {
          "output_type": "stream",
          "name": "stdout",
          "text": [
            "오차 행렬\n",
            "[[97 21]\n",
            " [11 50]]\n",
            "정확도: 0.8212, 정밀도: 0.7042, 재현율: 0.8197\n"
          ]
        }
      ]
    },
    {
      "cell_type": "markdown",
      "source": [
        "- 재현율 올라가고 정밀도 떨어짐\n",
        "- 임곗값: Positive 예측값을 결정하는 확률의 기준\n",
        "- 확률 0.4부터 Positive 예측: 더 너그럽다\n",
        "- 임곗값 낮출수록 True 값 많아짐\n",
        "- Positive 예측값 많아지면 재현율 올라간다\n",
        "- 양성 예측 많으니 실제 양성을 음성으로 예측하는 횟수가 상대적으로 줄어들기 때문"
      ],
      "metadata": {
        "id": "VCxaqkTrLe9_"
      }
    },
    {
      "cell_type": "markdown",
      "source": [
        "여러개의 분류 결정 임곗값을 변경하면서 Binarizer를 이용하여 예측값 변환"
      ],
      "metadata": {
        "id": "3r3ICJjaMinR"
      }
    },
    {
      "cell_type": "code",
      "source": [
        "# 테스트를 수행할 모든 임곗값을 리스트 객체로 저장.\n",
        "thresholds = [0.4, 0.45, 0.50, 0.55, 0.60]\n",
        "\n",
        "def get_eval_by_threshold(y_test , pred_proba_c1, thresholds):\n",
        "    # thresholds list객체내의 값을 차례로 iteration하면서 Evaluation 수행.\n",
        "    for custom_threshold in thresholds:\n",
        "        binarizer = Binarizer(threshold=custom_threshold).fit(pred_proba_c1)\n",
        "        custom_predict = binarizer.transform(pred_proba_c1)\n",
        "        print('임곗값:',custom_threshold)\n",
        "        get_clf_eval(y_test , custom_predict)\n",
        "\n",
        "get_eval_by_threshold(y_test ,pred_proba[:,1].reshape(-1,1), thresholds )"
      ],
      "metadata": {
        "colab": {
          "base_uri": "https://localhost:8080/"
        },
        "id": "ZZDyoqM2MmdO",
        "outputId": "5a56544f-4c7f-4d35-e990-577aa2583cba"
      },
      "execution_count": 22,
      "outputs": [
        {
          "output_type": "stream",
          "name": "stdout",
          "text": [
            "임곗값: 0.4\n",
            "오차 행렬\n",
            "[[97 21]\n",
            " [11 50]]\n",
            "정확도: 0.8212, 정밀도: 0.7042, 재현율: 0.8197\n",
            "임곗값: 0.45\n",
            "오차 행렬\n",
            "[[105  13]\n",
            " [ 13  48]]\n",
            "정확도: 0.8547, 정밀도: 0.7869, 재현율: 0.7869\n",
            "임곗값: 0.5\n",
            "오차 행렬\n",
            "[[108  10]\n",
            " [ 14  47]]\n",
            "정확도: 0.8659, 정밀도: 0.8246, 재현율: 0.7705\n",
            "임곗값: 0.55\n",
            "오차 행렬\n",
            "[[111   7]\n",
            " [ 16  45]]\n",
            "정확도: 0.8715, 정밀도: 0.8654, 재현율: 0.7377\n",
            "임곗값: 0.6\n",
            "오차 행렬\n",
            "[[113   5]\n",
            " [ 17  44]]\n",
            "정확도: 0.8771, 정밀도: 0.8980, 재현율: 0.7213\n"
          ]
        }
      ]
    },
    {
      "cell_type": "markdown",
      "source": [
        "precision_recall_curve( ) 를 이용하여 임곗값에 따른 정밀도-재현율 값 추출"
      ],
      "metadata": {
        "id": "5Omp653gMreD"
      }
    },
    {
      "cell_type": "markdown",
      "source": [
        "`precision_recall_curve()`\n",
        "- 인자로 실제 값 데이터 세트와 레이블 값이 1일 때의 예측 값을 입력\n",
        "- 레이블 값이 1일 때의 예측 확률 값: `predcit_proba(X_test)[:, 1]`\n",
        "  - `predict_proba()`의 반환 ndarray의 두 번째 칼럼 값에 해당하는 데이터 세트"
      ],
      "metadata": {
        "id": "r_uj3jUmNM9d"
      }
    },
    {
      "cell_type": "code",
      "source": [
        "from sklearn.metrics import precision_recall_curve\n",
        "\n",
        "# 레이블 값이 1일때의 예측 확률을 추출\n",
        "pred_proba_class1 = lr_clf.predict_proba(X_test)[:, 1]\n",
        "\n",
        "# 실제값 데이터 셋과 레이블 값이 1일 때의 예측 확률을 precision_recall_curve 인자로 입력\n",
        "precisions, recalls, thresholds = precision_recall_curve(y_test, pred_proba_class1 )\n",
        "print('반환된 분류 결정 임곗값 배열의 Shape:', thresholds.shape)\n",
        "print('반환된 precisions 배열의 Shape:', precisions.shape)\n",
        "print('반환된 recalls 배열의 Shape:', recalls.shape)\n",
        "\n",
        "print(\"thresholds 5 sample:\", thresholds[:5])\n",
        "print(\"precisions 5 sample:\", precisions[:5])\n",
        "print(\"recalls 5 sample:\", recalls[:5])\n",
        "\n",
        "#반환된 임계값 배열 로우가 147건이므로 샘플로 10건만 추출하되, 임곗값을 15 Step으로 추출.\n",
        "thr_index = np.arange(0, thresholds.shape[0], 15)\n",
        "print('샘플 추출을 위한 임계값 배열의 index 10개:', thr_index)\n",
        "print('샘플용 10개의 임곗값: ', np.round(thresholds[thr_index], 2))\n",
        "\n",
        "# 15 step 단위로 추출된 임계값에 따른 정밀도와 재현율 값\n",
        "print('샘플 임계값별 정밀도: ', np.round(precisions[thr_index], 3))\n",
        "print('샘플 임계값별 재현율: ', np.round(recalls[thr_index], 3))"
      ],
      "metadata": {
        "colab": {
          "base_uri": "https://localhost:8080/"
        },
        "id": "jB_Suiv-M-S9",
        "outputId": "ca24bfae-6033-43c2-e1fe-d44406795a1a"
      },
      "execution_count": 23,
      "outputs": [
        {
          "output_type": "stream",
          "name": "stdout",
          "text": [
            "반환된 분류 결정 임곗값 배열의 Shape: (165,)\n",
            "반환된 precisions 배열의 Shape: (166,)\n",
            "반환된 recalls 배열의 Shape: (166,)\n",
            "thresholds 5 sample: [0.01974988 0.06956414 0.08402808 0.08474207 0.08920161]\n",
            "precisions 5 sample: [0.34078212 0.34269663 0.34463277 0.34659091 0.34857143]\n",
            "recalls 5 sample: [1. 1. 1. 1. 1.]\n",
            "샘플 추출을 위한 임계값 배열의 index 10개: [  0  15  30  45  60  75  90 105 120 135 150]\n",
            "샘플용 10개의 임곗값:  [0.02 0.11 0.13 0.14 0.16 0.24 0.32 0.45 0.62 0.73 0.87]\n",
            "샘플 임계값별 정밀도:  [0.341 0.372 0.401 0.44  0.505 0.598 0.688 0.774 0.915 0.968 0.938]\n",
            "샘플 임계값별 재현율:  [1.    1.    0.967 0.902 0.902 0.902 0.869 0.787 0.705 0.492 0.246]\n"
          ]
        }
      ]
    },
    {
      "cell_type": "markdown",
      "source": [
        "- 임곗값이 증가할수록 정밀도 값은 동시에 높아지나 재현율 값은 낮아짐"
      ],
      "metadata": {
        "id": "vAxWNdbnOF_I"
      }
    },
    {
      "cell_type": "markdown",
      "source": [
        "임곗값의 변경에 따른 정밀도-재현율 변화 곡선을 그림"
      ],
      "metadata": {
        "id": "Sbz1HjJ-NCK6"
      }
    },
    {
      "cell_type": "code",
      "source": [
        "import matplotlib.pyplot as plt\n",
        "import matplotlib.ticker as ticker\n",
        "%matplotlib inline\n",
        "\n",
        "def precision_recall_curve_plot(y_test , pred_proba_c1):\n",
        "    # threshold ndarray와 이 threshold에 따른 정밀도, 재현율 ndarray 추출.\n",
        "    precisions, recalls, thresholds = precision_recall_curve( y_test, pred_proba_c1)\n",
        "\n",
        "    # X축을 threshold값으로, Y축은 정밀도, 재현율 값으로 각각 Plot 수행. 정밀도는 점선으로 표시\n",
        "    plt.figure(figsize=(8,6))\n",
        "    threshold_boundary = thresholds.shape[0]\n",
        "    plt.plot(thresholds, precisions[0:threshold_boundary], linestyle='--', label='precision')\n",
        "    plt.plot(thresholds, recalls[0:threshold_boundary],label='recall')\n",
        "\n",
        "    # threshold 값 X 축의 Scale을 0.1 단위로 변경\n",
        "    start, end = plt.xlim()\n",
        "    plt.xticks(np.round(np.arange(start, end, 0.1),2))\n",
        "\n",
        "    # x축, y축 label과 legend, 그리고 grid 설정\n",
        "    plt.xlabel('Threshold value'); plt.ylabel('Precision and Recall value')\n",
        "    plt.legend(); plt.grid()\n",
        "    plt.show()\n",
        "\n",
        "precision_recall_curve_plot( y_test, lr_clf.predict_proba(X_test)[:, 1] )"
      ],
      "metadata": {
        "colab": {
          "base_uri": "https://localhost:8080/",
          "height": 542
        },
        "id": "3dsKc9PfNEZy",
        "outputId": "9aabfde1-30ca-4cf4-84ab-e72113343799"
      },
      "execution_count": 24,
      "outputs": [
        {
          "output_type": "display_data",
          "data": {
            "text/plain": [
              "<Figure size 800x600 with 1 Axes>"
            ],
            "image/png": "[encoded data removed]"
          },
          "metadata": {}
        }
      ]
    },
    {
      "cell_type": "markdown",
      "source": [
        "- 임곗값이 낮을수록 많은 수의 양성 예측으로 인해 재현율 값이 극도로 높아지고 정밀도 값이 극도로 낮아진다\n",
        "- 임곗값 계속 증가시킬수록 재현율 값 낮아지고 정밀도 값 높아진다\n",
        "- 예제 모델 경우 임곗값이 약 0.45 지점에서 재현율과 정밀도가 비슷해지는 모습 보임"
      ],
      "metadata": {
        "id": "TxQGyreDONyu"
      }
    },
    {
      "cell_type": "markdown",
      "source": [
        "## 3.4 F1 스코어"
      ],
      "metadata": {
        "id": "cyGTDABxGiIK"
      }
    },
    {
      "cell_type": "markdown",
      "source": [
        "- 정밀도와 재현율을 결합한 지표\n",
        "- 정밀도와 재현율이 어느 한쪽으로 치우치지 않는 수치를 나타낼 때 상대적으로 높은 값 가진다."
      ],
      "metadata": {
        "id": "U3vXcPyjGxBO"
      }
    },
    {
      "cell_type": "markdown",
      "source": [
        "![image.png](data:image/png;base64,iVBORw0KGgoAAAANSUhEUgAAAjIAAACMCAIAAADp8dQiAAAYn0lEQVR4Ae2dLWzjytfGB4UsMluyZVdaEtKwkAastKSVCpZcUHBDq5AWVQWllW7hlRZdErCFpSFFRWUFlsq60oKCcOuCgnn7/h/p6Ox8OI6TOBP7KXIm83Hmd6bnmbHHE2P5RwIkQAIkQALJEDDJWEJDSIAESIAESMBSljgISIAESIAEEiJAWUrIGTSFBEiABEiAssQxQAIkQAIkkBABylJCzqApJEACJEAClCWOARIgARIggYQIUJYScgZNIQESIAESoCxxDJAACZAACSREgLKUkDNoCgmQAAmQAGWJY4AESIAESCAhApSlhJxBU0iABEiABChLHAMkQAIkQAIJEaAsJeQMmkICJEACJEBZ4hggARIgARJIiABlKSFn0BQSIAESIAHKEscACZAACZBAQgQoSwk5g6aQAAmQAAlQljgGSIAESIAEEiJAWUrIGTSFBEiABEiAssQxQAIkQAIkkBABylJCzqApJEACJEAClCWOARIgARIggYQIUJYScgZNIQESIAESoCxxDJAACZAACSREgLKUkDNoCgmQAAmQAGWJY4AESIAESCAhApSlhJxBU0iABEiABChLHAMkQAIkQAIJEaAsJeQMmkICJEACJEBZ4hggARIgARJIiABlKSFn0BQSIAESIAHKEscACZAACZBAQgQoSwk5g6aQAAmQAAlQljgGSIAESIAEEiJAWUrIGTSFBEiABEiAssQxQAIkQAIkkBABylJCzqApJEACJEAClCWOARIgARIggYQIUJYScgZNIQESIAESoCxxDJAACZAACSREgLKUkDNoCgmQAAmQAGWJY4AESIAESCAhApSlhJxBU0iABEiABChLHAMkQAIkQAIJEaAsJeQMmkICJEACJEBZ4hggARIgARJIiABlKSFn0BQSIAESIAHKEscACZAACZBAQgQoSwk5g6aQAAmQAAlQljgGSIAE/p/A3d1dv9//999/iYMEHALz+fzDhw/mf39nZ2fybTD96upqNBrd399LtmUvKEvLEtvh/EVR/PPPPwcHBxhexpgVR88Os0jG9BScUhTF/v5+lmWrhJJkiNKQjRDAIDHGPDw86AaC6ZjiHB0dvb296cwVrylLFUHtfLbHx8der5dl2Ww2Q2em02mv1/PH2c53dXc6kIJTMOGtHUGahH18fGyMqbGeq12wyd6l39bx8XGWZS8vL46pwXTI1d7e3n///efkX/iRsrQQUUsyIAI6/9JXV1fGmJ0ISS1xw+/d2LpTVokdv3dl459gajAslrddu2B5tV37FtMXX2Zi6dba2jMeylLXRtdv/b29vTXG+EPtt0z80CyBJp2CtpzJSrPdZWu7QQBTKH8KG0tHrzDxde77LewwZWkhojZnQFTyh1qb+5x831ZxCuanFWVmh5ZKyTutkoFLeadSjQ1mis1gYukwrd6CibLUoGPTawr33PXWmvRs7JxFqzgFSlNRljDPDXp/Op1+/vxZ3+CVJ5Gj0ejXr1/wiiTKzObx8bHf7/tL8KIorq+vUSf22kgl4uCfP3+Ox2M87zTGZFmGjiC0YZ+O37U8z/UunizLvn79isrLC1pr8zw/OTmRFieTibaqHEKNRybVvdMMWCGvGWZZ9v3798vLy2/fvukNCxiW/ronli6VB588ybfBC8pSEEsnEhGVeAcvKWfXc8rj4+PXr19fXl4Q+B4eHoqiGI/HFxcXOrI4PcUNFj/Q39zcoCAyzGaz8XiMnTLT6VS0ysn28PBwe3srIV6rHToleoZKdAZrLcoeHR1BGJybPxAY/8ESapZSeZ5jS6E8lo8VtNYi9EtZh7zfO4EA2xz7Hbb647Le8ZveHFhwgE9BHhycrSUYVz7/WLrufmyY6TzONWXJAdKVj1XGU1dYJNPPVZyCif/FxcXh4eFff/3V6/Wcub/fy4rz3OFwKHNkRHlnKoPp8I8fP4bD4cvLC/KI2olyiEBWTPn48aOjLk677z1y1AvyJks3eeruFwzeKQ0CQe80BJStLkuyLFvKO9baBsD6vsAgdDbowqcaLIZTLF0Pthq4KEsaYIeug/+BHep/kl1d3SkI01XeQFoogRKeRGAkyutZs2QbDAaiIkI32IozfZYaRPykuFz40RNfoaoShQgWjLXoGGatlZy6iRpxVltbxTu66c2Bld5p8kjULobYG2M0BPSoCoqgC8SzwQvKUhBLyxPx7ycvMLW8tzvSvRWd8vT01O/3J5PJ4eHh33//fXBwMJvNZIHiMwhGH50tuDBCoo5ZSHEm11IPQhLCWVEUT09PJycnxpjJZCK2VQlbCH9aINGEtC734qRpXAQLxlrEtEC3EoRQY/awrHdkBrBRsIDjrIHQZSfRF2zgjaVrL8Ro6zzONWXJAdL+j8F/1PZ3O+0erugUPL3AGQ3Hx8d4tnR9fV3ybGmhLGlFEXhI1PfEyoMOwpacKjIcDs/Pz/W2gveaq4S2EiXI8xybLLIsm06nYiouggXRojP3Dy4dfAgLuTkGWGtreAeler2eIw9S+VrABsljKGo4sS7H0sVIXJSPECczPlKWglham+j/m7W2q7vTsTU6BZFCz/djGBbGlGDM8gO6n6JbDKqCzoAnKLE1AXLCVK2FTg2yfyH4oN4vCKscSvCCk9mHUCPIirXVvfNepAGwQe/4icElo6znHGLSWbmoQYyyJPTafxFcns/n80+fPvlPBdqPI40ertcpqM0JuLGO+gFI5/S/DSqZn00qCeaXb3FRJU/FuOZn81PQaNDmoAz4Of3FhNOjko/r8k4VaAvzIIMzIQAxfZO2ZN0Ww+sQqEGMsuQwbPPHq6srf2oznU6dUdhmBOn1bYtO8ZcCgicY1PzAjThbMn78sG6tvbm50Xfb/DxFUZyensq9vmBc86dTfpQMFnzvo99xdMT57wgm+tYKtDVeNAPW6ct8Pj88POz3+w6HGMZYusPBp+1k8D9Slnwm7UzBP63c5dcXzihsZ/+T7NV2nYLW9VMEgSSGYeFVFMXl5aW8seRkiz3/8Cfa2MUuLzChHkQ3qQTPivSCT8IfzMBXYjy2Trzvp3CCrN4/pguKVXt7e1A+tOiLK5oQw2CttJLn+ZcvX/QeNsGy+kWwaV2tk2FFsG9vb3men56ePj8/7+/vIyDc3d3hjdog/xK82k7Z5r7U/RjKksOwtR8xZ9FqJNeUpW15fbtOwZIo6H1Eoslkgt0ExpjBYOBv3ZSAVQIQv3GAwYZKZA+elJJDDYwxckaDfCu3m3D+PYojEMuxESjo/DBHsCCqlY0SOE7i4uLi9fVVWsRFsHfQg03/KEywace81cFaa8fjMVwjeyMx/zDGyH6ZGMZYurYTyz5H2nWG4DVlKYiFiSTQCQIIf3ppgm5DLze0FOgEWXbyfwTqDSTKEocPCXSXACa8zoIpmNhdRux5XQL1lkrW2gWyhMmU3O1xLvy7sXg5+fr6+o8//qhxlGHd7rMcCZBATQJ+7PBTalbNYh0msMrkZoEsyUF+znwqz/MPHz44idZaud3pf9VhB7HrJJA0AUQQORQHk9Flnwck3UMa1yyBu7u7Xq83Go3qLU4Wy1JsjB4fH+uBiyeQg8Hgzz//9I+1b5YJWyMBEliaAOaU78+TZCPGZDKpF1aWbpsFWkTg9vZ2NBo520+W6t9iWcIY9R+KHh8f662lcuo77gBwtbSUG5iZBEiABEgABBbLkuzTr4iMslQRFLORAAmQAAn4BBbIkv/Y6vHxUf8Oil8jZclnwhQSIAESIIGKBBbIkvMucVEUh4eH+pGS38yyslS+2U/v/Qtu/PMNYAoJbJQAR+xG8bJyElggS8H/QP1IySe4rCz5NTCFBEiABEigswQWyJLzYAmSU/7uN2Wps4OJHScBEiCB1QmUyZK8zSCn7Pmn9voWJCJL+u4fr0mgBgF/bK83pYZJLEICu06gyj9RmSzVE5h6parYyjwkQAIkQAKtJ1AmS3iwVP4kyQe0rCwFH18FZwTc8uDTZkrzBDhim2fOFjtFoEyWYi/SlgNaVpbKa+O3JEACJEACnSIQlSU8WHJ+UrcKGspSjFJRFDzENgZn2XTCXJYY85PArhCIypL8MJd/7FB53+RALf9Hw8oLtvtbHmK7Rv8S5hphsioSSI1AWJacu+dVlMkpIg+HRqORbORLrfPN2MNDbNfImTDXCJNVdYoA7mMhMusdA7H0LcIJy9IWDWpf0zzEdo0+Jcw1wmRVXSMQezQTS98WH8pSc+T51G2NrAlzjTAbqwqv51e5++KYVLugUw8/Hh8fB7c0x9K3Qoyy1Bx2RtI1sibMNcJspir/9fyK7dYuWLH+KtlgQ/lxoFXq2W6e2H9NLH1b1lKWmiOfmu+b6/kGWiLMDUBllVEC7ZAl5+ht6W0sXTI0fEFZag44I+kaWRPmGmGyqoUE2iFL2Jjm30SNpS/EsqEMlKUNgQ1Uy0gagFI3iTDLyU2n08+fPxtj5L6TvPIxGo1+/fqF4pIo2R4fH/v9vjHG+YFpvCiGOo0xuhKx5OfPn+PxuNfrYbtXlmWIgHAWEv2YmOf5wcGB7N3Nsuzr16+wsLygtRY7M6XFyWQiXbPWlkNY6vfga8hSM2wFvsaYZdn3798vLy+/ffv29vYmeZyjtxemS4aGLyhLzQFnJF0ja8IsgXlzc3NxcfEej/AS4Ww2kx2M0+lUtMrJ9vDwcHt7KyFe7yHGTR6RIlSiM1hrUfbo6AjCgKbl1wbgL/9hu9w+Qqk8z/f393W2WEGoTq/XkxZRlaip3zuBANsc+0t4WmuXlSW/9c2xBQq4FRiBwhijJwHogmaLLsfSy4Fs9FvK0kbx/lY5I+lvOFb7QJhV+GF71XA4dORBYjcqQbYfP34Mh8OXlxewlYgmyiHz7oop+mesY/5y1AvyJks3a22sIO476ZzW2uBqwIeAshuVJfFOA2x9d0BpnDN6QNIhJoT9dOlC8xeUpeaYx/7BmrOgRS0R5kJnSmwSgZEYpKfMkm0wGPhvvgen0tASqVZqEPHzbfNDJ/IsXLgEC8ZadAyTVY4xRotQY7Ikdm6OrTSh4SNRexl673CAC2rQ8P273hTK0np5ltXGSFpGZ8nvCHMhsCAiJOqAhRRnZi2VQxUQ04uieHp6Ojk5McZMJpOSxZMUlwvEPlEySZfW5V6cfIWLYMGgVslqSbcShBBcVOl20ag87iq50CR1DbiW3mnNkGxrYQtTnbUO2nUSfc2GJbF0sbP5C8pSc8yD/yHNNd+ulghzoT911JPMSNQ38WIhHkUQsyQuD4fD8/Nzva3gPVuVuFaiBHmeY5NFlmXT6VRMxUWwIFrUCyC9MNIa4EMIriScRv2PKOUEej+bk9IA2yB8aJXmE+t1LN3pSMMfKUvNAZf/cB5iuzp0wlzIMBiwkKgDlp+iaw6qgs4gaxQtBk4GxD6thU4G2b8QfErvF4RVelVkrfUV970VH0K5VPiGIaWeLDXANuggPzE2jYulxzg0k05Z2jjn2A0BHmJbAz1hVofmx6bg1NjPJk0E88u3uKiSp6IS+Nn8FDQatDmoAX5OfyXh9Cj4sZ4s+a1L5VW4LcyDDM4NWEBz7i7GSMbSxc6tXFCWtoJ9Vxut98+5q73dZbuDEc0P3JgsOyFM9zsYWG9ubvTdNj9PURSnp6dyry+oBPP5/NOnT3qThR8igwXfzfPXQMFZfzDRt1b3N3ZdY+Q3w9bpznw+Pzw87Pf7zhIzRjKWHuPQTDplqRnOLWmlxj9nS3q+a91AiJd7YkVRXF5eyhtL0htfCeQrXDgZ8PqqvMCEPAht8twFz4r0HTaJfTADX6Hms7MzbJ1430/hRFi9eUwX1Pfr5G2nfr/vi6tjPKyVVvI8//LlS8m9R42ixsgPtq7rdDKsyPbt7S3P89PT0+fn5/39fcjS3d0d3qgNuqCEsLaz+WvKUvPMd7jFGv+cO9zbXTYdYWgymWA3gTFmMBj4DzUlWpX0VX50USqRPXhSSk40MMbIGQ3yLYaNMSbLstlshuKIwnJsBAre399LKb2LQRdEBtkogWovLi5eX191WR1zdTrEAAdVOM3pbM51jZHfDFtr7Xg8xp4U2R6JKYgxBm9Vl5AMusbpe/MfKUvNM9/hFmv8c+5wb3fZdNzmqrgU2OWONmQ7R35DoP/XDGWpSdo73xb/OXfChXCT83RhJyynkSRgraUscRgsQYCytASs7WXFw3Z52LM9Q9gyCdQhQFmqQ62zZShLO+F6PNWgLO2Es2ikT6C1siTvpfOiCgF/ZMgT4yrF/U1QqLBK2WTzBJnsRCIeLOGIoKV+vmEnekcjW0+gtbLUes9tpYNcLW0FOxslgU4RoCx1yt2rdrYFsoTnLlii6TN4YumrImN5EiCBJQlQlpYE1u3sLZAl/Q6Hs38avXOOcum2w9l7EtgCAcpS09Dxkrl+B76iBbULVqy/SrZ2yBJOFw0+D8OPtukTcapgYR4SIIE1EqAsrRHm4qoQ1oMBsbxw7YLl1S77bTtkCffr/Nd6YunLUmJ+EiCBVQhQllah17my7ZAl5ywy8WIsXTLwggRIoAEClKUGILeniXbIEl7r8e+jxtLb4z/2hAR2gUCbZWk6neIgSHmvUA6U1EcgS6Jke3x8xAGXzn2eoiiur6/lcEldifj658+f4/G41+thr1eWZQh/eqOXHxDzPD84OJA3eLIsk/Muywtaa3HkpbQ4mUzkBwXw62olEBp4qaUZvMJfk8yy7Pv375eXlzhEWfLIGdKSgotYupONH0mABDZKoLWydHNzg9Nz8WrhbDYbj8c4QXk6ncoJ/062h4eH29tbCfF6AzHu8IgUoRKdAe+f9nq9o6MjCINzXCYExn+wJPeO5JT+/f19nS1WUH7TU1pEVaKmfu8EAmxz7F/7UPMN2Bxe0IBnQRI05Mcd0LvYU7pY+tqZsEISIIFyAq2VJek29lYNh0PZDYwoL7EbOZHtx48fw+Hw5eUFeWRZI8ohR/pXTPn48aNs6wq2+966o16QN1m6WWtjBYNnzASn/D4ElN20LDle2Che3yNQGmfDN2BqvDAyli5d4AUJkEAzBFouSxKYRGAkyuvliGQbDAaiIuKA4DwaWiLVSg0iflJcLvy4ia8WLlyCBWMtOobp13S0CDUpS2Lq5vBKE5o/ErWj5UQljQJeaBKIDAlekAAJ+ARaLkvBdQYSdbRCijOtFlhQBQSy99/QfHp6Ojk5wYFjJYsnKS4XCHyiZJIurcu9OPkKF8GCQa3CGznObasghOCiyml3XR+lg1ozpPK14AUiZw2Edp1EX7ZhSSxd7OQFCZBAMwRaLks65AlQJOqbeLEQjyIIWLIfYTgcnp+f620F79mqBLUSJZCf2syybDqdiqm4CBZEi86sP7ho8CEElxFOo2v82ADeIH9/ARTreCx9jRBYFQmQQEUCLZelYLTyA7qfovEFVUFnkDVKcDWAnAh8WgudGmT/grPWiRWEVc7ay1fc91Z8COU64Ru2YkoDeIM+8hODC0e5r1vunRUhsDgJkEBFAi2XJT8wBefFfjbBF8wv3+KiSp6KSuBn81PQaNDmoAD4Of1lhNOj9X70DZD6q6BbmAcZnHuw4KZv1VprYzBj6WInL0iABBoj0GZZCoYzP3BjBu3EL+2AYFS9ubnRd9v8PEVRnJ6eyr2+oBLM5/NPnz7pTRZ+fAwWfDfPXwMFlwLBRN9a3d/1XjeD1+nRfD4/PDzs9/vOAigGM5a+XhSsjQRIoAqBNssSQrzcEyuK4vLyUt5YEjq+EshXuHAy4PVVeYEJeRDX5Ok6nhXpO2wS+GAGvkLNZ2dn2Drxvp/CCa9655guKBP/vb09edup3+/74uoYD2ullTzPv3z5UnLv0UFR42PQAF2Pk2FFvG9vb3men56ePj8/7+/vQ5bu7u7wRm3QCyWQtZ28JgESaIZAm2UJMWgymeDIBmPMYDDAG7UaroQqnehc393dOZXIHjzJKccZGGPkjAb5Vm40ZVk2m81QHCFYjo1Awfv7eymlt3frgsggGyWMMVmWXVxcvL6+6rI64Op0KIExZjQaOc3pbGu5bgavtXY8HmNbymQyAV7MQowxeLG6BGbQO2vpPishARJYlkCbZQm3uTa6FFgWN/OTAAmQAAmUE2itLGH+6zxaKGfBb0mABEiABLZOoLWyhCft8rBn66BpAAmQAAmQQBUCrZUlPNKgLFUZBMxDAiRAAukQaK0s4cESjghq4Ocb0vEoLSEBEiCBnSbQWlnaaa/QeBIgARLoLAHKUmddz46TAAmQQIoEKEspeoU2kQAJkEBnCVCWOut6dpwESIAEUiRAWUrRK7SJBEiABDpLgLLUWdez4yRAAiSQIgHKUopeoU0kQAIk0FkClKXOup4dJwESIIEUCVCWUvQKbSIBEiCBzhKgLHXW9ew4CZAACaRIgLKUoldoEwmQAAl0lsD/AaMklzTdRz4tAAAAAElFTkSuQmCC)"
      ],
      "metadata": {
        "id": "LN2Nk-MkHAaY"
      }
    },
    {
      "cell_type": "markdown",
      "source": [
        "로지스틱 회귀 기반 타이타닉 생존자 모델의 F1 스코어"
      ],
      "metadata": {
        "id": "VU-tnKojHRBE"
      }
    },
    {
      "cell_type": "code",
      "source": [
        "from sklearn.metrics import f1_score\n",
        "f1 = f1_score(y_test , pred)\n",
        "print('F1 스코어: {0:.4f}'.format(f1))"
      ],
      "metadata": {
        "colab": {
          "base_uri": "https://localhost:8080/"
        },
        "id": "RDIM3FLzGj_U",
        "outputId": "7cec598c-3a8c-4c64-870c-049bec05a8a6"
      },
      "execution_count": 16,
      "outputs": [
        {
          "output_type": "stream",
          "name": "stdout",
          "text": [
            "F1 스코어: 0.7966\n"
          ]
        }
      ]
    },
    {
      "cell_type": "markdown",
      "source": [
        "타이타닉 생존자 예측에서 임계값을 변화시키면서 F1 스코어 포함 평가 지표 구하기\n",
        "- `get_clf_eval()` 함수에 F1 스코어 로직 추가\n",
        "- `get_eval_by_threshold()` 함수로 임곗값 0.4~0.6 별 정확도, 정밀도, 재현율, F1 스코어 구하기"
      ],
      "metadata": {
        "id": "R68YUR7yHViX"
      }
    },
    {
      "cell_type": "code",
      "source": [
        "def get_clf_eval(y_test , pred):\n",
        "    confusion = confusion_matrix( y_test, pred)\n",
        "    accuracy = accuracy_score(y_test , pred)\n",
        "    precision = precision_score(y_test , pred)\n",
        "    recall = recall_score(y_test , pred)\n",
        "    # F1 스코어 추가\n",
        "    f1 = f1_score(y_test,pred)\n",
        "    print('오차 행렬')\n",
        "    print(confusion)\n",
        "    # f1 score print 추가\n",
        "    print('정확도: {0:.4f}, 정밀도: {1:.4f}, 재현율: {2:.4f}, F1:{3:.4f}'.format(accuracy, precision, recall, f1))\n",
        "\n",
        "thresholds = [0.4 , 0.45 , 0.50 , 0.55 , 0.60]\n",
        "pred_proba = lr_clf.predict_proba(X_test)\n",
        "get_eval_by_threshold(y_test, pred_proba[:,1].reshape(-1,1), thresholds)"
      ],
      "metadata": {
        "colab": {
          "base_uri": "https://localhost:8080/"
        },
        "id": "6TcZhnKdPE6X",
        "outputId": "43cc0d0e-e059-4734-cb39-2dce77277f7c"
      },
      "execution_count": 25,
      "outputs": [
        {
          "output_type": "stream",
          "name": "stdout",
          "text": [
            "임곗값: 0.4\n",
            "오차 행렬\n",
            "[[97 21]\n",
            " [11 50]]\n",
            "정확도: 0.8212, 정밀도: 0.7042, 재현율: 0.8197, F1:0.7576\n",
            "임곗값: 0.45\n",
            "오차 행렬\n",
            "[[105  13]\n",
            " [ 13  48]]\n",
            "정확도: 0.8547, 정밀도: 0.7869, 재현율: 0.7869, F1:0.7869\n",
            "임곗값: 0.5\n",
            "오차 행렬\n",
            "[[108  10]\n",
            " [ 14  47]]\n",
            "정확도: 0.8659, 정밀도: 0.8246, 재현율: 0.7705, F1:0.7966\n",
            "임곗값: 0.55\n",
            "오차 행렬\n",
            "[[111   7]\n",
            " [ 16  45]]\n",
            "정확도: 0.8715, 정밀도: 0.8654, 재현율: 0.7377, F1:0.7965\n",
            "임곗값: 0.6\n",
            "오차 행렬\n",
            "[[113   5]\n",
            " [ 17  44]]\n",
            "정확도: 0.8771, 정밀도: 0.8980, 재현율: 0.7213, F1:0.8000\n"
          ]
        }
      ]
    },
    {
      "cell_type": "markdown",
      "source": [
        "- F1 스코어는 임곗값이 0.6일 때 가장 좋은 값\n",
        "- 하지만 재현율이 크게 감소하고 있으니 주지"
      ],
      "metadata": {
        "id": "b-x4S-PSPRES"
      }
    },
    {
      "cell_type": "markdown",
      "source": [
        "## 3.5 ROC 곡선과 AUC"
      ],
      "metadata": {
        "id": "5Fo9ZgSyGkxJ"
      }
    },
    {
      "cell_type": "markdown",
      "source": [
        "이진 분류의 예측 성능 측정에서 중요하게 사용되는 지표"
      ],
      "metadata": {
        "id": "KFQtp6rNPi61"
      }
    },
    {
      "cell_type": "markdown",
      "source": [
        "ROC 곡선(Receiver Operation Characteristic Curve)\n",
        "- 판단 곡선\n",
        "- FPR(False Positive Rate)이 변할 때 TPR(True Positive RAte)이 어떻게 변하는지 나타내는 곡선\n",
        "- X축: FPR, Y축: TPR"
      ],
      "metadata": {
        "id": "IU8lZjIlPx25"
      }
    },
    {
      "cell_type": "markdown",
      "source": [
        "- 민감도(TPR, 재현율): 실제값 Positive가 정확히 예측돼야 하는 수준\n",
        "  - TPR = TP / (FN + TP)\n",
        "- 특이성(TNR): 실제값 Negative가 정확히 예측돼야 하는 수준\n",
        "  - TNR = TN / (FP + TN)\n",
        "- FPR = FP / (FP + TN) = 1 - TNR = 1 - 특이성"
      ],
      "metadata": {
        "id": "JFvdHBACQYBa"
      }
    },
    {
      "cell_type": "markdown",
      "source": [
        "![image.png](data:image/png;base64,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)"
      ],
      "metadata": {
        "id": "F7ENmeghRHL7"
      }
    },
    {
      "cell_type": "markdown",
      "source": [
        "- 가운데 직선: ROC 곡선의 최저 값\n",
        "- 동전을 무작위로 덩져 앞/뒤 맞추는 랜덤 수준의 이진 분류의 ROC 직선\n",
        "- ROC 곡선이 직선에 가까울수록 성능 떨어지며 멀수록 성능 뛰어남"
      ],
      "metadata": {
        "id": "1L9qK6HnRXQ3"
      }
    },
    {
      "cell_type": "code",
      "source": [
        "from sklearn.metrics import roc_curve\n",
        "\n",
        "# 레이블 값이 1일때의 예측 확률을 추출\n",
        "pred_proba_class1 = lr_clf.predict_proba(X_test)[:, 1]\n",
        "\n",
        "fprs , tprs , thresholds = roc_curve(y_test, pred_proba_class1)\n",
        "# 반환된 임곗값 배열에서 샘플로 데이터를 추출하되, 임곗값을 5 Step으로 추출.\n",
        "# thresholds[0]은 max(예측확률)+1로 임의 설정됨. 이를 제외하기 위해 np.arange는 1부터 시작\n",
        "thr_index = np.arange(1, thresholds.shape[0], 5)\n",
        "print('샘플 추출을 위한 임곗값 배열의 index:', thr_index)\n",
        "print('샘플 index로 추출한 임곗값: ', np.round(thresholds[thr_index], 2))\n",
        "\n",
        "# 5 step 단위로 추출된 임계값에 따른 FPR, TPR 값\n",
        "print('샘플 임곗값별 FPR: ', np.round(fprs[thr_index], 3))\n",
        "print('샘플 임곗값별 TPR: ', np.round(tprs[thr_index], 3))"
      ],
      "metadata": {
        "colab": {
          "base_uri": "https://localhost:8080/"
        },
        "id": "wRwu8mhnGm3O",
        "outputId": "561545a1-74ea-45ab-f9ae-7e02b78ee196"
      },
      "execution_count": 26,
      "outputs": [
        {
          "output_type": "stream",
          "name": "stdout",
          "text": [
            "샘플 추출을 위한 임곗값 배열의 index: [ 1  6 11 16 21 26 31 36 41 46]\n",
            "샘플 index로 추출한 임곗값:  [0.94 0.73 0.62 0.52 0.44 0.28 0.15 0.14 0.13 0.12]\n",
            "샘플 임곗값별 FPR:  [0.    0.008 0.025 0.076 0.127 0.254 0.576 0.61  0.746 0.847]\n",
            "샘플 임곗값별 TPR:  [0.016 0.492 0.705 0.738 0.803 0.885 0.902 0.951 0.967 1.   ]\n"
          ]
        }
      ]
    },
    {
      "cell_type": "code",
      "source": [
        "def roc_curve_plot(y_test , pred_proba_c1):\n",
        "    # 임곗값에 따른 FPR, TPR 값을 반환 받음.\n",
        "    fprs , tprs , thresholds = roc_curve(y_test ,pred_proba_c1)\n",
        "\n",
        "    # ROC Curve를 plot 곡선으로 그림.\n",
        "    plt.plot(fprs , tprs, label='ROC')\n",
        "    # 가운데 대각선 직선을 그림.\n",
        "    plt.plot([0, 1], [0, 1], 'k--', label='Random')\n",
        "\n",
        "    # FPR X 축의 Scale을 0.1 단위로 변경, X,Y 축명 설정등\n",
        "    start, end = plt.xlim()\n",
        "    plt.xticks(np.round(np.arange(start, end, 0.1),2))\n",
        "    plt.xlim(0,1); plt.ylim(0,1)\n",
        "    plt.xlabel('FPR( 1 - Specificity )'); plt.ylabel('TPR( Recall )')\n",
        "    plt.legend()\n",
        "    plt.show()\n",
        "\n",
        "roc_curve_plot(y_test, lr_clf.predict_proba(X_test)[:, 1] )"
      ],
      "metadata": {
        "colab": {
          "base_uri": "https://localhost:8080/",
          "height": 455
        },
        "id": "y0hWcNciPd3I",
        "outputId": "eb2de730-1c2f-45a8-d3dd-1a6c83a20e5b"
      },
      "execution_count": 27,
      "outputs": [
        {
          "output_type": "display_data",
          "data": {
            "text/plain": [
              "<Figure size 640x480 with 1 Axes>"
            ],
            "image/png": "[encoded data removed]"
          },
          "metadata": {}
        }
      ]
    },
    {
      "cell_type": "markdown",
      "source": [
        "AUC(Area Under Curve)\n",
        "- ROC 곡선 밑의 면적을 구한 것\n",
        "- 1에 가까울수록 좋은 수치\n",
        "- AUC 커지려면 FPR이 작은 상태에서 얼마나 큰 TPR을 얻을 수 있느냐가 관건\n"
      ],
      "metadata": {
        "id": "Nem2o23QSah4"
      }
    },
    {
      "cell_type": "code",
      "source": [
        "from sklearn.metrics import roc_auc_score\n",
        "pred_proba = lr_clf.predict_proba(X_test)[:, 1]\n",
        "roc_score = roc_auc_score(y_test, pred_proba)\n",
        "print('ROC AUC 값: {0:.4f}'.format(roc_score))"
      ],
      "metadata": {
        "colab": {
          "base_uri": "https://localhost:8080/"
        },
        "id": "DRJDIOxGPf7o",
        "outputId": "8dc05d7f-08e4-4907-c97f-50a8a3a190f3"
      },
      "execution_count": 28,
      "outputs": [
        {
          "output_type": "stream",
          "name": "stdout",
          "text": [
            "ROC AUC 값: 0.8987\n"
          ]
        }
      ]
    },
    {
      "cell_type": "markdown",
      "source": [
        "`get_clf_eval()` 함수에 `roc_auc_score()` 이용해 ROC AUC 값 측정하는 로직 추가"
      ],
      "metadata": {
        "id": "rHIAXEaRSrfM"
      }
    },
    {
      "cell_type": "code",
      "source": [
        "def get_clf_eval(y_test, pred=None, pred_proba=None):\n",
        "    confusion = confusion_matrix( y_test, pred)\n",
        "    accuracy = accuracy_score(y_test , pred)\n",
        "    precision = precision_score(y_test , pred)\n",
        "    recall = recall_score(y_test , pred)\n",
        "    f1 = f1_score(y_test,pred)\n",
        "    # ROC-AUC 추가\n",
        "    roc_auc = roc_auc_score(y_test, pred_proba)\n",
        "    print('오차 행렬')\n",
        "    print(confusion)\n",
        "    # ROC-AUC print 추가\n",
        "    print('정확도: {0:.4f}, 정밀도: {1:.4f}, 재현율: {2:.4f},\\\n",
        "          F1: {3:.4f}, AUC:{4:.4f}'.format(accuracy, precision, recall, f1, roc_auc))"
      ],
      "metadata": {
        "id": "kW1ZRbSpPggl"
      },
      "execution_count": 29,
      "outputs": []
    },
    {
      "cell_type": "markdown",
      "source": [
        "## 3.6 피마 인디언 당뇨병 예측"
      ],
      "metadata": {
        "id": "mTD4PiSWGpM8"
      }
    },
    {
      "cell_type": "markdown",
      "source": [
        "피마 인디언 당뇨병 데이터 세트 피처\n",
        "- Pregnancies: 임신 횟수\n",
        "- Glucose: 포도당 부하 검사 수치\n",
        "- BloodPressure: 혈압(mm Hg)\n",
        "- Skin Thickness: 팔 삼두근 뒤쪽의 피하지방 측정값(mm)\n",
        "- Insuling: 혈청 인슐린(mu U/ml)\n",
        "- DiabetesPedigreeFunction: 당뇨 내력 가중치 값\n",
        "- Age: 나이\n",
        "- Outcome: 클래스 결정 값(0 또는 1)"
      ],
      "metadata": {
        "id": "nq7AEhCRT6fs"
      }
    },
    {
      "cell_type": "code",
      "source": [
        "import numpy as np\n",
        "import pandas as pd\n",
        "import matplotlib.pyplot as plt\n",
        "%matplotlib inline\n",
        "\n",
        "from sklearn.model_selection import train_test_split\n",
        "from sklearn.metrics import accuracy_score, precision_score, recall_score, roc_auc_score\n",
        "from sklearn.metrics import f1_score, confusion_matrix, precision_recall_curve, roc_curve\n",
        "from sklearn.preprocessing import StandardScaler\n",
        "from sklearn.linear_model import LogisticRegression\n",
        "\n",
        "diabetes_data = pd.read_csv('diabetes.csv')\n",
        "print(diabetes_data['Outcome'].value_counts())\n",
        "diabetes_data.head(3)"
      ],
      "metadata": {
        "colab": {
          "base_uri": "https://localhost:8080/",
          "height": 216
        },
        "id": "2KFsmhSTGsNI",
        "outputId": "17f6edb9-f7cf-4a57-e8a8-eb94394025f8"
      },
      "execution_count": 30,
      "outputs": [
        {
          "output_type": "stream",
          "name": "stdout",
          "text": [
            "Outcome\n",
            "0    500\n",
            "1    268\n",
            "Name: count, dtype: int64\n"
          ]
        },
        {
          "output_type": "execute_result",
          "data": {
            "text/plain": [
              "   Pregnancies  Glucose  BloodPressure  SkinThickness  Insulin   BMI  \\\n",
              "0            6      148             72             35        0  33.6   \n",
              "1            1       85             66             29        0  26.6   \n",
              "2            8      183             64              0        0  23.3   \n",
              "\n",
              "   DiabetesPedigreeFunction  Age  Outcome  \n",
              "0                     0.627   50        1  \n",
              "1                     0.351   31        0  \n",
              "2                     0.672   32        1  "
            ],
            "text/html": [
              "\n",
              "  <div id=\"df-1366e78f-6138-41db-9048-b9f6716575bd\" class=\"colab-df-container\">\n",
              "    <div>\n",
              "<style scoped>\n",
              "    .dataframe tbody tr th:only-of-type {\n",
              "        vertical-align: middle;\n",
              "    }\n",
              "\n",
              "    .dataframe tbody tr th {\n",
              "        vertical-align: top;\n",
              "    }\n",
              "\n",
              "    .dataframe thead th {\n",
              "        text-align: right;\n",
              "    }\n",
              "</style>\n",
              "<table border=\"1\" class=\"dataframe\">\n",
              "  <thead>\n",
              "    <tr style=\"text-align: right;\">\n",
              "      <th></th>\n",
              "      <th>Pregnancies</th>\n",
              "      <th>Glucose</th>\n",
              "      <th>BloodPressure</th>\n",
              "      <th>SkinThickness</th>\n",
              "      <th>Insulin</th>\n",
              "      <th>BMI</th>\n",
              "      <th>DiabetesPedigreeFunction</th>\n",
              "      <th>Age</th>\n",
              "      <th>Outcome</th>\n",
              "    </tr>\n",
              "  </thead>\n",
              "  <tbody>\n",
              "    <tr>\n",
              "      <th>0</th>\n",
              "      <td>6</td>\n",
              "      <td>148</td>\n",
              "      <td>72</td>\n",
              "      <td>35</td>\n",
              "      <td>0</td>\n",
              "      <td>33.6</td>\n",
              "      <td>0.627</td>\n",
              "      <td>50</td>\n",
              "      <td>1</td>\n",
              "    </tr>\n",
              "    <tr>\n",
              "      <th>1</th>\n",
              "      <td>1</td>\n",
              "      <td>85</td>\n",
              "      <td>66</td>\n",
              "      <td>29</td>\n",
              "      <td>0</td>\n",
              "      <td>26.6</td>\n",
              "      <td>0.351</td>\n",
              "      <td>31</td>\n",
              "      <td>0</td>\n",
              "    </tr>\n",
              "    <tr>\n",
              "      <th>2</th>\n",
              "      <td>8</td>\n",
              "      <td>183</td>\n",
              "      <td>64</td>\n",
              "      <td>0</td>\n",
              "      <td>0</td>\n",
              "      <td>23.3</td>\n",
              "      <td>0.672</td>\n",
              "      <td>32</td>\n",
              "      <td>1</td>\n",
              "    </tr>\n",
              "  </tbody>\n",
              "</table>\n",
              "</div>\n",
              "    <div class=\"colab-df-buttons\">\n",
              "\n",
              "  <div class=\"colab-df-container\">\n",
              "    <button class=\"colab-df-convert\" onclick=\"convertToInteractive('df-1366e78f-6138-41db-9048-b9f6716575bd')\"\n",
              "            title=\"Convert this dataframe to an interactive table.\"\n",
              "            style=\"display:none;\">\n",
              "\n",
              "  <svg xmlns=\"http://www.w3.org/2000/svg\" height=\"24px\" viewBox=\"0 -960 960 960\">\n",
              "    <path d=\"M120-120v-720h720v720H120Zm60-500h600v-160H180v160Zm220 220h160v-160H400v160Zm0 220h160v-160H400v160ZM180-400h160v-160H180v160Zm440 0h160v-160H620v160ZM180-180h160v-160H180v160Zm440 0h160v-160H620v160Z\"/>\n",
              "  </svg>\n",
              "    </button>\n",
              "\n",
              "  <style>\n",
              "    .colab-df-container {\n",
              "      display:flex;\n",
              "      gap: 12px;\n",
              "    }\n",
              "\n",
              "    .colab-df-convert {\n",
              "      background-color: #E8F0FE;\n",
              "      border: none;\n",
              "      border-radius: 50%;\n",
              "      cursor: pointer;\n",
              "      display: none;\n",
              "      fill: #1967D2;\n",
              "      height: 32px;\n",
              "      padding: 0 0 0 0;\n",
              "      width: 32px;\n",
              "    }\n",
              "\n",
              "    .colab-df-convert:hover {\n",
              "      background-color: #E2EBFA;\n",
              "      box-shadow: 0px 1px 2px rgba(60, 64, 67, 0.3), 0px 1px 3px 1px rgba(60, 64, 67, 0.15);\n",
              "      fill: #174EA6;\n",
              "    }\n",
              "\n",
              "    .colab-df-buttons div {\n",
              "      margin-bottom: 4px;\n",
              "    }\n",
              "\n",
              "    [theme=dark] .colab-df-convert {\n",
              "      background-color: #3B4455;\n",
              "      fill: #D2E3FC;\n",
              "    }\n",
              "\n",
              "    [theme=dark] .colab-df-convert:hover {\n",
              "      background-color: #434B5C;\n",
              "      box-shadow: 0px 1px 3px 1px rgba(0, 0, 0, 0.15);\n",
              "      filter: drop-shadow(0px 1px 2px rgba(0, 0, 0, 0.3));\n",
              "      fill: #FFFFFF;\n",
              "    }\n",
              "  </style>\n",
              "\n",
              "    <script>\n",
              "      const buttonEl =\n",
              "        document.querySelector('#df-1366e78f-6138-41db-9048-b9f6716575bd button.colab-df-convert');\n",
              "      buttonEl.style.display =\n",
              "        google.colab.kernel.accessAllowed ? 'block' : 'none';\n",
              "\n",
              "      async function convertToInteractive(key) {\n",
              "        const element = document.querySelector('#df-1366e78f-6138-41db-9048-b9f6716575bd');\n",
              "        const dataTable =\n",
              "          await google.colab.kernel.invokeFunction('convertToInteractive',\n",
              "                                                    [key], {});\n",
              "        if (!dataTable) return;\n",
              "\n",
              "        const docLinkHtml = 'Like what you see? Visit the ' +\n",
              "          '<a target=\"_blank\" href=https://colab.research.google.com/notebooks/data_table.ipynb>data table notebook</a>'\n",
              "          + ' to learn more about interactive tables.';\n",
              "        element.innerHTML = '';\n",
              "        dataTable['output_type'] = 'display_data';\n",
              "        await google.colab.output.renderOutput(dataTable, element);\n",
              "        const docLink = document.createElement('div');\n",
              "        docLink.innerHTML = docLinkHtml;\n",
              "        element.appendChild(docLink);\n",
              "      }\n",
              "    </script>\n",
              "  </div>\n",
              "\n",
              "\n",
              "<div id=\"df-46c533a2-6d41-483a-b0f2-3f0e96316b07\">\n",
              "  <button class=\"colab-df-quickchart\" onclick=\"quickchart('df-46c533a2-6d41-483a-b0f2-3f0e96316b07')\"\n",
              "            title=\"Suggest charts\"\n",
              "            style=\"display:none;\">\n",
              "\n",
              "<svg xmlns=\"http://www.w3.org/2000/svg\" height=\"24px\"viewBox=\"0 0 24 24\"\n",
              "     width=\"24px\">\n",
              "    <g>\n",
              "        <path d=\"M19 3H5c-1.1 0-2 .9-2 2v14c0 1.1.9 2 2 2h14c1.1 0 2-.9 2-2V5c0-1.1-.9-2-2-2zM9 17H7v-7h2v7zm4 0h-2V7h2v10zm4 0h-2v-4h2v4z\"/>\n",
              "    </g>\n",
              "</svg>\n",
              "  </button>\n",
              "\n",
              "<style>\n",
              "  .colab-df-quickchart {\n",
              "      --bg-color: #E8F0FE;\n",
              "      --fill-color: #1967D2;\n",
              "      --hover-bg-color: #E2EBFA;\n",
              "      --hover-fill-color: #174EA6;\n",
              "      --disabled-fill-color: #AAA;\n",
              "      --disabled-bg-color: #DDD;\n",
              "  }\n",
              "\n",
              "  [theme=dark] .colab-df-quickchart {\n",
              "      --bg-color: #3B4455;\n",
              "      --fill-color: #D2E3FC;\n",
              "      --hover-bg-color: #434B5C;\n",
              "      --hover-fill-color: #FFFFFF;\n",
              "      --disabled-bg-color: #3B4455;\n",
              "      --disabled-fill-color: #666;\n",
              "  }\n",
              "\n",
              "  .colab-df-quickchart {\n",
              "    background-color: var(--bg-color);\n",
              "    border: none;\n",
              "    border-radius: 50%;\n",
              "    cursor: pointer;\n",
              "    display: none;\n",
              "    fill: var(--fill-color);\n",
              "    height: 32px;\n",
              "    padding: 0;\n",
              "    width: 32px;\n",
              "  }\n",
              "\n",
              "  .colab-df-quickchart:hover {\n",
              "    background-color: var(--hover-bg-color);\n",
              "    box-shadow: 0 1px 2px rgba(60, 64, 67, 0.3), 0 1px 3px 1px rgba(60, 64, 67, 0.15);\n",
              "    fill: var(--button-hover-fill-color);\n",
              "  }\n",
              "\n",
              "  .colab-df-quickchart-complete:disabled,\n",
              "  .colab-df-quickchart-complete:disabled:hover {\n",
              "    background-color: var(--disabled-bg-color);\n",
              "    fill: var(--disabled-fill-color);\n",
              "    box-shadow: none;\n",
              "  }\n",
              "\n",
              "  .colab-df-spinner {\n",
              "    border: 2px solid var(--fill-color);\n",
              "    border-color: transparent;\n",
              "    border-bottom-color: var(--fill-color);\n",
              "    animation:\n",
              "      spin 1s steps(1) infinite;\n",
              "  }\n",
              "\n",
              "  @keyframes spin {\n",
              "    0% {\n",
              "      border-color: transparent;\n",
              "      border-bottom-color: var(--fill-color);\n",
              "      border-left-color: var(--fill-color);\n",
              "    }\n",
              "    20% {\n",
              "      border-color: transparent;\n",
              "      border-left-color: var(--fill-color);\n",
              "      border-top-color: var(--fill-color);\n",
              "    }\n",
              "    30% {\n",
              "      border-color: transparent;\n",
              "      border-left-color: var(--fill-color);\n",
              "      border-top-color: var(--fill-color);\n",
              "      border-right-color: var(--fill-color);\n",
              "    }\n",
              "    40% {\n",
              "      border-color: transparent;\n",
              "      border-right-color: var(--fill-color);\n",
              "      border-top-color: var(--fill-color);\n",
              "    }\n",
              "    60% {\n",
              "      border-color: transparent;\n",
              "      border-right-color: var(--fill-color);\n",
              "    }\n",
              "    80% {\n",
              "      border-color: transparent;\n",
              "      border-right-color: var(--fill-color);\n",
              "      border-bottom-color: var(--fill-color);\n",
              "    }\n",
              "    90% {\n",
              "      border-color: transparent;\n",
              "      border-bottom-color: var(--fill-color);\n",
              "    }\n",
              "  }\n",
              "</style>\n",
              "\n",
              "  <script>\n",
              "    async function quickchart(key) {\n",
              "      const quickchartButtonEl =\n",
              "        document.querySelector('#' + key + ' button');\n",
              "      quickchartButtonEl.disabled = true;  // To prevent multiple clicks.\n",
              "      quickchartButtonEl.classList.add('colab-df-spinner');\n",
              "      try {\n",
              "        const charts = await google.colab.kernel.invokeFunction(\n",
              "            'suggestCharts', [key], {});\n",
              "      } catch (error) {\n",
              "        console.error('Error during call to suggestCharts:', error);\n",
              "      }\n",
              "      quickchartButtonEl.classList.remove('colab-df-spinner');\n",
              "      quickchartButtonEl.classList.add('colab-df-quickchart-complete');\n",
              "    }\n",
              "    (() => {\n",
              "      let quickchartButtonEl =\n",
              "        document.querySelector('#df-46c533a2-6d41-483a-b0f2-3f0e96316b07 button');\n",
              "      quickchartButtonEl.style.display =\n",
              "        google.colab.kernel.accessAllowed ? 'block' : 'none';\n",
              "    })();\n",
              "  </script>\n",
              "</div>\n",
              "\n",
              "    </div>\n",
              "  </div>\n"
            ],
            "application/vnd.google.colaboratory.intrinsic+json": {
              "type": "dataframe",
              "variable_name": "diabetes_data",
              "summary": "{\n  \"name\": \"diabetes_data\",\n  \"rows\": 768,\n  \"fields\": [\n    {\n      \"column\": \"Pregnancies\",\n      \"properties\": {\n        \"dtype\": \"number\",\n        \"std\": 3,\n        \"min\": 0,\n        \"max\": 17,\n        \"num_unique_values\": 17,\n        \"samples\": [\n          6,\n          1,\n          3\n        ],\n        \"semantic_type\": \"\",\n        \"description\": \"\"\n      }\n    },\n    {\n      \"column\": \"Glucose\",\n      \"properties\": {\n        \"dtype\": \"number\",\n        \"std\": 31,\n        \"min\": 0,\n        \"max\": 199,\n        \"num_unique_values\": 136,\n        \"samples\": [\n          151,\n          101,\n          112\n        ],\n        \"semantic_type\": \"\",\n        \"description\": \"\"\n      }\n    },\n    {\n      \"column\": \"BloodPressure\",\n      \"properties\": {\n        \"dtype\": \"number\",\n        \"std\": 19,\n        \"min\": 0,\n        \"max\": 122,\n        \"num_unique_values\": 47,\n        \"samples\": [\n          86,\n          46,\n          85\n        ],\n        \"semantic_type\": \"\",\n        \"description\": \"\"\n      }\n    },\n    {\n      \"column\": \"SkinThickness\",\n      \"properties\": {\n        \"dtype\": \"number\",\n        \"std\": 15,\n        \"min\": 0,\n        \"max\": 99,\n        \"num_unique_values\": 51,\n        \"samples\": [\n          7,\n          12,\n          48\n        ],\n        \"semantic_type\": \"\",\n        \"description\": \"\"\n      }\n    },\n    {\n      \"column\": \"Insulin\",\n      \"properties\": {\n        \"dtype\": \"number\",\n        \"std\": 115,\n        \"min\": 0,\n        \"max\": 846,\n        \"num_unique_values\": 186,\n        \"samples\": [\n          52,\n          41,\n          183\n        ],\n        \"semantic_type\": \"\",\n        \"description\": \"\"\n      }\n    },\n    {\n      \"column\": \"BMI\",\n      \"properties\": {\n        \"dtype\": \"number\",\n        \"std\": 7.884160320375446,\n        \"min\": 0.0,\n        \"max\": 67.1,\n        \"num_unique_values\": 248,\n        \"samples\": [\n          19.9,\n          31.0,\n          38.1\n        ],\n        \"semantic_type\": \"\",\n        \"description\": \"\"\n      }\n    },\n    {\n      \"column\": \"DiabetesPedigreeFunction\",\n      \"properties\": {\n        \"dtype\": \"number\",\n        \"std\": 0.3313285950127749,\n        \"min\": 0.078,\n        \"max\": 2.42,\n        \"num_unique_values\": 517,\n        \"samples\": [\n          1.731,\n          0.426,\n          0.138\n        ],\n        \"semantic_type\": \"\",\n        \"description\": \"\"\n      }\n    },\n    {\n      \"column\": \"Age\",\n      \"properties\": {\n        \"dtype\": \"number\",\n        \"std\": 11,\n        \"min\": 21,\n        \"max\": 81,\n        \"num_unique_values\": 52,\n        \"samples\": [\n          60,\n          47,\n          72\n        ],\n        \"semantic_type\": \"\",\n        \"description\": \"\"\n      }\n    },\n    {\n      \"column\": \"Outcome\",\n      \"properties\": {\n        \"dtype\": \"number\",\n        \"std\": 0,\n        \"min\": 0,\n        \"max\": 1,\n        \"num_unique_values\": 2,\n        \"samples\": [\n          0,\n          1\n        ],\n        \"semantic_type\": \"\",\n        \"description\": \"\"\n      }\n    }\n  ]\n}"
            }
          },
          "metadata": {},
          "execution_count": 30
        }
      ]
    },
    {
      "cell_type": "markdown",
      "source": [
        "전체 768개 데이터\n",
        "- Negative 값 0이 500개\n",
        "- Positive 값 1이 268개\n",
        "- Negative가 상대적으로 많다"
      ],
      "metadata": {
        "id": "YS6EAnoUUW4n"
      }
    },
    {
      "cell_type": "code",
      "source": [
        "diabetes_data.info( )"
      ],
      "metadata": {
        "colab": {
          "base_uri": "https://localhost:8080/"
        },
        "id": "dA0Hlp3sTBnT",
        "outputId": "8f4b8634-905d-4f09-dcbf-80657641069d"
      },
      "execution_count": 31,
      "outputs": [
        {
          "output_type": "stream",
          "name": "stdout",
          "text": [
            "<class 'pandas.core.frame.DataFrame'>\n",
            "RangeIndex: 768 entries, 0 to 767\n",
            "Data columns (total 9 columns):\n",
            " #   Column                    Non-Null Count  Dtype  \n",
            "---  ------                    --------------  -----  \n",
            " 0   Pregnancies               768 non-null    int64  \n",
            " 1   Glucose                   768 non-null    int64  \n",
            " 2   BloodPressure             768 non-null    int64  \n",
            " 3   SkinThickness             768 non-null    int64  \n",
            " 4   Insulin                   768 non-null    int64  \n",
            " 5   BMI                       768 non-null    float64\n",
            " 6   DiabetesPedigreeFunction  768 non-null    float64\n",
            " 7   Age                       768 non-null    int64  \n",
            " 8   Outcome                   768 non-null    int64  \n",
            "dtypes: float64(2), int64(7)\n",
            "memory usage: 54.1 KB\n"
          ]
        }
      ]
    },
    {
      "cell_type": "markdown",
      "source": [
        "Null 값 없고 피처 타입 모두 숫자형"
      ],
      "metadata": {
        "id": "qfL_vjunUhJ3"
      }
    },
    {
      "cell_type": "markdown",
      "source": [
        "로지스틱 회귀를 이용해 예측 모델 생성\n",
        "- 데이터 세트 => 피처 데이터 세트, 클래스 데이터 세트\n",
        "- 학습 데이터 세트, 테스트 데이터 세트로 분리\n",
        "- 유틸리티 함수 `get_clf_eval()`, `get_eval_by_threshold()`, `precision_recall_curve_plot()` 이용해 성능 평가 지표 출력, 재현율 곡선 시각화\n"
      ],
      "metadata": {
        "id": "3iUSPym3Uoc_"
      }
    },
    {
      "cell_type": "code",
      "source": [
        "# 수정된 get_clf_eval() 함수\n",
        "def get_clf_eval(y_test, pred=None, pred_proba=None):\n",
        "    confusion = confusion_matrix( y_test, pred)\n",
        "    accuracy = accuracy_score(y_test , pred)\n",
        "    precision = precision_score(y_test , pred)\n",
        "    recall = recall_score(y_test , pred)\n",
        "    f1 = f1_score(y_test,pred)\n",
        "    # ROC-AUC 추가\n",
        "    roc_auc = roc_auc_score(y_test, pred_proba)\n",
        "    print('오차 행렬')\n",
        "    print(confusion)\n",
        "    # ROC-AUC print 추가\n",
        "    print('정확도: {0:.4f}, 정밀도: {1:.4f}, 재현율: {2:.4f},\\\n",
        "    F1: {3:.4f}, AUC:{4:.4f}'.format(accuracy, precision, recall, f1, roc_auc))"
      ],
      "metadata": {
        "id": "IWvZdSMJTDOk"
      },
      "execution_count": 32,
      "outputs": []
    },
    {
      "cell_type": "code",
      "source": [
        "def precision_recall_curve_plot(y_test=None, pred_proba_c1=None):\n",
        "    # threshold ndarray와 이 threshold에 따른 정밀도, 재현율 ndarray 추출.\n",
        "    precisions, recalls, thresholds = precision_recall_curve( y_test, pred_proba_c1)\n",
        "\n",
        "    # X축을 threshold값으로, Y축은 정밀도, 재현율 값으로 각각 Plot 수행. 정밀도는 점선으로 표시\n",
        "    plt.figure(figsize=(8,6))\n",
        "    threshold_boundary = thresholds.shape[0]\n",
        "    plt.plot(thresholds, precisions[0:threshold_boundary], linestyle='--', label='precision')\n",
        "    plt.plot(thresholds, recalls[0:threshold_boundary],label='recall')\n",
        "\n",
        "    # threshold 값 X 축의 Scale을 0.1 단위로 변경\n",
        "    start, end = plt.xlim()\n",
        "    plt.xticks(np.round(np.arange(start, end, 0.1),2))\n",
        "\n",
        "    # x축, y축 label과 legend, 그리고 grid 설정\n",
        "    plt.xlabel('Threshold value'); plt.ylabel('Precision and Recall value')\n",
        "    plt.legend(); plt.grid()\n",
        "    plt.show()"
      ],
      "metadata": {
        "id": "AZ1I1GRVTFVM"
      },
      "execution_count": 33,
      "outputs": []
    },
    {
      "cell_type": "code",
      "source": [
        "# 피처 데이터 세트 X, 레이블 데이터 세트 y를 추출.\n",
        "# 맨 끝이 Outcome 컬럼으로 레이블 값임. 컬럼 위치 -1을 이용해 추출\n",
        "X = diabetes_data.iloc[:, :-1]\n",
        "y = diabetes_data.iloc[:, -1]\n",
        "\n",
        "X_train, X_test, y_train, y_test = train_test_split(X, y, test_size = 0.2, random_state = 156, stratify=y)\n",
        "\n",
        "# 로지스틱 회귀로 학습,예측 및 평가 수행.\n",
        "lr_clf = LogisticRegression(solver='liblinear')\n",
        "lr_clf.fit(X_train , y_train)\n",
        "pred = lr_clf.predict(X_test)\n",
        "pred_proba = lr_clf.predict_proba(X_test)[:, 1]\n",
        "\n",
        "get_clf_eval(y_test , pred, pred_proba)"
      ],
      "metadata": {
        "colab": {
          "base_uri": "https://localhost:8080/"
        },
        "id": "ORyNyKcQTHlX",
        "outputId": "ffa58db4-96cb-4e7c-d01c-bb85c1019137"
      },
      "execution_count": 34,
      "outputs": [
        {
          "output_type": "stream",
          "name": "stdout",
          "text": [
            "오차 행렬\n",
            "[[87 13]\n",
            " [22 32]]\n",
            "정확도: 0.7727, 정밀도: 0.7111, 재현율: 0.5926,    F1: 0.6465, AUC:0.8083\n"
          ]
        }
      ]
    },
    {
      "cell_type": "markdown",
      "source": [
        "전체 데이터의 65%가 Negative이므로 정확도보다는 재현율 성능에 초점 맞춰보겠다."
      ],
      "metadata": {
        "id": "Sithvji3VLAB"
      }
    },
    {
      "cell_type": "markdown",
      "source": [
        "정밀도 재현율 곡선을 보고 임곗값별 정밀도와 재현율 값의 변화를 확인하겠다."
      ],
      "metadata": {
        "id": "pmbO5HJxVbZz"
      }
    },
    {
      "cell_type": "code",
      "source": [
        "pred_proba_c1 = lr_clf.predict_proba(X_test)[:, 1]\n",
        "precision_recall_curve_plot(y_test, pred_proba_c1)"
      ],
      "metadata": {
        "colab": {
          "base_uri": "https://localhost:8080/",
          "height": 542
        },
        "id": "giuv_V7ITKAG",
        "outputId": "87f18ab0-8b60-4cf9-d3db-7584b71adffc"
      },
      "execution_count": 35,
      "outputs": [
        {
          "output_type": "display_data",
          "data": {
            "text/plain": [
              "<Figure size 800x600 with 1 Axes>"
            ],
            "image/png": "[encoded data removed]"
          },
          "metadata": {}
        }
      ]
    },
    {
      "cell_type": "markdown",
      "source": [
        "- 임곗값을 0.42 정도로 낮추면 정밀도와 재현율이 어느 정도 균형 맞출 것\n",
        "- 하지만 두 개 지표 모두 0.7이 안 되는 수치. 두 지표의 값이 낮다\n",
        "- 다시 데이터 값 점검\n"
      ],
      "metadata": {
        "id": "DUcsCxlnVzRR"
      }
    },
    {
      "cell_type": "code",
      "source": [
        "diabetes_data.describe()"
      ],
      "metadata": {
        "colab": {
          "base_uri": "https://localhost:8080/",
          "height": 300
        },
        "id": "aIScsWTqTN59",
        "outputId": "9597c7de-8474-448e-d5ee-2ed317e2f4a1"
      },
      "execution_count": 36,
      "outputs": [
        {
          "output_type": "execute_result",
          "data": {
            "text/plain": [
              "       Pregnancies     Glucose  BloodPressure  SkinThickness     Insulin  \\\n",
              "count   768.000000  768.000000     768.000000     768.000000  768.000000   \n",
              "mean      3.845052  120.894531      69.105469      20.536458   79.799479   \n",
              "std       3.369578   31.972618      19.355807      15.952218  115.244002   \n",
              "min       0.000000    0.000000       0.000000       0.000000    0.000000   \n",
              "25%       1.000000   99.000000      62.000000       0.000000    0.000000   \n",
              "50%       3.000000  117.000000      72.000000      23.000000   30.500000   \n",
              "75%       6.000000  140.250000      80.000000      32.000000  127.250000   \n",
              "max      17.000000  199.000000     122.000000      99.000000  846.000000   \n",
              "\n",
              "              BMI  DiabetesPedigreeFunction         Age     Outcome  \n",
              "count  768.000000                768.000000  768.000000  768.000000  \n",
              "mean    31.992578                  0.471876   33.240885    0.348958  \n",
              "std      7.884160                  0.331329   11.760232    0.476951  \n",
              "min      0.000000                  0.078000   21.000000    0.000000  \n",
              "25%     27.300000                  0.243750   24.000000    0.000000  \n",
              "50%     32.000000                  0.372500   29.000000    0.000000  \n",
              "75%     36.600000                  0.626250   41.000000    1.000000  \n",
              "max     67.100000                  2.420000   81.000000    1.000000  "
            ],
            "text/html": [
              "\n",
              "  <div id=\"df-0cf92f37-0ff6-4879-9f2d-6b311a7aeee7\" class=\"colab-df-container\">\n",
              "    <div>\n",
              "<style scoped>\n",
              "    .dataframe tbody tr th:only-of-type {\n",
              "        vertical-align: middle;\n",
              "    }\n",
              "\n",
              "    .dataframe tbody tr th {\n",
              "        vertical-align: top;\n",
              "    }\n",
              "\n",
              "    .dataframe thead th {\n",
              "        text-align: right;\n",
              "    }\n",
              "</style>\n",
              "<table border=\"1\" class=\"dataframe\">\n",
              "  <thead>\n",
              "    <tr style=\"text-align: right;\">\n",
              "      <th></th>\n",
              "      <th>Pregnancies</th>\n",
              "      <th>Glucose</th>\n",
              "      <th>BloodPressure</th>\n",
              "      <th>SkinThickness</th>\n",
              "      <th>Insulin</th>\n",
              "      <th>BMI</th>\n",
              "      <th>DiabetesPedigreeFunction</th>\n",
              "      <th>Age</th>\n",
              "      <th>Outcome</th>\n",
              "    </tr>\n",
              "  </thead>\n",
              "  <tbody>\n",
              "    <tr>\n",
              "      <th>count</th>\n",
              "      <td>768.000000</td>\n",
              "      <td>768.000000</td>\n",
              "      <td>768.000000</td>\n",
              "      <td>768.000000</td>\n",
              "      <td>768.000000</td>\n",
              "      <td>768.000000</td>\n",
              "      <td>768.000000</td>\n",
              "      <td>768.000000</td>\n",
              "      <td>768.000000</td>\n",
              "    </tr>\n",
              "    <tr>\n",
              "      <th>mean</th>\n",
              "      <td>3.845052</td>\n",
              "      <td>120.894531</td>\n",
              "      <td>69.105469</td>\n",
              "      <td>20.536458</td>\n",
              "      <td>79.799479</td>\n",
              "      <td>31.992578</td>\n",
              "      <td>0.471876</td>\n",
              "      <td>33.240885</td>\n",
              "      <td>0.348958</td>\n",
              "    </tr>\n",
              "    <tr>\n",
              "      <th>std</th>\n",
              "      <td>3.369578</td>\n",
              "      <td>31.972618</td>\n",
              "      <td>19.355807</td>\n",
              "      <td>15.952218</td>\n",
              "      <td>115.244002</td>\n",
              "      <td>7.884160</td>\n",
              "      <td>0.331329</td>\n",
              "      <td>11.760232</td>\n",
              "      <td>0.476951</td>\n",
              "    </tr>\n",
              "    <tr>\n",
              "      <th>min</th>\n",
              "      <td>0.000000</td>\n",
              "      <td>0.000000</td>\n",
              "      <td>0.000000</td>\n",
              "      <td>0.000000</td>\n",
              "      <td>0.000000</td>\n",
              "      <td>0.000000</td>\n",
              "      <td>0.078000</td>\n",
              "      <td>21.000000</td>\n",
              "      <td>0.000000</td>\n",
              "    </tr>\n",
              "    <tr>\n",
              "      <th>25%</th>\n",
              "      <td>1.000000</td>\n",
              "      <td>99.000000</td>\n",
              "      <td>62.000000</td>\n",
              "      <td>0.000000</td>\n",
              "      <td>0.000000</td>\n",
              "      <td>27.300000</td>\n",
              "      <td>0.243750</td>\n",
              "      <td>24.000000</td>\n",
              "      <td>0.000000</td>\n",
              "    </tr>\n",
              "    <tr>\n",
              "      <th>50%</th>\n",
              "      <td>3.000000</td>\n",
              "      <td>117.000000</td>\n",
              "      <td>72.000000</td>\n",
              "      <td>23.000000</td>\n",
              "      <td>30.500000</td>\n",
              "      <td>32.000000</td>\n",
              "      <td>0.372500</td>\n",
              "      <td>29.000000</td>\n",
              "      <td>0.000000</td>\n",
              "    </tr>\n",
              "    <tr>\n",
              "      <th>75%</th>\n",
              "      <td>6.000000</td>\n",
              "      <td>140.250000</td>\n",
              "      <td>80.000000</td>\n",
              "      <td>32.000000</td>\n",
              "      <td>127.250000</td>\n",
              "      <td>36.600000</td>\n",
              "      <td>0.626250</td>\n",
              "      <td>41.000000</td>\n",
              "      <td>1.000000</td>\n",
              "    </tr>\n",
              "    <tr>\n",
              "      <th>max</th>\n",
              "      <td>17.000000</td>\n",
              "      <td>199.000000</td>\n",
              "      <td>122.000000</td>\n",
              "      <td>99.000000</td>\n",
              "      <td>846.000000</td>\n",
              "      <td>67.100000</td>\n",
              "      <td>2.420000</td>\n",
              "      <td>81.000000</td>\n",
              "      <td>1.000000</td>\n",
              "    </tr>\n",
              "  </tbody>\n",
              "</table>\n",
              "</div>\n",
              "    <div class=\"colab-df-buttons\">\n",
              "\n",
              "  <div class=\"colab-df-container\">\n",
              "    <button class=\"colab-df-convert\" onclick=\"convertToInteractive('df-0cf92f37-0ff6-4879-9f2d-6b311a7aeee7')\"\n",
              "            title=\"Convert this dataframe to an interactive table.\"\n",
              "            style=\"display:none;\">\n",
              "\n",
              "  <svg xmlns=\"http://www.w3.org/2000/svg\" height=\"24px\" viewBox=\"0 -960 960 960\">\n",
              "    <path d=\"M120-120v-720h720v720H120Zm60-500h600v-160H180v160Zm220 220h160v-160H400v160Zm0 220h160v-160H400v160ZM180-400h160v-160H180v160Zm440 0h160v-160H620v160ZM180-180h160v-160H180v160Zm440 0h160v-160H620v160Z\"/>\n",
              "  </svg>\n",
              "    </button>\n",
              "\n",
              "  <style>\n",
              "    .colab-df-container {\n",
              "      display:flex;\n",
              "      gap: 12px;\n",
              "    }\n",
              "\n",
              "    .colab-df-convert {\n",
              "      background-color: #E8F0FE;\n",
              "      border: none;\n",
              "      border-radius: 50%;\n",
              "      cursor: pointer;\n",
              "      display: none;\n",
              "      fill: #1967D2;\n",
              "      height: 32px;\n",
              "      padding: 0 0 0 0;\n",
              "      width: 32px;\n",
              "    }\n",
              "\n",
              "    .colab-df-convert:hover {\n",
              "      background-color: #E2EBFA;\n",
              "      box-shadow: 0px 1px 2px rgba(60, 64, 67, 0.3), 0px 1px 3px 1px rgba(60, 64, 67, 0.15);\n",
              "      fill: #174EA6;\n",
              "    }\n",
              "\n",
              "    .colab-df-buttons div {\n",
              "      margin-bottom: 4px;\n",
              "    }\n",
              "\n",
              "    [theme=dark] .colab-df-convert {\n",
              "      background-color: #3B4455;\n",
              "      fill: #D2E3FC;\n",
              "    }\n",
              "\n",
              "    [theme=dark] .colab-df-convert:hover {\n",
              "      background-color: #434B5C;\n",
              "      box-shadow: 0px 1px 3px 1px rgba(0, 0, 0, 0.15);\n",
              "      filter: drop-shadow(0px 1px 2px rgba(0, 0, 0, 0.3));\n",
              "      fill: #FFFFFF;\n",
              "    }\n",
              "  </style>\n",
              "\n",
              "    <script>\n",
              "      const buttonEl =\n",
              "        document.querySelector('#df-0cf92f37-0ff6-4879-9f2d-6b311a7aeee7 button.colab-df-convert');\n",
              "      buttonEl.style.display =\n",
              "        google.colab.kernel.accessAllowed ? 'block' : 'none';\n",
              "\n",
              "      async function convertToInteractive(key) {\n",
              "        const element = document.querySelector('#df-0cf92f37-0ff6-4879-9f2d-6b311a7aeee7');\n",
              "        const dataTable =\n",
              "          await google.colab.kernel.invokeFunction('convertToInteractive',\n",
              "                                                    [key], {});\n",
              "        if (!dataTable) return;\n",
              "\n",
              "        const docLinkHtml = 'Like what you see? Visit the ' +\n",
              "          '<a target=\"_blank\" href=https://colab.research.google.com/notebooks/data_table.ipynb>data table notebook</a>'\n",
              "          + ' to learn more about interactive tables.';\n",
              "        element.innerHTML = '';\n",
              "        dataTable['output_type'] = 'display_data';\n",
              "        await google.colab.output.renderOutput(dataTable, element);\n",
              "        const docLink = document.createElement('div');\n",
              "        docLink.innerHTML = docLinkHtml;\n",
              "        element.appendChild(docLink);\n",
              "      }\n",
              "    </script>\n",
              "  </div>\n",
              "\n",
              "\n",
              "<div id=\"df-7cd2bafa-2f50-4591-93d1-e389a29dae21\">\n",
              "  <button class=\"colab-df-quickchart\" onclick=\"quickchart('df-7cd2bafa-2f50-4591-93d1-e389a29dae21')\"\n",
              "            title=\"Suggest charts\"\n",
              "            style=\"display:none;\">\n",
              "\n",
              "<svg xmlns=\"http://www.w3.org/2000/svg\" height=\"24px\"viewBox=\"0 0 24 24\"\n",
              "     width=\"24px\">\n",
              "    <g>\n",
              "        <path d=\"M19 3H5c-1.1 0-2 .9-2 2v14c0 1.1.9 2 2 2h14c1.1 0 2-.9 2-2V5c0-1.1-.9-2-2-2zM9 17H7v-7h2v7zm4 0h-2V7h2v10zm4 0h-2v-4h2v4z\"/>\n",
              "    </g>\n",
              "</svg>\n",
              "  </button>\n",
              "\n",
              "<style>\n",
              "  .colab-df-quickchart {\n",
              "      --bg-color: #E8F0FE;\n",
              "      --fill-color: #1967D2;\n",
              "      --hover-bg-color: #E2EBFA;\n",
              "      --hover-fill-color: #174EA6;\n",
              "      --disabled-fill-color: #AAA;\n",
              "      --disabled-bg-color: #DDD;\n",
              "  }\n",
              "\n",
              "  [theme=dark] .colab-df-quickchart {\n",
              "      --bg-color: #3B4455;\n",
              "      --fill-color: #D2E3FC;\n",
              "      --hover-bg-color: #434B5C;\n",
              "      --hover-fill-color: #FFFFFF;\n",
              "      --disabled-bg-color: #3B4455;\n",
              "      --disabled-fill-color: #666;\n",
              "  }\n",
              "\n",
              "  .colab-df-quickchart {\n",
              "    background-color: var(--bg-color);\n",
              "    border: none;\n",
              "    border-radius: 50%;\n",
              "    cursor: pointer;\n",
              "    display: none;\n",
              "    fill: var(--fill-color);\n",
              "    height: 32px;\n",
              "    padding: 0;\n",
              "    width: 32px;\n",
              "  }\n",
              "\n",
              "  .colab-df-quickchart:hover {\n",
              "    background-color: var(--hover-bg-color);\n",
              "    box-shadow: 0 1px 2px rgba(60, 64, 67, 0.3), 0 1px 3px 1px rgba(60, 64, 67, 0.15);\n",
              "    fill: var(--button-hover-fill-color);\n",
              "  }\n",
              "\n",
              "  .colab-df-quickchart-complete:disabled,\n",
              "  .colab-df-quickchart-complete:disabled:hover {\n",
              "    background-color: var(--disabled-bg-color);\n",
              "    fill: var(--disabled-fill-color);\n",
              "    box-shadow: none;\n",
              "  }\n",
              "\n",
              "  .colab-df-spinner {\n",
              "    border: 2px solid var(--fill-color);\n",
              "    border-color: transparent;\n",
              "    border-bottom-color: var(--fill-color);\n",
              "    animation:\n",
              "      spin 1s steps(1) infinite;\n",
              "  }\n",
              "\n",
              "  @keyframes spin {\n",
              "    0% {\n",
              "      border-color: transparent;\n",
              "      border-bottom-color: var(--fill-color);\n",
              "      border-left-color: var(--fill-color);\n",
              "    }\n",
              "    20% {\n",
              "      border-color: transparent;\n",
              "      border-left-color: var(--fill-color);\n",
              "      border-top-color: var(--fill-color);\n",
              "    }\n",
              "    30% {\n",
              "      border-color: transparent;\n",
              "      border-left-color: var(--fill-color);\n",
              "      border-top-color: var(--fill-color);\n",
              "      border-right-color: var(--fill-color);\n",
              "    }\n",
              "    40% {\n",
              "      border-color: transparent;\n",
              "      border-right-color: var(--fill-color);\n",
              "      border-top-color: var(--fill-color);\n",
              "    }\n",
              "    60% {\n",
              "      border-color: transparent;\n",
              "      border-right-color: var(--fill-color);\n",
              "    }\n",
              "    80% {\n",
              "      border-color: transparent;\n",
              "      border-right-color: var(--fill-color);\n",
              "      border-bottom-color: var(--fill-color);\n",
              "    }\n",
              "    90% {\n",
              "      border-color: transparent;\n",
              "      border-bottom-color: var(--fill-color);\n",
              "    }\n",
              "  }\n",
              "</style>\n",
              "\n",
              "  <script>\n",
              "    async function quickchart(key) {\n",
              "      const quickchartButtonEl =\n",
              "        document.querySelector('#' + key + ' button');\n",
              "      quickchartButtonEl.disabled = true;  // To prevent multiple clicks.\n",
              "      quickchartButtonEl.classList.add('colab-df-spinner');\n",
              "      try {\n",
              "        const charts = await google.colab.kernel.invokeFunction(\n",
              "            'suggestCharts', [key], {});\n",
              "      } catch (error) {\n",
              "        console.error('Error during call to suggestCharts:', error);\n",
              "      }\n",
              "      quickchartButtonEl.classList.remove('colab-df-spinner');\n",
              "      quickchartButtonEl.classList.add('colab-df-quickchart-complete');\n",
              "    }\n",
              "    (() => {\n",
              "      let quickchartButtonEl =\n",
              "        document.querySelector('#df-7cd2bafa-2f50-4591-93d1-e389a29dae21 button');\n",
              "      quickchartButtonEl.style.display =\n",
              "        google.colab.kernel.accessAllowed ? 'block' : 'none';\n",
              "    })();\n",
              "  </script>\n",
              "</div>\n",
              "\n",
              "    </div>\n",
              "  </div>\n"
            ],
            "application/vnd.google.colaboratory.intrinsic+json": {
              "type": "dataframe",
              "summary": "{\n  \"name\": \"diabetes_data\",\n  \"rows\": 8,\n  \"fields\": [\n    {\n      \"column\": \"Pregnancies\",\n      \"properties\": {\n        \"dtype\": \"number\",\n        \"std\": 269.85223453356366,\n        \"min\": 0.0,\n        \"max\": 768.0,\n        \"num_unique_values\": 8,\n        \"samples\": [\n          3.8450520833333335,\n          3.0,\n          768.0\n        ],\n        \"semantic_type\": \"\",\n        \"description\": \"\"\n      }\n    },\n    {\n      \"column\": \"Glucose\",\n      \"properties\": {\n        \"dtype\": \"number\",\n        \"std\": 243.73802348295857,\n        \"min\": 0.0,\n        \"max\": 768.0,\n        \"num_unique_values\": 8,\n        \"samples\": [\n          120.89453125,\n          117.0,\n          768.0\n        ],\n        \"semantic_type\": \"\",\n        \"description\": \"\"\n      }\n    },\n    {\n      \"column\": \"BloodPressure\",\n      \"properties\": {\n        \"dtype\": \"number\",\n        \"std\": 252.8525053581062,\n        \"min\": 0.0,\n        \"max\": 768.0,\n        \"num_unique_values\": 8,\n        \"samples\": [\n          69.10546875,\n          72.0,\n          768.0\n        ],\n        \"semantic_type\": \"\",\n        \"description\": \"\"\n      }\n    },\n    {\n      \"column\": \"SkinThickness\",\n      \"properties\": {\n        \"dtype\": \"number\",\n        \"std\": 263.7684730531098,\n        \"min\": 0.0,\n        \"max\": 768.0,\n        \"num_unique_values\": 7,\n        \"samples\": [\n          768.0,\n          20.536458333333332,\n          32.0\n        ],\n        \"semantic_type\": \"\",\n        \"description\": \"\"\n      }\n    },\n    {\n      \"column\": \"Insulin\",\n      \"properties\": {\n        \"dtype\": \"number\",\n        \"std\": 350.26059167945886,\n        \"min\": 0.0,\n        \"max\": 846.0,\n        \"num_unique_values\": 7,\n        \"samples\": [\n          768.0,\n          79.79947916666667,\n          127.25\n        ],\n        \"semantic_type\": \"\",\n        \"description\": \"\"\n      }\n    },\n    {\n      \"column\": \"BMI\",\n      \"properties\": {\n        \"dtype\": \"number\",\n        \"std\": 262.05117817552093,\n        \"min\": 0.0,\n        \"max\": 768.0,\n        \"num_unique_values\": 8,\n        \"samples\": [\n          31.992578124999998,\n          32.0,\n          768.0\n        ],\n        \"semantic_type\": \"\",\n        \"description\": \"\"\n      }\n    },\n    {\n      \"column\": \"DiabetesPedigreeFunction\",\n      \"properties\": {\n        \"dtype\": \"number\",\n        \"std\": 271.3005221658502,\n        \"min\": 0.078,\n        \"max\": 768.0,\n        \"num_unique_values\": 8,\n        \"samples\": [\n          0.47187630208333325,\n          0.3725,\n          768.0\n        ],\n        \"semantic_type\": \"\",\n        \"description\": \"\"\n      }\n    },\n    {\n      \"column\": \"Age\",\n      \"properties\": {\n        \"dtype\": \"number\",\n        \"std\": 260.1941178528413,\n        \"min\": 11.760231540678685,\n        \"max\": 768.0,\n        \"num_unique_values\": 8,\n        \"samples\": [\n          33.240885416666664,\n          29.0,\n          768.0\n        ],\n        \"semantic_type\": \"\",\n        \"description\": \"\"\n      }\n    },\n    {\n      \"column\": \"Outcome\",\n      \"properties\": {\n        \"dtype\": \"number\",\n        \"std\": 271.3865920388932,\n        \"min\": 0.0,\n        \"max\": 768.0,\n        \"num_unique_values\": 5,\n        \"samples\": [\n          0.3489583333333333,\n          1.0,\n          0.47695137724279896\n        ],\n        \"semantic_type\": \"\",\n        \"description\": \"\"\n      }\n    }\n  ]\n}"
            }
          },
          "metadata": {},
          "execution_count": 36
        }
      ]
    },
    {
      "cell_type": "markdown",
      "source": [
        "- `min()` 값이 0으로 돼 있는 피처가 상당히 많다\n",
        "- Glucose 피처: 포도당 수치, 0인 것은 말이 되지 않음\n",
        "- 히스토그램 확인하면 0 값 일정 수준 존재"
      ],
      "metadata": {
        "id": "IxFmJ2iIWNCJ"
      }
    },
    {
      "cell_type": "code",
      "source": [
        "plt.hist(diabetes_data['Glucose'], bins=100)\n",
        "plt.show()"
      ],
      "metadata": {
        "colab": {
          "base_uri": "https://localhost:8080/",
          "height": 430
        },
        "id": "z80_vGf-TPF3",
        "outputId": "26b90c4f-621c-46bc-b8be-94bdd5c2411e"
      },
      "execution_count": 37,
      "outputs": [
        {
          "output_type": "display_data",
          "data": {
            "text/plain": [
              "<Figure size 640x480 with 1 Axes>"
            ],
            "image/png": "[encoded data removed]"
          },
          "metadata": {}
        }
      ]
    },
    {
      "cell_type": "markdown",
      "source": [
        "0 값의 건수 및 전체 데이터 건수 대비 몇 퍼센트 비율로 존재하는지 확인"
      ],
      "metadata": {
        "id": "LWqh5ycRWfG_"
      }
    },
    {
      "cell_type": "code",
      "source": [
        "# 0값을 검사할 피처명 리스트 객체 설정\n",
        "zero_features = ['Glucose', 'BloodPressure','SkinThickness','Insulin','BMI']\n",
        "\n",
        "# 전체 데이터 건수\n",
        "total_count = diabetes_data['Glucose'].count()\n",
        "\n",
        "# 피처별로 반복 하면서 데이터 값이 0 인 데이터 건수 추출하고, 퍼센트 계산\n",
        "for feature in zero_features:\n",
        "    zero_count = diabetes_data[diabetes_data[feature] == 0][feature].count()\n",
        "    print('{0} 0 건수는 {1}, 퍼센트는 {2:.2f} %'.format(feature, zero_count, 100*zero_count/total_count))"
      ],
      "metadata": {
        "colab": {
          "base_uri": "https://localhost:8080/"
        },
        "id": "UXdcxqr0TQi3",
        "outputId": "805f6ada-80a5-49b3-deb3-2a333ddcf2b8"
      },
      "execution_count": 38,
      "outputs": [
        {
          "output_type": "stream",
          "name": "stdout",
          "text": [
            "Glucose 0 건수는 5, 퍼센트는 0.65 %\n",
            "BloodPressure 0 건수는 35, 퍼센트는 4.56 %\n",
            "SkinThickness 0 건수는 227, 퍼센트는 29.56 %\n",
            "Insulin 0 건수는 374, 퍼센트는 48.70 %\n",
            "BMI 0 건수는 11, 퍼센트는 1.43 %\n"
          ]
        }
      ]
    },
    {
      "cell_type": "markdown",
      "source": [
        "- SkinThickness와 Insulin의 0 값이 많다\n",
        "- 전체 데이터 건수 많지 않기 때문에 데이터 삭제할 경우 학습 효과적으로 수행하기 어려움\n",
        "- 0값을 평균값으로 대체"
      ],
      "metadata": {
        "id": "V3aIoxhAW5Lc"
      }
    },
    {
      "cell_type": "code",
      "source": [
        "# zero_features 리스트 내부에 저장된 개별 피처들에 대해서 0값을 평균 값으로 대체\n",
        "mean_zero_features = diabetes_data[zero_features].mean()\n",
        "diabetes_data[zero_features]=diabetes_data[zero_features].replace(0, mean_zero_features)"
      ],
      "metadata": {
        "id": "mD1UsGtXTSN8"
      },
      "execution_count": 39,
      "outputs": []
    },
    {
      "cell_type": "markdown",
      "source": [
        "로지스틱 회귀: 숫자 데이터에 스케일링 적용이 좋다"
      ],
      "metadata": {
        "id": "GPeJrmWtXJJi"
      }
    },
    {
      "cell_type": "code",
      "source": [
        "X = diabetes_data.iloc[:, :-1]\n",
        "y = diabetes_data.iloc[:, -1]\n",
        "\n",
        "# StandardScaler 클래스를 이용해 피처 데이터 세트에 일괄적으로 스케일링 적용\n",
        "scaler = StandardScaler( )\n",
        "X_scaled = scaler.fit_transform(X)\n",
        "\n",
        "X_train, X_test, y_train, y_test = train_test_split(X_scaled, y, test_size = 0.2, random_state = 156, stratify=y)\n",
        "\n",
        "# 로지스틱 회귀로 학습, 예측 및 평가 수행.\n",
        "lr_clf = LogisticRegression()\n",
        "lr_clf.fit(X_train , y_train)\n",
        "pred = lr_clf.predict(X_test)\n",
        "pred_proba = lr_clf.predict_proba(X_test)[:, 1]\n",
        "\n",
        "get_clf_eval(y_test , pred, pred_proba)"
      ],
      "metadata": {
        "colab": {
          "base_uri": "https://localhost:8080/"
        },
        "id": "w2RZ0EcxTUh8",
        "outputId": "9c29755d-eaab-4ce7-f7a1-9fe1db6cc7db"
      },
      "execution_count": 40,
      "outputs": [
        {
          "output_type": "stream",
          "name": "stdout",
          "text": [
            "오차 행렬\n",
            "[[90 10]\n",
            " [21 33]]\n",
            "정확도: 0.7987, 정밀도: 0.7674, 재현율: 0.6111,    F1: 0.6804, AUC:0.8433\n"
          ]
        }
      ]
    },
    {
      "cell_type": "markdown",
      "source": [
        "- 데이터 변환과 스케일링 통해 성능 수치 일정 수준 개선됨\n",
        "- 여전히 재현율 수치는 개선 필요\n",
        "- 분류 결정 임곗값 변화시키면서 재현율 값의 성능 수치 개선 확인"
      ],
      "metadata": {
        "id": "77_cycMpXR-E"
      }
    },
    {
      "cell_type": "code",
      "source": [
        "from sklearn.preprocessing import Binarizer\n",
        "\n",
        "def get_eval_by_threshold(y_test , pred_proba_c1, thresholds):\n",
        "    # thresholds 리스트 객체내의 값을 차례로 iteration하면서 Evaluation 수행.\n",
        "    for custom_threshold in thresholds:\n",
        "        binarizer = Binarizer(threshold=custom_threshold).fit(pred_proba_c1)\n",
        "        custom_predict = binarizer.transform(pred_proba_c1)\n",
        "        print('임곗값:',custom_threshold)\n",
        "        get_clf_eval(y_test , custom_predict, pred_proba_c1)"
      ],
      "metadata": {
        "id": "hOSqyuvmTXGw"
      },
      "execution_count": 41,
      "outputs": []
    },
    {
      "cell_type": "code",
      "source": [
        "thresholds = [0.3 , 0.33 ,0.36,0.39, 0.42 , 0.45 ,0.48, 0.50]\n",
        "pred_proba = lr_clf.predict_proba(X_test)\n",
        "get_eval_by_threshold(y_test, pred_proba[:,1].reshape(-1,1), thresholds )"
      ],
      "metadata": {
        "colab": {
          "base_uri": "https://localhost:8080/"
        },
        "id": "LyilZfFeTZAA",
        "outputId": "9fc1e602-f825-4ba7-f30a-b17b1e97c5b3"
      },
      "execution_count": 42,
      "outputs": [
        {
          "output_type": "stream",
          "name": "stdout",
          "text": [
            "임곗값: 0.3\n",
            "오차 행렬\n",
            "[[67 33]\n",
            " [11 43]]\n",
            "정확도: 0.7143, 정밀도: 0.5658, 재현율: 0.7963,    F1: 0.6615, AUC:0.8433\n",
            "임곗값: 0.33\n",
            "오차 행렬\n",
            "[[72 28]\n",
            " [12 42]]\n",
            "정확도: 0.7403, 정밀도: 0.6000, 재현율: 0.7778,    F1: 0.6774, AUC:0.8433\n",
            "임곗값: 0.36\n",
            "오차 행렬\n",
            "[[76 24]\n",
            " [15 39]]\n",
            "정확도: 0.7468, 정밀도: 0.6190, 재현율: 0.7222,    F1: 0.6667, AUC:0.8433\n",
            "임곗값: 0.39\n",
            "오차 행렬\n",
            "[[78 22]\n",
            " [16 38]]\n",
            "정확도: 0.7532, 정밀도: 0.6333, 재현율: 0.7037,    F1: 0.6667, AUC:0.8433\n",
            "임곗값: 0.42\n",
            "오차 행렬\n",
            "[[84 16]\n",
            " [18 36]]\n",
            "정확도: 0.7792, 정밀도: 0.6923, 재현율: 0.6667,    F1: 0.6792, AUC:0.8433\n",
            "임곗값: 0.45\n",
            "오차 행렬\n",
            "[[85 15]\n",
            " [18 36]]\n",
            "정확도: 0.7857, 정밀도: 0.7059, 재현율: 0.6667,    F1: 0.6857, AUC:0.8433\n",
            "임곗값: 0.48\n",
            "오차 행렬\n",
            "[[88 12]\n",
            " [19 35]]\n",
            "정확도: 0.7987, 정밀도: 0.7447, 재현율: 0.6481,    F1: 0.6931, AUC:0.8433\n",
            "임곗값: 0.5\n",
            "오차 행렬\n",
            "[[90 10]\n",
            " [21 33]]\n",
            "정확도: 0.7987, 정밀도: 0.7674, 재현율: 0.6111,    F1: 0.6804, AUC:0.8433\n"
          ]
        }
      ]
    },
    {
      "cell_type": "code",
      "source": [
        "# 임곗값를 0.48로 설정한 Binarizer 생성\n",
        "binarizer = Binarizer(threshold=0.48)\n",
        "\n",
        "# 위에서 구한 lr_clf의 predict_proba() 예측 확률 array에서 1에 해당하는 컬럼값을 Binarizer변환.\n",
        "pred_th_048 = binarizer.fit_transform(pred_proba[:, 1].reshape(-1,1))\n",
        "\n",
        "get_clf_eval(y_test , pred_th_048, pred_proba[:, 1])\n"
      ],
      "metadata": {
        "colab": {
          "base_uri": "https://localhost:8080/"
        },
        "id": "KJukFQldTarX",
        "outputId": "8e3f4d11-a557-4e27-a2a1-0b28282d1063"
      },
      "execution_count": 43,
      "outputs": [
        {
          "output_type": "stream",
          "name": "stdout",
          "text": [
            "오차 행렬\n",
            "[[88 12]\n",
            " [19 35]]\n",
            "정확도: 0.7987, 정밀도: 0.7447, 재현율: 0.6481,    F1: 0.6931, AUC:0.8433\n"
          ]
        }
      ]
    }
  ]
}